{
  "nbformat": 4,
  "nbformat_minor": 0,
  "metadata": {
    "accelerator": "GPU",
    "colab": {
      "name": "updated_deepti_code.ipynb",
      "provenance": [],
      "collapsed_sections": [
        "zqwpVhCBbEzQ",
        "0MIBEi9QbEzQ",
        "v_kQwXpPbEzQ",
        "sYEOe6GfbEzQ"
      ]
    },
    "kernelspec": {
      "display_name": "Python 3",
      "language": "python",
      "name": "python3"
    },
    "language_info": {
      "codemirror_mode": {
        "name": "ipython",
        "version": 3
      },
      "file_extension": ".py",
      "mimetype": "text/x-python",
      "name": "python",
      "nbconvert_exporter": "python",
      "pygments_lexer": "ipython3",
      "version": "3.7.11"
    },
    "widgets": {
      "application/vnd.jupyter.widget-state+json": {
        "642bed2df4d54c2cb674eacb3ada4bc8": {
          "model_module": "@jupyter-widgets/controls",
          "model_name": "HBoxModel",
          "model_module_version": "1.5.0",
          "state": {
            "_view_name": "HBoxView",
            "_dom_classes": [],
            "_model_name": "HBoxModel",
            "_view_module": "@jupyter-widgets/controls",
            "_model_module_version": "1.5.0",
            "_view_count": null,
            "_view_module_version": "1.5.0",
            "box_style": "",
            "layout": "IPY_MODEL_f6fbae9541204779bf7976d604d6da5d",
            "_model_module": "@jupyter-widgets/controls",
            "children": [
              "IPY_MODEL_e9eabffb1e304d3683b6f09837714ced",
              "IPY_MODEL_6281e7819d0d4eecb9b454d79ea64e8d",
              "IPY_MODEL_e0163d7c791d43c18c6a771b9b991ca0"
            ]
          }
        },
        "f6fbae9541204779bf7976d604d6da5d": {
          "model_module": "@jupyter-widgets/base",
          "model_name": "LayoutModel",
          "model_module_version": "1.2.0",
          "state": {
            "_view_name": "LayoutView",
            "grid_template_rows": null,
            "right": null,
            "justify_content": null,
            "_view_module": "@jupyter-widgets/base",
            "overflow": null,
            "_model_module_version": "1.2.0",
            "_view_count": null,
            "flex_flow": null,
            "width": null,
            "min_width": null,
            "border": null,
            "align_items": null,
            "bottom": null,
            "_model_module": "@jupyter-widgets/base",
            "top": null,
            "grid_column": null,
            "overflow_y": null,
            "overflow_x": null,
            "grid_auto_flow": null,
            "grid_area": null,
            "grid_template_columns": null,
            "flex": null,
            "_model_name": "LayoutModel",
            "justify_items": null,
            "grid_row": null,
            "max_height": null,
            "align_content": null,
            "visibility": null,
            "align_self": null,
            "height": null,
            "min_height": null,
            "padding": null,
            "grid_auto_rows": null,
            "grid_gap": null,
            "max_width": null,
            "order": null,
            "_view_module_version": "1.2.0",
            "grid_template_areas": null,
            "object_position": null,
            "object_fit": null,
            "grid_auto_columns": null,
            "margin": null,
            "display": null,
            "left": null
          }
        },
        "e9eabffb1e304d3683b6f09837714ced": {
          "model_module": "@jupyter-widgets/controls",
          "model_name": "HTMLModel",
          "model_module_version": "1.5.0",
          "state": {
            "_view_name": "HTMLView",
            "style": "IPY_MODEL_c5092cf477664f46b5e1c7301127467c",
            "_dom_classes": [],
            "description": "",
            "_model_name": "HTMLModel",
            "placeholder": "​",
            "_view_module": "@jupyter-widgets/controls",
            "_model_module_version": "1.5.0",
            "value": "Downloading: 100%",
            "_view_count": null,
            "_view_module_version": "1.5.0",
            "description_tooltip": null,
            "_model_module": "@jupyter-widgets/controls",
            "layout": "IPY_MODEL_0dba371910c841ee97b422ac70a374f9"
          }
        },
        "6281e7819d0d4eecb9b454d79ea64e8d": {
          "model_module": "@jupyter-widgets/controls",
          "model_name": "FloatProgressModel",
          "model_module_version": "1.5.0",
          "state": {
            "_view_name": "ProgressView",
            "style": "IPY_MODEL_a75466f466cc4154a7294f1bbb98ac1f",
            "_dom_classes": [],
            "description": "",
            "_model_name": "FloatProgressModel",
            "bar_style": "success",
            "max": 443,
            "_view_module": "@jupyter-widgets/controls",
            "_model_module_version": "1.5.0",
            "value": 443,
            "_view_count": null,
            "_view_module_version": "1.5.0",
            "orientation": "horizontal",
            "min": 0,
            "description_tooltip": null,
            "_model_module": "@jupyter-widgets/controls",
            "layout": "IPY_MODEL_a8bdd7e6d5034ea480cb31de29dfb5c6"
          }
        },
        "e0163d7c791d43c18c6a771b9b991ca0": {
          "model_module": "@jupyter-widgets/controls",
          "model_name": "HTMLModel",
          "model_module_version": "1.5.0",
          "state": {
            "_view_name": "HTMLView",
            "style": "IPY_MODEL_ed10a0ebdf224605ada6c91f4d92ec19",
            "_dom_classes": [],
            "description": "",
            "_model_name": "HTMLModel",
            "placeholder": "​",
            "_view_module": "@jupyter-widgets/controls",
            "_model_module_version": "1.5.0",
            "value": " 443/443 [00:00&lt;00:00, 10.9kB/s]",
            "_view_count": null,
            "_view_module_version": "1.5.0",
            "description_tooltip": null,
            "_model_module": "@jupyter-widgets/controls",
            "layout": "IPY_MODEL_4acbc2b837f7421d939f12e59e78bb34"
          }
        },
        "c5092cf477664f46b5e1c7301127467c": {
          "model_module": "@jupyter-widgets/controls",
          "model_name": "DescriptionStyleModel",
          "model_module_version": "1.5.0",
          "state": {
            "_view_name": "StyleView",
            "_model_name": "DescriptionStyleModel",
            "description_width": "",
            "_view_module": "@jupyter-widgets/base",
            "_model_module_version": "1.5.0",
            "_view_count": null,
            "_view_module_version": "1.2.0",
            "_model_module": "@jupyter-widgets/controls"
          }
        },
        "0dba371910c841ee97b422ac70a374f9": {
          "model_module": "@jupyter-widgets/base",
          "model_name": "LayoutModel",
          "model_module_version": "1.2.0",
          "state": {
            "_view_name": "LayoutView",
            "grid_template_rows": null,
            "right": null,
            "justify_content": null,
            "_view_module": "@jupyter-widgets/base",
            "overflow": null,
            "_model_module_version": "1.2.0",
            "_view_count": null,
            "flex_flow": null,
            "width": null,
            "min_width": null,
            "border": null,
            "align_items": null,
            "bottom": null,
            "_model_module": "@jupyter-widgets/base",
            "top": null,
            "grid_column": null,
            "overflow_y": null,
            "overflow_x": null,
            "grid_auto_flow": null,
            "grid_area": null,
            "grid_template_columns": null,
            "flex": null,
            "_model_name": "LayoutModel",
            "justify_items": null,
            "grid_row": null,
            "max_height": null,
            "align_content": null,
            "visibility": null,
            "align_self": null,
            "height": null,
            "min_height": null,
            "padding": null,
            "grid_auto_rows": null,
            "grid_gap": null,
            "max_width": null,
            "order": null,
            "_view_module_version": "1.2.0",
            "grid_template_areas": null,
            "object_position": null,
            "object_fit": null,
            "grid_auto_columns": null,
            "margin": null,
            "display": null,
            "left": null
          }
        },
        "a75466f466cc4154a7294f1bbb98ac1f": {
          "model_module": "@jupyter-widgets/controls",
          "model_name": "ProgressStyleModel",
          "model_module_version": "1.5.0",
          "state": {
            "_view_name": "StyleView",
            "_model_name": "ProgressStyleModel",
            "description_width": "",
            "_view_module": "@jupyter-widgets/base",
            "_model_module_version": "1.5.0",
            "_view_count": null,
            "_view_module_version": "1.2.0",
            "bar_color": null,
            "_model_module": "@jupyter-widgets/controls"
          }
        },
        "a8bdd7e6d5034ea480cb31de29dfb5c6": {
          "model_module": "@jupyter-widgets/base",
          "model_name": "LayoutModel",
          "model_module_version": "1.2.0",
          "state": {
            "_view_name": "LayoutView",
            "grid_template_rows": null,
            "right": null,
            "justify_content": null,
            "_view_module": "@jupyter-widgets/base",
            "overflow": null,
            "_model_module_version": "1.2.0",
            "_view_count": null,
            "flex_flow": null,
            "width": null,
            "min_width": null,
            "border": null,
            "align_items": null,
            "bottom": null,
            "_model_module": "@jupyter-widgets/base",
            "top": null,
            "grid_column": null,
            "overflow_y": null,
            "overflow_x": null,
            "grid_auto_flow": null,
            "grid_area": null,
            "grid_template_columns": null,
            "flex": null,
            "_model_name": "LayoutModel",
            "justify_items": null,
            "grid_row": null,
            "max_height": null,
            "align_content": null,
            "visibility": null,
            "align_self": null,
            "height": null,
            "min_height": null,
            "padding": null,
            "grid_auto_rows": null,
            "grid_gap": null,
            "max_width": null,
            "order": null,
            "_view_module_version": "1.2.0",
            "grid_template_areas": null,
            "object_position": null,
            "object_fit": null,
            "grid_auto_columns": null,
            "margin": null,
            "display": null,
            "left": null
          }
        },
        "ed10a0ebdf224605ada6c91f4d92ec19": {
          "model_module": "@jupyter-widgets/controls",
          "model_name": "DescriptionStyleModel",
          "model_module_version": "1.5.0",
          "state": {
            "_view_name": "StyleView",
            "_model_name": "DescriptionStyleModel",
            "description_width": "",
            "_view_module": "@jupyter-widgets/base",
            "_model_module_version": "1.5.0",
            "_view_count": null,
            "_view_module_version": "1.2.0",
            "_model_module": "@jupyter-widgets/controls"
          }
        },
        "4acbc2b837f7421d939f12e59e78bb34": {
          "model_module": "@jupyter-widgets/base",
          "model_name": "LayoutModel",
          "model_module_version": "1.2.0",
          "state": {
            "_view_name": "LayoutView",
            "grid_template_rows": null,
            "right": null,
            "justify_content": null,
            "_view_module": "@jupyter-widgets/base",
            "overflow": null,
            "_model_module_version": "1.2.0",
            "_view_count": null,
            "flex_flow": null,
            "width": null,
            "min_width": null,
            "border": null,
            "align_items": null,
            "bottom": null,
            "_model_module": "@jupyter-widgets/base",
            "top": null,
            "grid_column": null,
            "overflow_y": null,
            "overflow_x": null,
            "grid_auto_flow": null,
            "grid_area": null,
            "grid_template_columns": null,
            "flex": null,
            "_model_name": "LayoutModel",
            "justify_items": null,
            "grid_row": null,
            "max_height": null,
            "align_content": null,
            "visibility": null,
            "align_self": null,
            "height": null,
            "min_height": null,
            "padding": null,
            "grid_auto_rows": null,
            "grid_gap": null,
            "max_width": null,
            "order": null,
            "_view_module_version": "1.2.0",
            "grid_template_areas": null,
            "object_position": null,
            "object_fit": null,
            "grid_auto_columns": null,
            "margin": null,
            "display": null,
            "left": null
          }
        },
        "3bd4a7334a9e43ad87975e68a38838db": {
          "model_module": "@jupyter-widgets/controls",
          "model_name": "HBoxModel",
          "model_module_version": "1.5.0",
          "state": {
            "_view_name": "HBoxView",
            "_dom_classes": [],
            "_model_name": "HBoxModel",
            "_view_module": "@jupyter-widgets/controls",
            "_model_module_version": "1.5.0",
            "_view_count": null,
            "_view_module_version": "1.5.0",
            "box_style": "",
            "layout": "IPY_MODEL_36408685a9284481aa15e5b7968dbff1",
            "_model_module": "@jupyter-widgets/controls",
            "children": [
              "IPY_MODEL_7d8d2efc35c9456ba7c63cc6441eabfa",
              "IPY_MODEL_cbc09fc2420c4ed890b47c12e74c09d8",
              "IPY_MODEL_2c83157f45fa47078fdd9c7bc14020f6"
            ]
          }
        },
        "36408685a9284481aa15e5b7968dbff1": {
          "model_module": "@jupyter-widgets/base",
          "model_name": "LayoutModel",
          "model_module_version": "1.2.0",
          "state": {
            "_view_name": "LayoutView",
            "grid_template_rows": null,
            "right": null,
            "justify_content": null,
            "_view_module": "@jupyter-widgets/base",
            "overflow": null,
            "_model_module_version": "1.2.0",
            "_view_count": null,
            "flex_flow": null,
            "width": null,
            "min_width": null,
            "border": null,
            "align_items": null,
            "bottom": null,
            "_model_module": "@jupyter-widgets/base",
            "top": null,
            "grid_column": null,
            "overflow_y": null,
            "overflow_x": null,
            "grid_auto_flow": null,
            "grid_area": null,
            "grid_template_columns": null,
            "flex": null,
            "_model_name": "LayoutModel",
            "justify_items": null,
            "grid_row": null,
            "max_height": null,
            "align_content": null,
            "visibility": null,
            "align_self": null,
            "height": null,
            "min_height": null,
            "padding": null,
            "grid_auto_rows": null,
            "grid_gap": null,
            "max_width": null,
            "order": null,
            "_view_module_version": "1.2.0",
            "grid_template_areas": null,
            "object_position": null,
            "object_fit": null,
            "grid_auto_columns": null,
            "margin": null,
            "display": null,
            "left": null
          }
        },
        "7d8d2efc35c9456ba7c63cc6441eabfa": {
          "model_module": "@jupyter-widgets/controls",
          "model_name": "HTMLModel",
          "model_module_version": "1.5.0",
          "state": {
            "_view_name": "HTMLView",
            "style": "IPY_MODEL_8a30e1fc603e467a8739ead3716f2e6c",
            "_dom_classes": [],
            "description": "",
            "_model_name": "HTMLModel",
            "placeholder": "​",
            "_view_module": "@jupyter-widgets/controls",
            "_model_module_version": "1.5.0",
            "value": "Downloading: 100%",
            "_view_count": null,
            "_view_module_version": "1.5.0",
            "description_tooltip": null,
            "_model_module": "@jupyter-widgets/controls",
            "layout": "IPY_MODEL_f3488b2e7e1e4225a7c9483e4bf3c336"
          }
        },
        "cbc09fc2420c4ed890b47c12e74c09d8": {
          "model_module": "@jupyter-widgets/controls",
          "model_name": "FloatProgressModel",
          "model_module_version": "1.5.0",
          "state": {
            "_view_name": "ProgressView",
            "style": "IPY_MODEL_f0fe12dbf48447349c60cd9576ec0f3b",
            "_dom_classes": [],
            "description": "",
            "_model_name": "FloatProgressModel",
            "bar_style": "success",
            "max": 1340675298,
            "_view_module": "@jupyter-widgets/controls",
            "_model_module_version": "1.5.0",
            "value": 1340675298,
            "_view_count": null,
            "_view_module_version": "1.5.0",
            "orientation": "horizontal",
            "min": 0,
            "description_tooltip": null,
            "_model_module": "@jupyter-widgets/controls",
            "layout": "IPY_MODEL_ed81320d01b54257a73566ee096d4005"
          }
        },
        "2c83157f45fa47078fdd9c7bc14020f6": {
          "model_module": "@jupyter-widgets/controls",
          "model_name": "HTMLModel",
          "model_module_version": "1.5.0",
          "state": {
            "_view_name": "HTMLView",
            "style": "IPY_MODEL_114ec0c5c16b41809a3a298fa03e3239",
            "_dom_classes": [],
            "description": "",
            "_model_name": "HTMLModel",
            "placeholder": "​",
            "_view_module": "@jupyter-widgets/controls",
            "_model_module_version": "1.5.0",
            "value": " 1.25G/1.25G [00:57&lt;00:00, 17.9MB/s]",
            "_view_count": null,
            "_view_module_version": "1.5.0",
            "description_tooltip": null,
            "_model_module": "@jupyter-widgets/controls",
            "layout": "IPY_MODEL_85ab2fc4fd614c69bfc4bf033ff400c2"
          }
        },
        "8a30e1fc603e467a8739ead3716f2e6c": {
          "model_module": "@jupyter-widgets/controls",
          "model_name": "DescriptionStyleModel",
          "model_module_version": "1.5.0",
          "state": {
            "_view_name": "StyleView",
            "_model_name": "DescriptionStyleModel",
            "description_width": "",
            "_view_module": "@jupyter-widgets/base",
            "_model_module_version": "1.5.0",
            "_view_count": null,
            "_view_module_version": "1.2.0",
            "_model_module": "@jupyter-widgets/controls"
          }
        },
        "f3488b2e7e1e4225a7c9483e4bf3c336": {
          "model_module": "@jupyter-widgets/base",
          "model_name": "LayoutModel",
          "model_module_version": "1.2.0",
          "state": {
            "_view_name": "LayoutView",
            "grid_template_rows": null,
            "right": null,
            "justify_content": null,
            "_view_module": "@jupyter-widgets/base",
            "overflow": null,
            "_model_module_version": "1.2.0",
            "_view_count": null,
            "flex_flow": null,
            "width": null,
            "min_width": null,
            "border": null,
            "align_items": null,
            "bottom": null,
            "_model_module": "@jupyter-widgets/base",
            "top": null,
            "grid_column": null,
            "overflow_y": null,
            "overflow_x": null,
            "grid_auto_flow": null,
            "grid_area": null,
            "grid_template_columns": null,
            "flex": null,
            "_model_name": "LayoutModel",
            "justify_items": null,
            "grid_row": null,
            "max_height": null,
            "align_content": null,
            "visibility": null,
            "align_self": null,
            "height": null,
            "min_height": null,
            "padding": null,
            "grid_auto_rows": null,
            "grid_gap": null,
            "max_width": null,
            "order": null,
            "_view_module_version": "1.2.0",
            "grid_template_areas": null,
            "object_position": null,
            "object_fit": null,
            "grid_auto_columns": null,
            "margin": null,
            "display": null,
            "left": null
          }
        },
        "f0fe12dbf48447349c60cd9576ec0f3b": {
          "model_module": "@jupyter-widgets/controls",
          "model_name": "ProgressStyleModel",
          "model_module_version": "1.5.0",
          "state": {
            "_view_name": "StyleView",
            "_model_name": "ProgressStyleModel",
            "description_width": "",
            "_view_module": "@jupyter-widgets/base",
            "_model_module_version": "1.5.0",
            "_view_count": null,
            "_view_module_version": "1.2.0",
            "bar_color": null,
            "_model_module": "@jupyter-widgets/controls"
          }
        },
        "ed81320d01b54257a73566ee096d4005": {
          "model_module": "@jupyter-widgets/base",
          "model_name": "LayoutModel",
          "model_module_version": "1.2.0",
          "state": {
            "_view_name": "LayoutView",
            "grid_template_rows": null,
            "right": null,
            "justify_content": null,
            "_view_module": "@jupyter-widgets/base",
            "overflow": null,
            "_model_module_version": "1.2.0",
            "_view_count": null,
            "flex_flow": null,
            "width": null,
            "min_width": null,
            "border": null,
            "align_items": null,
            "bottom": null,
            "_model_module": "@jupyter-widgets/base",
            "top": null,
            "grid_column": null,
            "overflow_y": null,
            "overflow_x": null,
            "grid_auto_flow": null,
            "grid_area": null,
            "grid_template_columns": null,
            "flex": null,
            "_model_name": "LayoutModel",
            "justify_items": null,
            "grid_row": null,
            "max_height": null,
            "align_content": null,
            "visibility": null,
            "align_self": null,
            "height": null,
            "min_height": null,
            "padding": null,
            "grid_auto_rows": null,
            "grid_gap": null,
            "max_width": null,
            "order": null,
            "_view_module_version": "1.2.0",
            "grid_template_areas": null,
            "object_position": null,
            "object_fit": null,
            "grid_auto_columns": null,
            "margin": null,
            "display": null,
            "left": null
          }
        },
        "114ec0c5c16b41809a3a298fa03e3239": {
          "model_module": "@jupyter-widgets/controls",
          "model_name": "DescriptionStyleModel",
          "model_module_version": "1.5.0",
          "state": {
            "_view_name": "StyleView",
            "_model_name": "DescriptionStyleModel",
            "description_width": "",
            "_view_module": "@jupyter-widgets/base",
            "_model_module_version": "1.5.0",
            "_view_count": null,
            "_view_module_version": "1.2.0",
            "_model_module": "@jupyter-widgets/controls"
          }
        },
        "85ab2fc4fd614c69bfc4bf033ff400c2": {
          "model_module": "@jupyter-widgets/base",
          "model_name": "LayoutModel",
          "model_module_version": "1.2.0",
          "state": {
            "_view_name": "LayoutView",
            "grid_template_rows": null,
            "right": null,
            "justify_content": null,
            "_view_module": "@jupyter-widgets/base",
            "overflow": null,
            "_model_module_version": "1.2.0",
            "_view_count": null,
            "flex_flow": null,
            "width": null,
            "min_width": null,
            "border": null,
            "align_items": null,
            "bottom": null,
            "_model_module": "@jupyter-widgets/base",
            "top": null,
            "grid_column": null,
            "overflow_y": null,
            "overflow_x": null,
            "grid_auto_flow": null,
            "grid_area": null,
            "grid_template_columns": null,
            "flex": null,
            "_model_name": "LayoutModel",
            "justify_items": null,
            "grid_row": null,
            "max_height": null,
            "align_content": null,
            "visibility": null,
            "align_self": null,
            "height": null,
            "min_height": null,
            "padding": null,
            "grid_auto_rows": null,
            "grid_gap": null,
            "max_width": null,
            "order": null,
            "_view_module_version": "1.2.0",
            "grid_template_areas": null,
            "object_position": null,
            "object_fit": null,
            "grid_auto_columns": null,
            "margin": null,
            "display": null,
            "left": null
          }
        },
        "1ff7926e90664482b956bd91cd4227ad": {
          "model_module": "@jupyter-widgets/controls",
          "model_name": "HBoxModel",
          "model_module_version": "1.5.0",
          "state": {
            "_view_name": "HBoxView",
            "_dom_classes": [],
            "_model_name": "HBoxModel",
            "_view_module": "@jupyter-widgets/controls",
            "_model_module_version": "1.5.0",
            "_view_count": null,
            "_view_module_version": "1.5.0",
            "box_style": "",
            "layout": "IPY_MODEL_cbcc04e619894685a38bf9b08365b90f",
            "_model_module": "@jupyter-widgets/controls",
            "children": [
              "IPY_MODEL_4fa3e177f7d944edbd585eb7964fa0ff",
              "IPY_MODEL_6b026937c10247a89716606d20ddd3e2",
              "IPY_MODEL_a703a11807c044dabba043294a09af60"
            ]
          }
        },
        "cbcc04e619894685a38bf9b08365b90f": {
          "model_module": "@jupyter-widgets/base",
          "model_name": "LayoutModel",
          "model_module_version": "1.2.0",
          "state": {
            "_view_name": "LayoutView",
            "grid_template_rows": null,
            "right": null,
            "justify_content": null,
            "_view_module": "@jupyter-widgets/base",
            "overflow": null,
            "_model_module_version": "1.2.0",
            "_view_count": null,
            "flex_flow": null,
            "width": null,
            "min_width": null,
            "border": null,
            "align_items": null,
            "bottom": null,
            "_model_module": "@jupyter-widgets/base",
            "top": null,
            "grid_column": null,
            "overflow_y": null,
            "overflow_x": null,
            "grid_auto_flow": null,
            "grid_area": null,
            "grid_template_columns": null,
            "flex": null,
            "_model_name": "LayoutModel",
            "justify_items": null,
            "grid_row": null,
            "max_height": null,
            "align_content": null,
            "visibility": null,
            "align_self": null,
            "height": null,
            "min_height": null,
            "padding": null,
            "grid_auto_rows": null,
            "grid_gap": null,
            "max_width": null,
            "order": null,
            "_view_module_version": "1.2.0",
            "grid_template_areas": null,
            "object_position": null,
            "object_fit": null,
            "grid_auto_columns": null,
            "margin": null,
            "display": null,
            "left": null
          }
        },
        "4fa3e177f7d944edbd585eb7964fa0ff": {
          "model_module": "@jupyter-widgets/controls",
          "model_name": "HTMLModel",
          "model_module_version": "1.5.0",
          "state": {
            "_view_name": "HTMLView",
            "style": "IPY_MODEL_93eb5b1eb3d24e1c8079d0a461d79850",
            "_dom_classes": [],
            "description": "",
            "_model_name": "HTMLModel",
            "placeholder": "​",
            "_view_module": "@jupyter-widgets/controls",
            "_model_module_version": "1.5.0",
            "value": "Downloading: 100%",
            "_view_count": null,
            "_view_module_version": "1.5.0",
            "description_tooltip": null,
            "_model_module": "@jupyter-widgets/controls",
            "layout": "IPY_MODEL_8985023d2f0d4013b03b5147c5235264"
          }
        },
        "6b026937c10247a89716606d20ddd3e2": {
          "model_module": "@jupyter-widgets/controls",
          "model_name": "FloatProgressModel",
          "model_module_version": "1.5.0",
          "state": {
            "_view_name": "ProgressView",
            "style": "IPY_MODEL_f761bfe9c1604e129a7d7a6d73200e77",
            "_dom_classes": [],
            "description": "",
            "_model_name": "FloatProgressModel",
            "bar_style": "success",
            "max": 28,
            "_view_module": "@jupyter-widgets/controls",
            "_model_module_version": "1.5.0",
            "value": 28,
            "_view_count": null,
            "_view_module_version": "1.5.0",
            "orientation": "horizontal",
            "min": 0,
            "description_tooltip": null,
            "_model_module": "@jupyter-widgets/controls",
            "layout": "IPY_MODEL_92b7ed2e114b45eb8b5409925f77c141"
          }
        },
        "a703a11807c044dabba043294a09af60": {
          "model_module": "@jupyter-widgets/controls",
          "model_name": "HTMLModel",
          "model_module_version": "1.5.0",
          "state": {
            "_view_name": "HTMLView",
            "style": "IPY_MODEL_b0ef45bcd7214bb1a532562073d80ef5",
            "_dom_classes": [],
            "description": "",
            "_model_name": "HTMLModel",
            "placeholder": "​",
            "_view_module": "@jupyter-widgets/controls",
            "_model_module_version": "1.5.0",
            "value": " 28.0/28.0 [00:00&lt;00:00, 635B/s]",
            "_view_count": null,
            "_view_module_version": "1.5.0",
            "description_tooltip": null,
            "_model_module": "@jupyter-widgets/controls",
            "layout": "IPY_MODEL_3d9da62b1a66405a8c0726b9cd591db8"
          }
        },
        "93eb5b1eb3d24e1c8079d0a461d79850": {
          "model_module": "@jupyter-widgets/controls",
          "model_name": "DescriptionStyleModel",
          "model_module_version": "1.5.0",
          "state": {
            "_view_name": "StyleView",
            "_model_name": "DescriptionStyleModel",
            "description_width": "",
            "_view_module": "@jupyter-widgets/base",
            "_model_module_version": "1.5.0",
            "_view_count": null,
            "_view_module_version": "1.2.0",
            "_model_module": "@jupyter-widgets/controls"
          }
        },
        "8985023d2f0d4013b03b5147c5235264": {
          "model_module": "@jupyter-widgets/base",
          "model_name": "LayoutModel",
          "model_module_version": "1.2.0",
          "state": {
            "_view_name": "LayoutView",
            "grid_template_rows": null,
            "right": null,
            "justify_content": null,
            "_view_module": "@jupyter-widgets/base",
            "overflow": null,
            "_model_module_version": "1.2.0",
            "_view_count": null,
            "flex_flow": null,
            "width": null,
            "min_width": null,
            "border": null,
            "align_items": null,
            "bottom": null,
            "_model_module": "@jupyter-widgets/base",
            "top": null,
            "grid_column": null,
            "overflow_y": null,
            "overflow_x": null,
            "grid_auto_flow": null,
            "grid_area": null,
            "grid_template_columns": null,
            "flex": null,
            "_model_name": "LayoutModel",
            "justify_items": null,
            "grid_row": null,
            "max_height": null,
            "align_content": null,
            "visibility": null,
            "align_self": null,
            "height": null,
            "min_height": null,
            "padding": null,
            "grid_auto_rows": null,
            "grid_gap": null,
            "max_width": null,
            "order": null,
            "_view_module_version": "1.2.0",
            "grid_template_areas": null,
            "object_position": null,
            "object_fit": null,
            "grid_auto_columns": null,
            "margin": null,
            "display": null,
            "left": null
          }
        },
        "f761bfe9c1604e129a7d7a6d73200e77": {
          "model_module": "@jupyter-widgets/controls",
          "model_name": "ProgressStyleModel",
          "model_module_version": "1.5.0",
          "state": {
            "_view_name": "StyleView",
            "_model_name": "ProgressStyleModel",
            "description_width": "",
            "_view_module": "@jupyter-widgets/base",
            "_model_module_version": "1.5.0",
            "_view_count": null,
            "_view_module_version": "1.2.0",
            "bar_color": null,
            "_model_module": "@jupyter-widgets/controls"
          }
        },
        "92b7ed2e114b45eb8b5409925f77c141": {
          "model_module": "@jupyter-widgets/base",
          "model_name": "LayoutModel",
          "model_module_version": "1.2.0",
          "state": {
            "_view_name": "LayoutView",
            "grid_template_rows": null,
            "right": null,
            "justify_content": null,
            "_view_module": "@jupyter-widgets/base",
            "overflow": null,
            "_model_module_version": "1.2.0",
            "_view_count": null,
            "flex_flow": null,
            "width": null,
            "min_width": null,
            "border": null,
            "align_items": null,
            "bottom": null,
            "_model_module": "@jupyter-widgets/base",
            "top": null,
            "grid_column": null,
            "overflow_y": null,
            "overflow_x": null,
            "grid_auto_flow": null,
            "grid_area": null,
            "grid_template_columns": null,
            "flex": null,
            "_model_name": "LayoutModel",
            "justify_items": null,
            "grid_row": null,
            "max_height": null,
            "align_content": null,
            "visibility": null,
            "align_self": null,
            "height": null,
            "min_height": null,
            "padding": null,
            "grid_auto_rows": null,
            "grid_gap": null,
            "max_width": null,
            "order": null,
            "_view_module_version": "1.2.0",
            "grid_template_areas": null,
            "object_position": null,
            "object_fit": null,
            "grid_auto_columns": null,
            "margin": null,
            "display": null,
            "left": null
          }
        },
        "b0ef45bcd7214bb1a532562073d80ef5": {
          "model_module": "@jupyter-widgets/controls",
          "model_name": "DescriptionStyleModel",
          "model_module_version": "1.5.0",
          "state": {
            "_view_name": "StyleView",
            "_model_name": "DescriptionStyleModel",
            "description_width": "",
            "_view_module": "@jupyter-widgets/base",
            "_model_module_version": "1.5.0",
            "_view_count": null,
            "_view_module_version": "1.2.0",
            "_model_module": "@jupyter-widgets/controls"
          }
        },
        "3d9da62b1a66405a8c0726b9cd591db8": {
          "model_module": "@jupyter-widgets/base",
          "model_name": "LayoutModel",
          "model_module_version": "1.2.0",
          "state": {
            "_view_name": "LayoutView",
            "grid_template_rows": null,
            "right": null,
            "justify_content": null,
            "_view_module": "@jupyter-widgets/base",
            "overflow": null,
            "_model_module_version": "1.2.0",
            "_view_count": null,
            "flex_flow": null,
            "width": null,
            "min_width": null,
            "border": null,
            "align_items": null,
            "bottom": null,
            "_model_module": "@jupyter-widgets/base",
            "top": null,
            "grid_column": null,
            "overflow_y": null,
            "overflow_x": null,
            "grid_auto_flow": null,
            "grid_area": null,
            "grid_template_columns": null,
            "flex": null,
            "_model_name": "LayoutModel",
            "justify_items": null,
            "grid_row": null,
            "max_height": null,
            "align_content": null,
            "visibility": null,
            "align_self": null,
            "height": null,
            "min_height": null,
            "padding": null,
            "grid_auto_rows": null,
            "grid_gap": null,
            "max_width": null,
            "order": null,
            "_view_module_version": "1.2.0",
            "grid_template_areas": null,
            "object_position": null,
            "object_fit": null,
            "grid_auto_columns": null,
            "margin": null,
            "display": null,
            "left": null
          }
        },
        "ba40ca6975de4a7e8e1f65a19bd61d30": {
          "model_module": "@jupyter-widgets/controls",
          "model_name": "HBoxModel",
          "model_module_version": "1.5.0",
          "state": {
            "_view_name": "HBoxView",
            "_dom_classes": [],
            "_model_name": "HBoxModel",
            "_view_module": "@jupyter-widgets/controls",
            "_model_module_version": "1.5.0",
            "_view_count": null,
            "_view_module_version": "1.5.0",
            "box_style": "",
            "layout": "IPY_MODEL_105ba2875747407aa335cd5e5cf250f4",
            "_model_module": "@jupyter-widgets/controls",
            "children": [
              "IPY_MODEL_26958e64f42c4e49ad1a9470bc14bfb2",
              "IPY_MODEL_8c1b11908ca94130ab9d4e094533c42f",
              "IPY_MODEL_b0f270ac14114250ac261de32092d488"
            ]
          }
        },
        "105ba2875747407aa335cd5e5cf250f4": {
          "model_module": "@jupyter-widgets/base",
          "model_name": "LayoutModel",
          "model_module_version": "1.2.0",
          "state": {
            "_view_name": "LayoutView",
            "grid_template_rows": null,
            "right": null,
            "justify_content": null,
            "_view_module": "@jupyter-widgets/base",
            "overflow": null,
            "_model_module_version": "1.2.0",
            "_view_count": null,
            "flex_flow": null,
            "width": null,
            "min_width": null,
            "border": null,
            "align_items": null,
            "bottom": null,
            "_model_module": "@jupyter-widgets/base",
            "top": null,
            "grid_column": null,
            "overflow_y": null,
            "overflow_x": null,
            "grid_auto_flow": null,
            "grid_area": null,
            "grid_template_columns": null,
            "flex": null,
            "_model_name": "LayoutModel",
            "justify_items": null,
            "grid_row": null,
            "max_height": null,
            "align_content": null,
            "visibility": null,
            "align_self": null,
            "height": null,
            "min_height": null,
            "padding": null,
            "grid_auto_rows": null,
            "grid_gap": null,
            "max_width": null,
            "order": null,
            "_view_module_version": "1.2.0",
            "grid_template_areas": null,
            "object_position": null,
            "object_fit": null,
            "grid_auto_columns": null,
            "margin": null,
            "display": null,
            "left": null
          }
        },
        "26958e64f42c4e49ad1a9470bc14bfb2": {
          "model_module": "@jupyter-widgets/controls",
          "model_name": "HTMLModel",
          "model_module_version": "1.5.0",
          "state": {
            "_view_name": "HTMLView",
            "style": "IPY_MODEL_cb98346155104b1aa73c3e061c402aad",
            "_dom_classes": [],
            "description": "",
            "_model_name": "HTMLModel",
            "placeholder": "​",
            "_view_module": "@jupyter-widgets/controls",
            "_model_module_version": "1.5.0",
            "value": "Downloading: 100%",
            "_view_count": null,
            "_view_module_version": "1.5.0",
            "description_tooltip": null,
            "_model_module": "@jupyter-widgets/controls",
            "layout": "IPY_MODEL_68adba4a586e4a188ead533650c9ae96"
          }
        },
        "8c1b11908ca94130ab9d4e094533c42f": {
          "model_module": "@jupyter-widgets/controls",
          "model_name": "FloatProgressModel",
          "model_module_version": "1.5.0",
          "state": {
            "_view_name": "ProgressView",
            "style": "IPY_MODEL_7a408a7172054d31b82ab974eefa319c",
            "_dom_classes": [],
            "description": "",
            "_model_name": "FloatProgressModel",
            "bar_style": "success",
            "max": 231508,
            "_view_module": "@jupyter-widgets/controls",
            "_model_module_version": "1.5.0",
            "value": 231508,
            "_view_count": null,
            "_view_module_version": "1.5.0",
            "orientation": "horizontal",
            "min": 0,
            "description_tooltip": null,
            "_model_module": "@jupyter-widgets/controls",
            "layout": "IPY_MODEL_94c58352900e44a9bed4b85358b56132"
          }
        },
        "b0f270ac14114250ac261de32092d488": {
          "model_module": "@jupyter-widgets/controls",
          "model_name": "HTMLModel",
          "model_module_version": "1.5.0",
          "state": {
            "_view_name": "HTMLView",
            "style": "IPY_MODEL_27251b3fa55248f38a4c3f23e97d480d",
            "_dom_classes": [],
            "description": "",
            "_model_name": "HTMLModel",
            "placeholder": "​",
            "_view_module": "@jupyter-widgets/controls",
            "_model_module_version": "1.5.0",
            "value": " 226k/226k [00:00&lt;00:00, 1.24MB/s]",
            "_view_count": null,
            "_view_module_version": "1.5.0",
            "description_tooltip": null,
            "_model_module": "@jupyter-widgets/controls",
            "layout": "IPY_MODEL_299f5094fd0a410d82b4178344b41007"
          }
        },
        "cb98346155104b1aa73c3e061c402aad": {
          "model_module": "@jupyter-widgets/controls",
          "model_name": "DescriptionStyleModel",
          "model_module_version": "1.5.0",
          "state": {
            "_view_name": "StyleView",
            "_model_name": "DescriptionStyleModel",
            "description_width": "",
            "_view_module": "@jupyter-widgets/base",
            "_model_module_version": "1.5.0",
            "_view_count": null,
            "_view_module_version": "1.2.0",
            "_model_module": "@jupyter-widgets/controls"
          }
        },
        "68adba4a586e4a188ead533650c9ae96": {
          "model_module": "@jupyter-widgets/base",
          "model_name": "LayoutModel",
          "model_module_version": "1.2.0",
          "state": {
            "_view_name": "LayoutView",
            "grid_template_rows": null,
            "right": null,
            "justify_content": null,
            "_view_module": "@jupyter-widgets/base",
            "overflow": null,
            "_model_module_version": "1.2.0",
            "_view_count": null,
            "flex_flow": null,
            "width": null,
            "min_width": null,
            "border": null,
            "align_items": null,
            "bottom": null,
            "_model_module": "@jupyter-widgets/base",
            "top": null,
            "grid_column": null,
            "overflow_y": null,
            "overflow_x": null,
            "grid_auto_flow": null,
            "grid_area": null,
            "grid_template_columns": null,
            "flex": null,
            "_model_name": "LayoutModel",
            "justify_items": null,
            "grid_row": null,
            "max_height": null,
            "align_content": null,
            "visibility": null,
            "align_self": null,
            "height": null,
            "min_height": null,
            "padding": null,
            "grid_auto_rows": null,
            "grid_gap": null,
            "max_width": null,
            "order": null,
            "_view_module_version": "1.2.0",
            "grid_template_areas": null,
            "object_position": null,
            "object_fit": null,
            "grid_auto_columns": null,
            "margin": null,
            "display": null,
            "left": null
          }
        },
        "7a408a7172054d31b82ab974eefa319c": {
          "model_module": "@jupyter-widgets/controls",
          "model_name": "ProgressStyleModel",
          "model_module_version": "1.5.0",
          "state": {
            "_view_name": "StyleView",
            "_model_name": "ProgressStyleModel",
            "description_width": "",
            "_view_module": "@jupyter-widgets/base",
            "_model_module_version": "1.5.0",
            "_view_count": null,
            "_view_module_version": "1.2.0",
            "bar_color": null,
            "_model_module": "@jupyter-widgets/controls"
          }
        },
        "94c58352900e44a9bed4b85358b56132": {
          "model_module": "@jupyter-widgets/base",
          "model_name": "LayoutModel",
          "model_module_version": "1.2.0",
          "state": {
            "_view_name": "LayoutView",
            "grid_template_rows": null,
            "right": null,
            "justify_content": null,
            "_view_module": "@jupyter-widgets/base",
            "overflow": null,
            "_model_module_version": "1.2.0",
            "_view_count": null,
            "flex_flow": null,
            "width": null,
            "min_width": null,
            "border": null,
            "align_items": null,
            "bottom": null,
            "_model_module": "@jupyter-widgets/base",
            "top": null,
            "grid_column": null,
            "overflow_y": null,
            "overflow_x": null,
            "grid_auto_flow": null,
            "grid_area": null,
            "grid_template_columns": null,
            "flex": null,
            "_model_name": "LayoutModel",
            "justify_items": null,
            "grid_row": null,
            "max_height": null,
            "align_content": null,
            "visibility": null,
            "align_self": null,
            "height": null,
            "min_height": null,
            "padding": null,
            "grid_auto_rows": null,
            "grid_gap": null,
            "max_width": null,
            "order": null,
            "_view_module_version": "1.2.0",
            "grid_template_areas": null,
            "object_position": null,
            "object_fit": null,
            "grid_auto_columns": null,
            "margin": null,
            "display": null,
            "left": null
          }
        },
        "27251b3fa55248f38a4c3f23e97d480d": {
          "model_module": "@jupyter-widgets/controls",
          "model_name": "DescriptionStyleModel",
          "model_module_version": "1.5.0",
          "state": {
            "_view_name": "StyleView",
            "_model_name": "DescriptionStyleModel",
            "description_width": "",
            "_view_module": "@jupyter-widgets/base",
            "_model_module_version": "1.5.0",
            "_view_count": null,
            "_view_module_version": "1.2.0",
            "_model_module": "@jupyter-widgets/controls"
          }
        },
        "299f5094fd0a410d82b4178344b41007": {
          "model_module": "@jupyter-widgets/base",
          "model_name": "LayoutModel",
          "model_module_version": "1.2.0",
          "state": {
            "_view_name": "LayoutView",
            "grid_template_rows": null,
            "right": null,
            "justify_content": null,
            "_view_module": "@jupyter-widgets/base",
            "overflow": null,
            "_model_module_version": "1.2.0",
            "_view_count": null,
            "flex_flow": null,
            "width": null,
            "min_width": null,
            "border": null,
            "align_items": null,
            "bottom": null,
            "_model_module": "@jupyter-widgets/base",
            "top": null,
            "grid_column": null,
            "overflow_y": null,
            "overflow_x": null,
            "grid_auto_flow": null,
            "grid_area": null,
            "grid_template_columns": null,
            "flex": null,
            "_model_name": "LayoutModel",
            "justify_items": null,
            "grid_row": null,
            "max_height": null,
            "align_content": null,
            "visibility": null,
            "align_self": null,
            "height": null,
            "min_height": null,
            "padding": null,
            "grid_auto_rows": null,
            "grid_gap": null,
            "max_width": null,
            "order": null,
            "_view_module_version": "1.2.0",
            "grid_template_areas": null,
            "object_position": null,
            "object_fit": null,
            "grid_auto_columns": null,
            "margin": null,
            "display": null,
            "left": null
          }
        },
        "e8e85beccacf4d6dae8ae5bb12b0cd50": {
          "model_module": "@jupyter-widgets/controls",
          "model_name": "HBoxModel",
          "model_module_version": "1.5.0",
          "state": {
            "_view_name": "HBoxView",
            "_dom_classes": [],
            "_model_name": "HBoxModel",
            "_view_module": "@jupyter-widgets/controls",
            "_model_module_version": "1.5.0",
            "_view_count": null,
            "_view_module_version": "1.5.0",
            "box_style": "",
            "layout": "IPY_MODEL_befa54a5fe094e55ab75cfac318c16b1",
            "_model_module": "@jupyter-widgets/controls",
            "children": [
              "IPY_MODEL_242a73ef2b6e4337a5bd439b91ff06d9",
              "IPY_MODEL_850b6f20688f4dbabc00c43e3572b54a",
              "IPY_MODEL_33b40326bece4532bda51f17892a002d"
            ]
          }
        },
        "befa54a5fe094e55ab75cfac318c16b1": {
          "model_module": "@jupyter-widgets/base",
          "model_name": "LayoutModel",
          "model_module_version": "1.2.0",
          "state": {
            "_view_name": "LayoutView",
            "grid_template_rows": null,
            "right": null,
            "justify_content": null,
            "_view_module": "@jupyter-widgets/base",
            "overflow": null,
            "_model_module_version": "1.2.0",
            "_view_count": null,
            "flex_flow": null,
            "width": null,
            "min_width": null,
            "border": null,
            "align_items": null,
            "bottom": null,
            "_model_module": "@jupyter-widgets/base",
            "top": null,
            "grid_column": null,
            "overflow_y": null,
            "overflow_x": null,
            "grid_auto_flow": null,
            "grid_area": null,
            "grid_template_columns": null,
            "flex": null,
            "_model_name": "LayoutModel",
            "justify_items": null,
            "grid_row": null,
            "max_height": null,
            "align_content": null,
            "visibility": null,
            "align_self": null,
            "height": null,
            "min_height": null,
            "padding": null,
            "grid_auto_rows": null,
            "grid_gap": null,
            "max_width": null,
            "order": null,
            "_view_module_version": "1.2.0",
            "grid_template_areas": null,
            "object_position": null,
            "object_fit": null,
            "grid_auto_columns": null,
            "margin": null,
            "display": null,
            "left": null
          }
        },
        "242a73ef2b6e4337a5bd439b91ff06d9": {
          "model_module": "@jupyter-widgets/controls",
          "model_name": "HTMLModel",
          "model_module_version": "1.5.0",
          "state": {
            "_view_name": "HTMLView",
            "style": "IPY_MODEL_5ef482ccf9b54cb483d64454ce2e4091",
            "_dom_classes": [],
            "description": "",
            "_model_name": "HTMLModel",
            "placeholder": "​",
            "_view_module": "@jupyter-widgets/controls",
            "_model_module_version": "1.5.0",
            "value": "Downloading: 100%",
            "_view_count": null,
            "_view_module_version": "1.5.0",
            "description_tooltip": null,
            "_model_module": "@jupyter-widgets/controls",
            "layout": "IPY_MODEL_0b99eb41771a42a8a5944e82d271ef6c"
          }
        },
        "850b6f20688f4dbabc00c43e3572b54a": {
          "model_module": "@jupyter-widgets/controls",
          "model_name": "FloatProgressModel",
          "model_module_version": "1.5.0",
          "state": {
            "_view_name": "ProgressView",
            "style": "IPY_MODEL_6f81febb11e14f7fb61850b516147225",
            "_dom_classes": [],
            "description": "",
            "_model_name": "FloatProgressModel",
            "bar_style": "success",
            "max": 466062,
            "_view_module": "@jupyter-widgets/controls",
            "_model_module_version": "1.5.0",
            "value": 466062,
            "_view_count": null,
            "_view_module_version": "1.5.0",
            "orientation": "horizontal",
            "min": 0,
            "description_tooltip": null,
            "_model_module": "@jupyter-widgets/controls",
            "layout": "IPY_MODEL_a38ba2c8b92d452b906f9ce887540802"
          }
        },
        "33b40326bece4532bda51f17892a002d": {
          "model_module": "@jupyter-widgets/controls",
          "model_name": "HTMLModel",
          "model_module_version": "1.5.0",
          "state": {
            "_view_name": "HTMLView",
            "style": "IPY_MODEL_2d10417ee6d443ce84b482bc2b25a893",
            "_dom_classes": [],
            "description": "",
            "_model_name": "HTMLModel",
            "placeholder": "​",
            "_view_module": "@jupyter-widgets/controls",
            "_model_module_version": "1.5.0",
            "value": " 455k/455k [00:00&lt;00:00, 1.29MB/s]",
            "_view_count": null,
            "_view_module_version": "1.5.0",
            "description_tooltip": null,
            "_model_module": "@jupyter-widgets/controls",
            "layout": "IPY_MODEL_76e61a6743214efcb198ef4b615a1d54"
          }
        },
        "5ef482ccf9b54cb483d64454ce2e4091": {
          "model_module": "@jupyter-widgets/controls",
          "model_name": "DescriptionStyleModel",
          "model_module_version": "1.5.0",
          "state": {
            "_view_name": "StyleView",
            "_model_name": "DescriptionStyleModel",
            "description_width": "",
            "_view_module": "@jupyter-widgets/base",
            "_model_module_version": "1.5.0",
            "_view_count": null,
            "_view_module_version": "1.2.0",
            "_model_module": "@jupyter-widgets/controls"
          }
        },
        "0b99eb41771a42a8a5944e82d271ef6c": {
          "model_module": "@jupyter-widgets/base",
          "model_name": "LayoutModel",
          "model_module_version": "1.2.0",
          "state": {
            "_view_name": "LayoutView",
            "grid_template_rows": null,
            "right": null,
            "justify_content": null,
            "_view_module": "@jupyter-widgets/base",
            "overflow": null,
            "_model_module_version": "1.2.0",
            "_view_count": null,
            "flex_flow": null,
            "width": null,
            "min_width": null,
            "border": null,
            "align_items": null,
            "bottom": null,
            "_model_module": "@jupyter-widgets/base",
            "top": null,
            "grid_column": null,
            "overflow_y": null,
            "overflow_x": null,
            "grid_auto_flow": null,
            "grid_area": null,
            "grid_template_columns": null,
            "flex": null,
            "_model_name": "LayoutModel",
            "justify_items": null,
            "grid_row": null,
            "max_height": null,
            "align_content": null,
            "visibility": null,
            "align_self": null,
            "height": null,
            "min_height": null,
            "padding": null,
            "grid_auto_rows": null,
            "grid_gap": null,
            "max_width": null,
            "order": null,
            "_view_module_version": "1.2.0",
            "grid_template_areas": null,
            "object_position": null,
            "object_fit": null,
            "grid_auto_columns": null,
            "margin": null,
            "display": null,
            "left": null
          }
        },
        "6f81febb11e14f7fb61850b516147225": {
          "model_module": "@jupyter-widgets/controls",
          "model_name": "ProgressStyleModel",
          "model_module_version": "1.5.0",
          "state": {
            "_view_name": "StyleView",
            "_model_name": "ProgressStyleModel",
            "description_width": "",
            "_view_module": "@jupyter-widgets/base",
            "_model_module_version": "1.5.0",
            "_view_count": null,
            "_view_module_version": "1.2.0",
            "bar_color": null,
            "_model_module": "@jupyter-widgets/controls"
          }
        },
        "a38ba2c8b92d452b906f9ce887540802": {
          "model_module": "@jupyter-widgets/base",
          "model_name": "LayoutModel",
          "model_module_version": "1.2.0",
          "state": {
            "_view_name": "LayoutView",
            "grid_template_rows": null,
            "right": null,
            "justify_content": null,
            "_view_module": "@jupyter-widgets/base",
            "overflow": null,
            "_model_module_version": "1.2.0",
            "_view_count": null,
            "flex_flow": null,
            "width": null,
            "min_width": null,
            "border": null,
            "align_items": null,
            "bottom": null,
            "_model_module": "@jupyter-widgets/base",
            "top": null,
            "grid_column": null,
            "overflow_y": null,
            "overflow_x": null,
            "grid_auto_flow": null,
            "grid_area": null,
            "grid_template_columns": null,
            "flex": null,
            "_model_name": "LayoutModel",
            "justify_items": null,
            "grid_row": null,
            "max_height": null,
            "align_content": null,
            "visibility": null,
            "align_self": null,
            "height": null,
            "min_height": null,
            "padding": null,
            "grid_auto_rows": null,
            "grid_gap": null,
            "max_width": null,
            "order": null,
            "_view_module_version": "1.2.0",
            "grid_template_areas": null,
            "object_position": null,
            "object_fit": null,
            "grid_auto_columns": null,
            "margin": null,
            "display": null,
            "left": null
          }
        },
        "2d10417ee6d443ce84b482bc2b25a893": {
          "model_module": "@jupyter-widgets/controls",
          "model_name": "DescriptionStyleModel",
          "model_module_version": "1.5.0",
          "state": {
            "_view_name": "StyleView",
            "_model_name": "DescriptionStyleModel",
            "description_width": "",
            "_view_module": "@jupyter-widgets/base",
            "_model_module_version": "1.5.0",
            "_view_count": null,
            "_view_module_version": "1.2.0",
            "_model_module": "@jupyter-widgets/controls"
          }
        },
        "76e61a6743214efcb198ef4b615a1d54": {
          "model_module": "@jupyter-widgets/base",
          "model_name": "LayoutModel",
          "model_module_version": "1.2.0",
          "state": {
            "_view_name": "LayoutView",
            "grid_template_rows": null,
            "right": null,
            "justify_content": null,
            "_view_module": "@jupyter-widgets/base",
            "overflow": null,
            "_model_module_version": "1.2.0",
            "_view_count": null,
            "flex_flow": null,
            "width": null,
            "min_width": null,
            "border": null,
            "align_items": null,
            "bottom": null,
            "_model_module": "@jupyter-widgets/base",
            "top": null,
            "grid_column": null,
            "overflow_y": null,
            "overflow_x": null,
            "grid_auto_flow": null,
            "grid_area": null,
            "grid_template_columns": null,
            "flex": null,
            "_model_name": "LayoutModel",
            "justify_items": null,
            "grid_row": null,
            "max_height": null,
            "align_content": null,
            "visibility": null,
            "align_self": null,
            "height": null,
            "min_height": null,
            "padding": null,
            "grid_auto_rows": null,
            "grid_gap": null,
            "max_width": null,
            "order": null,
            "_view_module_version": "1.2.0",
            "grid_template_areas": null,
            "object_position": null,
            "object_fit": null,
            "grid_auto_columns": null,
            "margin": null,
            "display": null,
            "left": null
          }
        },
        "31310f0d59854a4b86d63b72b5c42e3a": {
          "model_module": "@jupyter-widgets/controls",
          "model_name": "HBoxModel",
          "model_module_version": "1.5.0",
          "state": {
            "_view_name": "HBoxView",
            "_dom_classes": [],
            "_model_name": "HBoxModel",
            "_view_module": "@jupyter-widgets/controls",
            "_model_module_version": "1.5.0",
            "_view_count": null,
            "_view_module_version": "1.5.0",
            "box_style": "",
            "layout": "IPY_MODEL_d2a44fed39734c6b8bf77be4646aba8a",
            "_model_module": "@jupyter-widgets/controls",
            "children": [
              "IPY_MODEL_3e5bbd7c2ded42cdb0948bc37aa2b404",
              "IPY_MODEL_9b262aa2451d46768bf7150118874787",
              "IPY_MODEL_1b9394c37f974282a9237f5b92af62d2"
            ]
          }
        },
        "d2a44fed39734c6b8bf77be4646aba8a": {
          "model_module": "@jupyter-widgets/base",
          "model_name": "LayoutModel",
          "model_module_version": "1.2.0",
          "state": {
            "_view_name": "LayoutView",
            "grid_template_rows": null,
            "right": null,
            "justify_content": null,
            "_view_module": "@jupyter-widgets/base",
            "overflow": null,
            "_model_module_version": "1.2.0",
            "_view_count": null,
            "flex_flow": null,
            "width": null,
            "min_width": null,
            "border": null,
            "align_items": null,
            "bottom": null,
            "_model_module": "@jupyter-widgets/base",
            "top": null,
            "grid_column": null,
            "overflow_y": null,
            "overflow_x": null,
            "grid_auto_flow": null,
            "grid_area": null,
            "grid_template_columns": null,
            "flex": null,
            "_model_name": "LayoutModel",
            "justify_items": null,
            "grid_row": null,
            "max_height": null,
            "align_content": null,
            "visibility": null,
            "align_self": null,
            "height": null,
            "min_height": null,
            "padding": null,
            "grid_auto_rows": null,
            "grid_gap": null,
            "max_width": null,
            "order": null,
            "_view_module_version": "1.2.0",
            "grid_template_areas": null,
            "object_position": null,
            "object_fit": null,
            "grid_auto_columns": null,
            "margin": null,
            "display": null,
            "left": null
          }
        },
        "3e5bbd7c2ded42cdb0948bc37aa2b404": {
          "model_module": "@jupyter-widgets/controls",
          "model_name": "HTMLModel",
          "model_module_version": "1.5.0",
          "state": {
            "_view_name": "HTMLView",
            "style": "IPY_MODEL_79b5a085fdc84cf5ba6efc5493f819c0",
            "_dom_classes": [],
            "description": "",
            "_model_name": "HTMLModel",
            "placeholder": "​",
            "_view_module": "@jupyter-widgets/controls",
            "_model_module_version": "1.5.0",
            "value": "Downloading: ",
            "_view_count": null,
            "_view_module_version": "1.5.0",
            "description_tooltip": null,
            "_model_module": "@jupyter-widgets/controls",
            "layout": "IPY_MODEL_ab5ce6546c154acaa496024c31de1a74"
          }
        },
        "9b262aa2451d46768bf7150118874787": {
          "model_module": "@jupyter-widgets/controls",
          "model_name": "FloatProgressModel",
          "model_module_version": "1.5.0",
          "state": {
            "_view_name": "ProgressView",
            "style": "IPY_MODEL_160eca18cd8e4355909ee86895520173",
            "_dom_classes": [],
            "description": "",
            "_model_name": "FloatProgressModel",
            "bar_style": "success",
            "max": 1726,
            "_view_module": "@jupyter-widgets/controls",
            "_model_module_version": "1.5.0",
            "value": 1726,
            "_view_count": null,
            "_view_module_version": "1.5.0",
            "orientation": "horizontal",
            "min": 0,
            "description_tooltip": null,
            "_model_module": "@jupyter-widgets/controls",
            "layout": "IPY_MODEL_abd843423eb440cfa8dd4f676c7a7e92"
          }
        },
        "1b9394c37f974282a9237f5b92af62d2": {
          "model_module": "@jupyter-widgets/controls",
          "model_name": "HTMLModel",
          "model_module_version": "1.5.0",
          "state": {
            "_view_name": "HTMLView",
            "style": "IPY_MODEL_7d241bb2f3594580809b59287074fe45",
            "_dom_classes": [],
            "description": "",
            "_model_name": "HTMLModel",
            "placeholder": "​",
            "_view_module": "@jupyter-widgets/controls",
            "_model_module_version": "1.5.0",
            "value": " 4.51k/? [00:00&lt;00:00, 79.1kB/s]",
            "_view_count": null,
            "_view_module_version": "1.5.0",
            "description_tooltip": null,
            "_model_module": "@jupyter-widgets/controls",
            "layout": "IPY_MODEL_7844069751ba433f9767f38a2d29a50d"
          }
        },
        "79b5a085fdc84cf5ba6efc5493f819c0": {
          "model_module": "@jupyter-widgets/controls",
          "model_name": "DescriptionStyleModel",
          "model_module_version": "1.5.0",
          "state": {
            "_view_name": "StyleView",
            "_model_name": "DescriptionStyleModel",
            "description_width": "",
            "_view_module": "@jupyter-widgets/base",
            "_model_module_version": "1.5.0",
            "_view_count": null,
            "_view_module_version": "1.2.0",
            "_model_module": "@jupyter-widgets/controls"
          }
        },
        "ab5ce6546c154acaa496024c31de1a74": {
          "model_module": "@jupyter-widgets/base",
          "model_name": "LayoutModel",
          "model_module_version": "1.2.0",
          "state": {
            "_view_name": "LayoutView",
            "grid_template_rows": null,
            "right": null,
            "justify_content": null,
            "_view_module": "@jupyter-widgets/base",
            "overflow": null,
            "_model_module_version": "1.2.0",
            "_view_count": null,
            "flex_flow": null,
            "width": null,
            "min_width": null,
            "border": null,
            "align_items": null,
            "bottom": null,
            "_model_module": "@jupyter-widgets/base",
            "top": null,
            "grid_column": null,
            "overflow_y": null,
            "overflow_x": null,
            "grid_auto_flow": null,
            "grid_area": null,
            "grid_template_columns": null,
            "flex": null,
            "_model_name": "LayoutModel",
            "justify_items": null,
            "grid_row": null,
            "max_height": null,
            "align_content": null,
            "visibility": null,
            "align_self": null,
            "height": null,
            "min_height": null,
            "padding": null,
            "grid_auto_rows": null,
            "grid_gap": null,
            "max_width": null,
            "order": null,
            "_view_module_version": "1.2.0",
            "grid_template_areas": null,
            "object_position": null,
            "object_fit": null,
            "grid_auto_columns": null,
            "margin": null,
            "display": null,
            "left": null
          }
        },
        "160eca18cd8e4355909ee86895520173": {
          "model_module": "@jupyter-widgets/controls",
          "model_name": "ProgressStyleModel",
          "model_module_version": "1.5.0",
          "state": {
            "_view_name": "StyleView",
            "_model_name": "ProgressStyleModel",
            "description_width": "",
            "_view_module": "@jupyter-widgets/base",
            "_model_module_version": "1.5.0",
            "_view_count": null,
            "_view_module_version": "1.2.0",
            "bar_color": null,
            "_model_module": "@jupyter-widgets/controls"
          }
        },
        "abd843423eb440cfa8dd4f676c7a7e92": {
          "model_module": "@jupyter-widgets/base",
          "model_name": "LayoutModel",
          "model_module_version": "1.2.0",
          "state": {
            "_view_name": "LayoutView",
            "grid_template_rows": null,
            "right": null,
            "justify_content": null,
            "_view_module": "@jupyter-widgets/base",
            "overflow": null,
            "_model_module_version": "1.2.0",
            "_view_count": null,
            "flex_flow": null,
            "width": null,
            "min_width": null,
            "border": null,
            "align_items": null,
            "bottom": null,
            "_model_module": "@jupyter-widgets/base",
            "top": null,
            "grid_column": null,
            "overflow_y": null,
            "overflow_x": null,
            "grid_auto_flow": null,
            "grid_area": null,
            "grid_template_columns": null,
            "flex": null,
            "_model_name": "LayoutModel",
            "justify_items": null,
            "grid_row": null,
            "max_height": null,
            "align_content": null,
            "visibility": null,
            "align_self": null,
            "height": null,
            "min_height": null,
            "padding": null,
            "grid_auto_rows": null,
            "grid_gap": null,
            "max_width": null,
            "order": null,
            "_view_module_version": "1.2.0",
            "grid_template_areas": null,
            "object_position": null,
            "object_fit": null,
            "grid_auto_columns": null,
            "margin": null,
            "display": null,
            "left": null
          }
        },
        "7d241bb2f3594580809b59287074fe45": {
          "model_module": "@jupyter-widgets/controls",
          "model_name": "DescriptionStyleModel",
          "model_module_version": "1.5.0",
          "state": {
            "_view_name": "StyleView",
            "_model_name": "DescriptionStyleModel",
            "description_width": "",
            "_view_module": "@jupyter-widgets/base",
            "_model_module_version": "1.5.0",
            "_view_count": null,
            "_view_module_version": "1.2.0",
            "_model_module": "@jupyter-widgets/controls"
          }
        },
        "7844069751ba433f9767f38a2d29a50d": {
          "model_module": "@jupyter-widgets/base",
          "model_name": "LayoutModel",
          "model_module_version": "1.2.0",
          "state": {
            "_view_name": "LayoutView",
            "grid_template_rows": null,
            "right": null,
            "justify_content": null,
            "_view_module": "@jupyter-widgets/base",
            "overflow": null,
            "_model_module_version": "1.2.0",
            "_view_count": null,
            "flex_flow": null,
            "width": null,
            "min_width": null,
            "border": null,
            "align_items": null,
            "bottom": null,
            "_model_module": "@jupyter-widgets/base",
            "top": null,
            "grid_column": null,
            "overflow_y": null,
            "overflow_x": null,
            "grid_auto_flow": null,
            "grid_area": null,
            "grid_template_columns": null,
            "flex": null,
            "_model_name": "LayoutModel",
            "justify_items": null,
            "grid_row": null,
            "max_height": null,
            "align_content": null,
            "visibility": null,
            "align_self": null,
            "height": null,
            "min_height": null,
            "padding": null,
            "grid_auto_rows": null,
            "grid_gap": null,
            "max_width": null,
            "order": null,
            "_view_module_version": "1.2.0",
            "grid_template_areas": null,
            "object_position": null,
            "object_fit": null,
            "grid_auto_columns": null,
            "margin": null,
            "display": null,
            "left": null
          }
        },
        "fd66f5f3bf934123a335793890a84454": {
          "model_module": "@jupyter-widgets/controls",
          "model_name": "HBoxModel",
          "model_module_version": "1.5.0",
          "state": {
            "_view_name": "HBoxView",
            "_dom_classes": [],
            "_model_name": "HBoxModel",
            "_view_module": "@jupyter-widgets/controls",
            "_model_module_version": "1.5.0",
            "_view_count": null,
            "_view_module_version": "1.5.0",
            "box_style": "",
            "layout": "IPY_MODEL_b8d738066d4c4aa9901d7811ac513194",
            "_model_module": "@jupyter-widgets/controls",
            "children": [
              "IPY_MODEL_0f649f8b10fc4f00a8a4b7913b5ddf63",
              "IPY_MODEL_6652d70414c94e49ad44618305df2db8",
              "IPY_MODEL_5312bb31dd424c368513808ec0026f14"
            ]
          }
        },
        "b8d738066d4c4aa9901d7811ac513194": {
          "model_module": "@jupyter-widgets/base",
          "model_name": "LayoutModel",
          "model_module_version": "1.2.0",
          "state": {
            "_view_name": "LayoutView",
            "grid_template_rows": null,
            "right": null,
            "justify_content": null,
            "_view_module": "@jupyter-widgets/base",
            "overflow": null,
            "_model_module_version": "1.2.0",
            "_view_count": null,
            "flex_flow": null,
            "width": null,
            "min_width": null,
            "border": null,
            "align_items": null,
            "bottom": null,
            "_model_module": "@jupyter-widgets/base",
            "top": null,
            "grid_column": null,
            "overflow_y": null,
            "overflow_x": null,
            "grid_auto_flow": null,
            "grid_area": null,
            "grid_template_columns": null,
            "flex": null,
            "_model_name": "LayoutModel",
            "justify_items": null,
            "grid_row": null,
            "max_height": null,
            "align_content": null,
            "visibility": null,
            "align_self": null,
            "height": null,
            "min_height": null,
            "padding": null,
            "grid_auto_rows": null,
            "grid_gap": null,
            "max_width": null,
            "order": null,
            "_view_module_version": "1.2.0",
            "grid_template_areas": null,
            "object_position": null,
            "object_fit": null,
            "grid_auto_columns": null,
            "margin": null,
            "display": null,
            "left": null
          }
        },
        "0f649f8b10fc4f00a8a4b7913b5ddf63": {
          "model_module": "@jupyter-widgets/controls",
          "model_name": "HTMLModel",
          "model_module_version": "1.5.0",
          "state": {
            "_view_name": "HTMLView",
            "style": "IPY_MODEL_e8966ecd3b384c1bae81d400a117afb2",
            "_dom_classes": [],
            "description": "",
            "_model_name": "HTMLModel",
            "placeholder": "​",
            "_view_module": "@jupyter-widgets/controls",
            "_model_module_version": "1.5.0",
            "value": "Downloading: ",
            "_view_count": null,
            "_view_module_version": "1.5.0",
            "description_tooltip": null,
            "_model_module": "@jupyter-widgets/controls",
            "layout": "IPY_MODEL_3c97b76bd80942599c799aefd71e7094"
          }
        },
        "6652d70414c94e49ad44618305df2db8": {
          "model_module": "@jupyter-widgets/controls",
          "model_name": "FloatProgressModel",
          "model_module_version": "1.5.0",
          "state": {
            "_view_name": "ProgressView",
            "style": "IPY_MODEL_dd68ce25dab546878468ff7f4970004a",
            "_dom_classes": [],
            "description": "",
            "_model_name": "FloatProgressModel",
            "bar_style": "success",
            "max": 1119,
            "_view_module": "@jupyter-widgets/controls",
            "_model_module_version": "1.5.0",
            "value": 1119,
            "_view_count": null,
            "_view_module_version": "1.5.0",
            "orientation": "horizontal",
            "min": 0,
            "description_tooltip": null,
            "_model_module": "@jupyter-widgets/controls",
            "layout": "IPY_MODEL_cdf86e75152d40e1a0af806ea3295748"
          }
        },
        "5312bb31dd424c368513808ec0026f14": {
          "model_module": "@jupyter-widgets/controls",
          "model_name": "HTMLModel",
          "model_module_version": "1.5.0",
          "state": {
            "_view_name": "HTMLView",
            "style": "IPY_MODEL_cc80a0baf7af42c58168cd8668d61f5c",
            "_dom_classes": [],
            "description": "",
            "_model_name": "HTMLModel",
            "placeholder": "​",
            "_view_module": "@jupyter-widgets/controls",
            "_model_module_version": "1.5.0",
            "value": " 3.31k/? [00:00&lt;00:00, 77.3kB/s]",
            "_view_count": null,
            "_view_module_version": "1.5.0",
            "description_tooltip": null,
            "_model_module": "@jupyter-widgets/controls",
            "layout": "IPY_MODEL_2a67b7ee31344c8d8faa30db8c56158d"
          }
        },
        "e8966ecd3b384c1bae81d400a117afb2": {
          "model_module": "@jupyter-widgets/controls",
          "model_name": "DescriptionStyleModel",
          "model_module_version": "1.5.0",
          "state": {
            "_view_name": "StyleView",
            "_model_name": "DescriptionStyleModel",
            "description_width": "",
            "_view_module": "@jupyter-widgets/base",
            "_model_module_version": "1.5.0",
            "_view_count": null,
            "_view_module_version": "1.2.0",
            "_model_module": "@jupyter-widgets/controls"
          }
        },
        "3c97b76bd80942599c799aefd71e7094": {
          "model_module": "@jupyter-widgets/base",
          "model_name": "LayoutModel",
          "model_module_version": "1.2.0",
          "state": {
            "_view_name": "LayoutView",
            "grid_template_rows": null,
            "right": null,
            "justify_content": null,
            "_view_module": "@jupyter-widgets/base",
            "overflow": null,
            "_model_module_version": "1.2.0",
            "_view_count": null,
            "flex_flow": null,
            "width": null,
            "min_width": null,
            "border": null,
            "align_items": null,
            "bottom": null,
            "_model_module": "@jupyter-widgets/base",
            "top": null,
            "grid_column": null,
            "overflow_y": null,
            "overflow_x": null,
            "grid_auto_flow": null,
            "grid_area": null,
            "grid_template_columns": null,
            "flex": null,
            "_model_name": "LayoutModel",
            "justify_items": null,
            "grid_row": null,
            "max_height": null,
            "align_content": null,
            "visibility": null,
            "align_self": null,
            "height": null,
            "min_height": null,
            "padding": null,
            "grid_auto_rows": null,
            "grid_gap": null,
            "max_width": null,
            "order": null,
            "_view_module_version": "1.2.0",
            "grid_template_areas": null,
            "object_position": null,
            "object_fit": null,
            "grid_auto_columns": null,
            "margin": null,
            "display": null,
            "left": null
          }
        },
        "dd68ce25dab546878468ff7f4970004a": {
          "model_module": "@jupyter-widgets/controls",
          "model_name": "ProgressStyleModel",
          "model_module_version": "1.5.0",
          "state": {
            "_view_name": "StyleView",
            "_model_name": "ProgressStyleModel",
            "description_width": "",
            "_view_module": "@jupyter-widgets/base",
            "_model_module_version": "1.5.0",
            "_view_count": null,
            "_view_module_version": "1.2.0",
            "bar_color": null,
            "_model_module": "@jupyter-widgets/controls"
          }
        },
        "cdf86e75152d40e1a0af806ea3295748": {
          "model_module": "@jupyter-widgets/base",
          "model_name": "LayoutModel",
          "model_module_version": "1.2.0",
          "state": {
            "_view_name": "LayoutView",
            "grid_template_rows": null,
            "right": null,
            "justify_content": null,
            "_view_module": "@jupyter-widgets/base",
            "overflow": null,
            "_model_module_version": "1.2.0",
            "_view_count": null,
            "flex_flow": null,
            "width": null,
            "min_width": null,
            "border": null,
            "align_items": null,
            "bottom": null,
            "_model_module": "@jupyter-widgets/base",
            "top": null,
            "grid_column": null,
            "overflow_y": null,
            "overflow_x": null,
            "grid_auto_flow": null,
            "grid_area": null,
            "grid_template_columns": null,
            "flex": null,
            "_model_name": "LayoutModel",
            "justify_items": null,
            "grid_row": null,
            "max_height": null,
            "align_content": null,
            "visibility": null,
            "align_self": null,
            "height": null,
            "min_height": null,
            "padding": null,
            "grid_auto_rows": null,
            "grid_gap": null,
            "max_width": null,
            "order": null,
            "_view_module_version": "1.2.0",
            "grid_template_areas": null,
            "object_position": null,
            "object_fit": null,
            "grid_auto_columns": null,
            "margin": null,
            "display": null,
            "left": null
          }
        },
        "cc80a0baf7af42c58168cd8668d61f5c": {
          "model_module": "@jupyter-widgets/controls",
          "model_name": "DescriptionStyleModel",
          "model_module_version": "1.5.0",
          "state": {
            "_view_name": "StyleView",
            "_model_name": "DescriptionStyleModel",
            "description_width": "",
            "_view_module": "@jupyter-widgets/base",
            "_model_module_version": "1.5.0",
            "_view_count": null,
            "_view_module_version": "1.2.0",
            "_model_module": "@jupyter-widgets/controls"
          }
        },
        "2a67b7ee31344c8d8faa30db8c56158d": {
          "model_module": "@jupyter-widgets/base",
          "model_name": "LayoutModel",
          "model_module_version": "1.2.0",
          "state": {
            "_view_name": "LayoutView",
            "grid_template_rows": null,
            "right": null,
            "justify_content": null,
            "_view_module": "@jupyter-widgets/base",
            "overflow": null,
            "_model_module_version": "1.2.0",
            "_view_count": null,
            "flex_flow": null,
            "width": null,
            "min_width": null,
            "border": null,
            "align_items": null,
            "bottom": null,
            "_model_module": "@jupyter-widgets/base",
            "top": null,
            "grid_column": null,
            "overflow_y": null,
            "overflow_x": null,
            "grid_auto_flow": null,
            "grid_area": null,
            "grid_template_columns": null,
            "flex": null,
            "_model_name": "LayoutModel",
            "justify_items": null,
            "grid_row": null,
            "max_height": null,
            "align_content": null,
            "visibility": null,
            "align_self": null,
            "height": null,
            "min_height": null,
            "padding": null,
            "grid_auto_rows": null,
            "grid_gap": null,
            "max_width": null,
            "order": null,
            "_view_module_version": "1.2.0",
            "grid_template_areas": null,
            "object_position": null,
            "object_fit": null,
            "grid_auto_columns": null,
            "margin": null,
            "display": null,
            "left": null
          }
        }
      }
    }
  },
  "cells": [
    {
      "cell_type": "markdown",
      "metadata": {
        "id": "aAlVSCUQbEzQ"
      },
      "source": [
        "## Query Processing Module"
      ]
    },
    {
      "cell_type": "code",
      "metadata": {
        "colab": {
          "base_uri": "https://localhost:8080/"
        },
        "id": "Hqr-5KyybMP0",
        "outputId": "d23a3390-43ab-4287-bd1d-bda9b5de8cae"
      },
      "source": [
        "from google.colab import drive\n",
        "drive.mount('/content/drive')"
      ],
      "execution_count": null,
      "outputs": [
        {
          "output_type": "stream",
          "name": "stdout",
          "text": [
            "Mounted at /content/drive\n"
          ]
        }
      ]
    },
    {
      "cell_type": "code",
      "metadata": {
        "colab": {
          "base_uri": "https://localhost:8080/"
        },
        "id": "jHn-LjuybWvs",
        "outputId": "cd692826-9da3-4bea-db73-7aff37010082"
      },
      "source": [
        "!unzip /content/drive/MyDrive/colabdata/pipeline.zip"
      ],
      "execution_count": null,
      "outputs": [
        {
          "output_type": "stream",
          "name": "stdout",
          "text": [
            "Archive:  /content/drive/MyDrive/colabdata/pipeline.zip\n",
            "  inflating: QnA_Latest.csv          \n",
            "warning:  skipped \"../\" path component(s) in ../data/\n",
            "   creating: data/\n",
            "warning:  skipped \"../\" path component(s) in ../data/case_tf_idf_new.pkl\n",
            "  inflating: data/case_tf_idf_new.pkl  \n",
            "warning:  skipped \"../\" path component(s) in ../data/concept_filenames.pkl\n",
            "  inflating: data/concept_filenames.pkl  \n",
            "warning:  skipped \"../\" path component(s) in ../data/glossary.json\n",
            "  inflating: data/glossary.json      \n",
            "warning:  skipped \"../\" path component(s) in ../data/misc_total_vocab_new.pkl\n",
            "  inflating: data/misc_total_vocab_new.pkl  \n",
            "warning:  skipped \"../\" path component(s) in ../data/miscfiles_mapper.pkl\n",
            "  inflating: data/miscfiles_mapper.pkl  \n",
            "warning:  skipped \"../\" path component(s) in ../data/new_cleanedregulations48.pkl\n",
            "  inflating: data/new_cleanedregulations48.pkl  \n",
            "warning:  skipped \"../\" path component(s) in ../data/mainvocab.pkl\n",
            "  inflating: data/mainvocab.pkl      \n",
            "warning:  skipped \"../\" path component(s) in ../data/case_origreg.pkl\n",
            "  inflating: data/case_origreg.pkl   \n",
            "warning:  skipped \"../\" path component(s) in ../data/case_filenames.pkl\n",
            "  inflating: data/case_filenames.pkl  \n",
            "warning:  skipped \"../\" path component(s) in ../data/case_DF.json\n",
            "  inflating: data/case_DF.json       \n",
            "warning:  skipped \"../\" path component(s) in ../data/misc_DF.json\n",
            "  inflating: data/misc_DF.json       \n",
            "warning:  skipped \"../\" path component(s) in ../data/trainquery.pkl\n",
            "  inflating: data/trainquery.pkl     \n",
            "warning:  skipped \"../\" path component(s) in ../data/tfidf_regs.pkl\n",
            "  inflating: data/tfidf_regs.pkl     \n",
            "warning:  skipped \"../\" path component(s) in ../data/case_queries.pkl\n",
            "  inflating: data/case_queries.pkl   \n",
            "warning:  skipped \"../\" path component(s) in ../data/misc_DF_new.json\n",
            "  inflating: data/misc_DF_new.json   \n",
            "warning:  skipped \"../\" path component(s) in ../data/Definitions/\n",
            "   creating: data/Definitions/\n",
            "warning:  skipped \"../\" path component(s) in ../data/Definitions/SETTLEMENT-PROCEEDINGS.json\n",
            "  inflating: data/Definitions/SETTLEMENT-PROCEEDINGS.json  \n",
            "warning:  skipped \"../\" path component(s) in ../data/Definitions/OMBUDSMAN.json\n",
            "  inflating: data/Definitions/OMBUDSMAN.json  \n",
            "warning:  skipped \"../\" path component(s) in ../data/Definitions/INTERMEDIARIES.json\n",
            "  inflating: data/Definitions/INTERMEDIARIES.json  \n",
            "warning:  skipped \"../\" path component(s) in ../data/Definitions/Investor-Protection-and-Education-Fund.json\n",
            "  inflating: data/Definitions/Investor-Protection-and-Education-Fund.json  \n",
            "warning:  skipped \"../\" path component(s) in ../data/Definitions/CUSTODIAN.json\n",
            "  inflating: data/Definitions/CUSTODIAN.json  \n",
            "warning:  skipped \"../\" path component(s) in ../data/Definitions/STOCK-BROKERS.json\n",
            "  inflating: data/Definitions/STOCK-BROKERS.json  \n",
            "warning:  skipped \"../\" path component(s) in ../data/Definitions/ISSUE-AND-LISTING-OF-SECURITISED-DEBT-INSTRUMENTS-AND-SECURITY-RECEIPTS.json\n",
            "  inflating: data/Definitions/ISSUE-AND-LISTING-OF-SECURITISED-DEBT-INSTRUMENTS-AND-SECURITY-RECEIPTS.json  \n",
            "warning:  skipped \"../\" path component(s) in ../data/Definitions/EMPLOYEES-SERVICE.json\n",
            "  inflating: data/Definitions/EMPLOYEES-SERVICE.json  \n",
            "warning:  skipped \"../\" path component(s) in ../data/Definitions/Procedure-for-Board-Meetings.json\n",
            "  inflating: data/Definitions/Procedure-for-Board-Meetings.json  \n",
            "warning:  skipped \"../\" path component(s) in ../data/Definitions/INVESTMENT-ADVISERS.json\n",
            "  inflating: data/Definitions/INVESTMENT-ADVISERS.json  \n",
            "warning:  skipped \"../\" path component(s) in ../data/Definitions/REGISTRARS-TO-AN-ISSUE-AND-SHARE-TRANSFER-AGENT.json\n",
            "  inflating: data/Definitions/REGISTRARS-TO-AN-ISSUE-AND-SHARE-TRANSFER-AGENT.json  \n",
            "warning:  skipped \"../\" path component(s) in ../data/Definitions/CREDIT-RATING-AGENCIES.json\n",
            "  inflating: data/Definitions/CREDIT-RATING-AGENCIES.json  \n",
            "warning:  skipped \"../\" path component(s) in ../data/Definitions/ALTERNATIVE-INVESTMENT-FUNDS.json\n",
            "  inflating: data/Definitions/ALTERNATIVE-INVESTMENT-FUNDS.json  \n",
            "warning:  skipped \"../\" path component(s) in ../data/Definitions/MERCHANT-BANKERS.json\n",
            "  inflating: data/Definitions/MERCHANT-BANKERS.json  \n",
            "warning:  skipped \"../\" path component(s) in ../data/Definitions/procedure-for-search-and-seizure.json\n",
            "  inflating: data/Definitions/procedure-for-search-and-seizure.json  \n",
            "warning:  skipped \"../\" path component(s) in ../data/Definitions/KYC-(Know Your Client)-REGISTRATION-AGENCY.json\n",
            "  inflating: data/Definitions/KYC-(Know Your Client)-REGISTRATION-AGENCY.json  \n",
            "warning:  skipped \"../\" path component(s) in ../data/Definitions/ISSUE-OF-CAPITAL-AND-DISCLOSURE-REQUIREMENTS.json\n",
            "  inflating: data/Definitions/ISSUE-OF-CAPITAL-AND-DISCLOSURE-REQUIREMENTS.json  \n",
            "warning:  skipped \"../\" path component(s) in ../data/Definitions/DEPOSITORIES-AND-PARTICIPANTS.json\n",
            "  inflating: data/Definitions/DEPOSITORIES-AND-PARTICIPANTS.json  \n",
            "warning:  skipped \"../\" path component(s) in ../data/Definitions/LISTING-OBLIGATIONS-AND-DISCLOSURE-REQUIREMENTS.json\n",
            "  inflating: data/Definitions/LISTING-OBLIGATIONS-AND-DISCLOSURE-REQUIREMENTS.json  \n",
            "warning:  skipped \"../\" path component(s) in ../data/Definitions/README.md\n",
            "  inflating: data/Definitions/README.md  \n",
            "warning:  skipped \"../\" path component(s) in ../data/Definitions/prohibition-of-insider-trading.json\n",
            "  inflating: data/Definitions/prohibition-of-insider-trading.json  \n",
            "warning:  skipped \"../\" path component(s) in ../data/Definitions/BANKERS-TO-AN-ISSUE.json\n",
            "  inflating: data/Definitions/BANKERS-TO-AN-ISSUE.json  \n",
            "warning:  skipped \"../\" path component(s) in ../data/Definitions/FOREIGN-PORTFOLIO-INVESTORS.json\n",
            "  inflating: data/Definitions/FOREIGN-PORTFOLIO-INVESTORS.json  \n",
            "warning:  skipped \"../\" path component(s) in ../data/Definitions/SECURITIES-CONTRACTS-(REGULATION)-(STOCK-EXCHANGES-AND-CLEARING-CORPORATIONS).json\n",
            "  inflating: data/Definitions/SECURITIES-CONTRACTS-(REGULATION)-(STOCK-EXCHANGES-AND-CLEARING-CORPORATIONS).json  \n",
            "warning:  skipped \"../\" path component(s) in ../data/Definitions/PROHIBITION-OF-FRAUDULENT-AND-UNFAIR-TRADE-PRACTICES-RELATING-TO-SECURITIES-MARKET.json\n",
            "  inflating: data/Definitions/PROHIBITION-OF-FRAUDULENT-AND-UNFAIR-TRADE-PRACTICES-RELATING-TO-SECURITIES-MARKET.json  \n",
            "warning:  skipped \"../\" path component(s) in ../data/Definitions/REGULATORY-FEE-ON-STOCK-EXCHANGES.json\n",
            "  inflating: data/Definitions/REGULATORY-FEE-ON-STOCK-EXCHANGES.json  \n",
            "warning:  skipped \"../\" path component(s) in ../data/Definitions/SELF-REGULATORY-ORGANIZATIONS.json\n",
            "  inflating: data/Definitions/SELF-REGULATORY-ORGANIZATIONS.json  \n",
            "warning:  skipped \"../\" path component(s) in ../data/Definitions/ISSUE-AND-LISTING-OF-NON-CONVERTIBLE-REDEEMABLE-PREFERENCE-SHARES.json\n",
            "  inflating: data/Definitions/ISSUE-AND-LISTING-OF-NON-CONVERTIBLE-REDEEMABLE-PREFERENCE-SHARES.json  \n",
            "warning:  skipped \"../\" path component(s) in ../data/Definitions/ISSUE-AND-LISTING-OF-MUNICIPAL-DEBT-SECURITIES.json\n",
            "  inflating: data/Definitions/ISSUE-AND-LISTING-OF-MUNICIPAL-DEBT-SECURITIES.json  \n",
            "warning:  skipped \"../\" path component(s) in ../data/Definitions/Portfolio-managers.json\n",
            "  inflating: data/Definitions/Portfolio-managers.json  \n",
            "warning:  skipped \"../\" path component(s) in ../data/Definitions/SUBSTANTIAL-ACQUISITION-OF-SHARES-AND-TAKEOVERS.json\n",
            "  inflating: data/Definitions/SUBSTANTIAL-ACQUISITION-OF-SHARES-AND-TAKEOVERS.json  \n",
            "warning:  skipped \"../\" path component(s) in ../data/Definitions/CERTIFICATION-OF-ASSOCIATED-PERSONS-IN-THE-SECURITIES-MARKETS.json\n",
            "  inflating: data/Definitions/CERTIFICATION-OF-ASSOCIATED-PERSONS-IN-THE-SECURITIES-MARKETS.json  \n",
            "warning:  skipped \"../\" path component(s) in ../data/casefiles_mapper.pkl\n",
            "  inflating: data/casefiles_mapper.pkl  \n",
            "warning:  skipped \"../\" path component(s) in ../data/cleanedregulations48.pkl\n",
            "  inflating: data/cleanedregulations48.pkl  \n",
            "warning:  skipped \"../\" path component(s) in ../data/misc_origreg.pkl\n",
            "  inflating: data/misc_origreg.pkl   \n",
            "warning:  skipped \"../\" path component(s) in ../data/concept_text.pkl\n",
            "  inflating: data/concept_text.pkl   \n",
            "warning:  skipped \"../\" path component(s) in ../data/misc_total_vocab.pkl\n",
            "  inflating: data/misc_total_vocab.pkl  \n",
            "warning:  skipped \"../\" path component(s) in ../data/misc_tf_idf.json\n",
            " extracting: data/misc_tf_idf.json   \n",
            "warning:  skipped \"../\" path component(s) in ../data/informal_queries.pkl\n",
            "  inflating: data/informal_queries.pkl  \n",
            "warning:  skipped \"../\" path component(s) in ../data/case_origreg_new.pkl\n",
            "  inflating: data/case_origreg_new.pkl  \n",
            "warning:  skipped \"../\" path component(s) in ../data/casevocab.pkl\n",
            "  inflating: data/casevocab.pkl      \n",
            "warning:  skipped \"../\" path component(s) in ../data/README.md\n",
            "  inflating: data/README.md          \n",
            "warning:  skipped \"../\" path component(s) in ../data/reg_topics.pkl\n",
            "  inflating: data/reg_topics.pkl     \n",
            "warning:  skipped \"../\" path component(s) in ../data/case_tf_idf.pkl\n",
            "  inflating: data/case_tf_idf.pkl    \n",
            "warning:  skipped \"../\" path component(s) in ../data/case_total_vocab.pkl\n",
            "  inflating: data/case_total_vocab.pkl  \n",
            "warning:  skipped \"../\" path component(s) in ../data/miscvocab.pkl\n",
            "  inflating: data/miscvocab.pkl      \n",
            "warning:  skipped \"../\" path component(s) in ../data/case_DF_new.json\n",
            "  inflating: data/case_DF_new.json   \n",
            "warning:  skipped \"../\" path component(s) in ../data/informal_text.pkl\n",
            "  inflating: data/informal_text.pkl  \n",
            "warning:  skipped \"../\" path component(s) in ../data/vocabdef.pkl\n",
            "  inflating: data/vocabdef.pkl       \n",
            "warning:  skipped \"../\" path component(s) in ../data/concept_queries.pkl\n",
            "  inflating: data/concept_queries.pkl  \n",
            "warning:  skipped \"../\" path component(s) in ../data/cleanedregtopics48.pkl\n",
            "  inflating: data/cleanedregtopics48.pkl  \n",
            "warning:  skipped \"../\" path component(s) in ../data/case_total_vocab_new.pkl\n",
            "  inflating: data/case_total_vocab_new.pkl  \n",
            "warning:  skipped \"../\" path component(s) in ../data/misc_origreg_new.pkl\n",
            "  inflating: data/misc_origreg_new.pkl  \n",
            "warning:  skipped \"../\" path component(s) in ../data/finaltrain.pkl\n",
            "  inflating: data/finaltrain.pkl     \n",
            "warning:  skipped \"../\" path component(s) in ../data/informal_sentences.pkl\n",
            "  inflating: data/informal_sentences.pkl  \n",
            "warning:  skipped \"../\" path component(s) in ../data/informal_filenames.pkl\n",
            "  inflating: data/informal_filenames.pkl  \n",
            "warning:  skipped \"../\" path component(s) in ../data/QnA_version1/\n",
            "   creating: data/QnA_version1/\n",
            "warning:  skipped \"../\" path component(s) in ../data/QnA_version1/case_origreg.pkl\n",
            "  inflating: data/QnA_version1/case_origreg.pkl  \n",
            "warning:  skipped \"../\" path component(s) in ../data/QnA_version1/misc_origreg.pkl\n",
            "  inflating: data/QnA_version1/misc_origreg.pkl  \n",
            "warning:  skipped \"../\" path component(s) in ../data/case_sentences.pkl\n",
            "  inflating: data/case_sentences.pkl  \n",
            "warning:  skipped \"../\" path component(s) in ../data/casefiles_sentences_new.pkl\n",
            "  inflating: data/casefiles_sentences_new.pkl  \n",
            "warning:  skipped \"../\" path component(s) in ../data/misc_tf_idf.pkl\n",
            "  inflating: data/misc_tf_idf.pkl    \n",
            "warning:  skipped \"../\" path component(s) in ../data/concept_sentences.pkl\n",
            "  inflating: data/concept_sentences.pkl  \n",
            "warning:  skipped \"../\" path component(s) in ../data/case_text.pkl\n",
            "  inflating: data/case_text.pkl      \n",
            "warning:  skipped \"../\" path component(s) in ../data/misc_tf_idf_new.pkl\n",
            "  inflating: data/misc_tf_idf_new.pkl  \n",
            "warning:  skipped \"../\" path component(s) in ../data/misc_filenames_testing.pkl\n",
            "  inflating: data/misc_filenames_testing.pkl  \n",
            "warning:  skipped \"../\" path component(s) in ../data/legal_origreg_testing.pkl\n",
            "  inflating: data/legal_origreg_testing.pkl  \n",
            "warning:  skipped \"../\" path component(s) in ../data/misc_origreg_testing.pkl\n",
            "  inflating: data/misc_origreg_testing.pkl  \n",
            "warning:  skipped \"../\" path component(s) in ../data/legal_filenames_testing.pkl\n",
            "  inflating: data/legal_filenames_testing.pkl  \n"
          ]
        }
      ]
    },
    {
      "cell_type": "markdown",
      "metadata": {
        "id": "6rNV7PI1bEzQ"
      },
      "source": [
        "#### Query Input"
      ]
    },
    {
      "cell_type": "code",
      "metadata": {
        "colab": {
          "base_uri": "https://localhost:8080/"
        },
        "id": "IoUnxqbkb37I",
        "outputId": "cf31d0d6-a8cc-455c-c770-6c7942a0a2eb"
      },
      "source": [
        "!ls"
      ],
      "execution_count": null,
      "outputs": [
        {
          "output_type": "stream",
          "name": "stdout",
          "text": [
            "data  drive  QnA_Latest.csv  sample_data\n"
          ]
        }
      ]
    },
    {
      "cell_type": "code",
      "metadata": {
        "colab": {
          "base_uri": "https://localhost:8080/"
        },
        "id": "tFpf2lEebEzQ",
        "outputId": "9563b7f8-679d-4bce-fd14-d35f8b6820e7"
      },
      "source": [
        "import nltk\n",
        "nltk.download('stopwords')\n",
        "nltk.download('punkt')\n",
        "import bs4\n",
        "\n",
        "%matplotlib inline\n",
        "\n",
        "DATA=\"data/\""
      ],
      "execution_count": null,
      "outputs": [
        {
          "output_type": "stream",
          "name": "stdout",
          "text": [
            "[nltk_data] Downloading package stopwords to /root/nltk_data...\n",
            "[nltk_data]   Unzipping corpora/stopwords.zip.\n",
            "[nltk_data] Downloading package punkt to /root/nltk_data...\n",
            "[nltk_data]   Unzipping tokenizers/punkt.zip.\n"
          ]
        }
      ]
    },
    {
      "cell_type": "code",
      "metadata": {
        "colab": {
          "base_uri": "https://localhost:8080/"
        },
        "id": "zQAT1pUCbEzQ",
        "outputId": "06649e6e-0d4e-4f19-be64-2ee185ee2cd4"
      },
      "source": [
        "import pandas as pd\n",
        "import numpy as np\n",
        "import tensorflow as tf\n",
        "print(tf.__version__)\n",
        "tf.compat.v1.logging.set_verbosity(tf.compat.v1.logging.ERROR)"
      ],
      "execution_count": null,
      "outputs": [
        {
          "output_type": "stream",
          "name": "stdout",
          "text": [
            "2.7.0\n"
          ]
        }
      ]
    },
    {
      "cell_type": "code",
      "metadata": {
        "id": "7X24Yo3ybEzQ"
      },
      "source": [
        "from nltk.metrics import edit_distance\n",
        "#Definitions dictionary\n",
        "import os, json\n",
        "import pickle\n",
        "defdict = {}\n",
        "path_to_json = DATA + 'Definitions/'\n",
        "json_files = [pos_json for pos_json in os.listdir(path_to_json) if pos_json.endswith('.json')]\n",
        "for i in json_files:\n",
        "    with open(DATA + 'Definitions/'+i) as json_file:\n",
        "        data = json.load(json_file)\n",
        "    defdict.update(data)\n",
        "definitions = list(defdict.keys())\n",
        "defvalues = list(defdict.values())\n",
        "\n",
        "docs = [\"Issue and Listing of Non Convertible Redeemable Preference Shares\", \"Investment Advisers\", \"Depositories and Participants\", \"Mutual Funds\", \"Employees Service\", \"Substantial Acquisition of Shares and Takeovers\", \"Appointment of Administrator and Procedure for Refunding to the Investors\", \"Prohibition of Fraudulent and Unfair Trade Practices relating to Securities Market\", \"Know Your Client Regulations\", \"Prohibition of Insider Trading\", \"Merchant Bankers\", \"Issue and Listing  of Securities Debt Instruments and Security Receipts\", \"Delisting of Equity Shares\",\"Issue of Capital And Disclosure Requirements2\", \"Foreign Venture Capital Investor\", \"Procedure for Board Meetings\", \"Custodian\", \"Ombudsman\", \"Investor Protection and Education Fund\", \"Foreign Portfolio Investors\", \"Issue of Sweat Equity\", \"Collective Investment Scheme\", \"Portfolio Managers\", \"Research Analysts\", \"Procedure for Search and Seizure\", \"Issue of Capital And Disclosure Requirements\", \"Share Based Employee Benefits\", \"Debenture Trustees\", \"Alternative Investment Funds\", \"Stock Exchanges and Clearing Corporations\", \"Self Regulatory Organisations\", \"Settlement Proceedings\", \"Issues and Listing of Muncipal Debt Securities\", \"Buy Back Of Securities2\",\"Issue and Listing of Debt Securities\", \"Infrastructure Investment Trusts\", \"Stock Brokers\", \"Listing Obligations and Disclosure Requirements\", \"Registrars to an Issue and Share Transfer Agents\", \"Real Estate Investment Trusts\", \"Intermediaries\", \"Certification of Associated Persons in the Securities Markets\", \"Credit Rating Agencies\", \"Regulatory Fee on Stock Exchanges\", \"Underwriters\", \"Buy Back Of Securities\", \"Bankers to an Issue\", \"Central Database of Market Participants\"]\n",
        "\n",
        "#Regulations\n",
        "with open(DATA + 'cleanedregulations48.pkl','rb') as f:\n",
        "    docregs = pickle.load(f)    \n",
        "\n",
        "#Topics documentwise\n",
        "with open(DATA + 'cleanedregtopics48.pkl','rb') as f:\n",
        "    finaltopics = pickle.load(f)    \n",
        "\n",
        "#vocab definitions\n",
        "with open(DATA + 'mainvocab.pkl','rb') as f:\n",
        "    mainvocab = pickle.load(f) \n",
        "\n",
        "with open(DATA + 'vocabdef.pkl','rb') as f:\n",
        "    vocabdef = pickle.load(f) \n",
        "\n",
        "#Additional Documents\n",
        "\n",
        "with open('data/misc_filenames_testing.pkl','rb') as filer:\n",
        "    miscf = pickle.load(filer)\n",
        "\n",
        "    \n",
        "#Legal Case files\n",
        "with open('data/legal_filenames_testing.pkl','rb') as filer:\n",
        "    legalf = pickle.load(filer)\n",
        "\n",
        "import spacy\n",
        "nlp = spacy.load('en_core_web_sm')\n",
        "\n",
        "from nltk.corpus import wordnet\n",
        "\n",
        "from nltk.tokenize import word_tokenize\n",
        "from nltk.stem import PorterStemmer\n",
        "import math\n",
        "import numpy as np\n",
        "from collections import Counter\n",
        "from nltk.corpus import stopwords\n",
        "\n",
        "STOPWORDS = set(\n",
        "    stopwords.words('english') +\\\n",
        "    ['mm', 'section', 'subsection', 'schedule', '-PRON-', 'chapter', 'regulation', 'repealed', 'thereto','unpublishe', 'thereunder','guideline', 'reference','onus','make','Page','Securities','Exchange','India'])\n",
        "\n",
        "with open(DATA + 'glossary.json') as f:\n",
        "    glossary = json.load(f)"
      ],
      "execution_count": null,
      "outputs": []
    },
    {
      "cell_type": "code",
      "metadata": {
        "id": "gdV-l6oncuzo"
      },
      "source": [
        "def queryvocab(query):\n",
        "    question_words = [\"What\",\"When\",\"Where\",\"Why\",\"How\",\"Who\"]\n",
        "    REMOVE_WORDS = ['regulations','rules','rule','chapter','section','sub','SEBI','means','shall','Securities','Exchange',\n",
        "                    'pertaining','India']\n",
        "    qvocab=[i for i in query.split() if i not in stopwords.words() + REMOVE_WORDS\n",
        "            + question_words]\n",
        "            \n",
        "    return qvocab, \" \".join(qvocab)"
      ],
      "execution_count": null,
      "outputs": []
    },
    {
      "cell_type": "code",
      "metadata": {
        "id": "ItVTOH_ybEzQ"
      },
      "source": [
        "def querypreprocess(query, qvocab, definitions, finaltopics):        \n",
        "    qnew = \" \".join(qvocab)\n",
        "\n",
        "    importantwords = [ i for i in qvocab if i in definitions]\n",
        "\n",
        "    expansionwords = []\n",
        "\n",
        "    for i in qvocab:\n",
        "      for j in finaltopics:\n",
        "        if i in j:\n",
        "          if i not in importantwords:\n",
        "            importantwords.append(i)\n",
        "          else:\n",
        "              if i in definitions:\n",
        "                  expansionwords.append(i)\n",
        "    \n",
        "\n",
        "    for i in expansionwords:\n",
        "        if i in definitions:\n",
        "          k=definitions.index(i)\n",
        "          s = i\n",
        "          s = s + defvalues[k]\n",
        "          qnew = qnew + ' ' + s\n",
        "        else:\n",
        "          qnew = qnew + ' ' + i\n",
        "    query = qnew\n",
        "    \n",
        "    sent = nlp(query)\n",
        "    t=0\n",
        "    for token in sent:\n",
        "        if(str(token) in importantwords):\n",
        "            if(t!=0):\n",
        "                if(str(sent[t-1]) not in importantwords):\n",
        "                    importantwords.append(str(sent[t-1]))\n",
        "            if(token.tag_ == 'VB'):\n",
        "                importantwords.append(str(token))\n",
        "        t+=1\n",
        "    \n",
        "    return query, qvocab, importantwords, expansionwords"
      ],
      "execution_count": null,
      "outputs": []
    },
    {
      "cell_type": "code",
      "metadata": {
        "id": "2G2rEHL_bEzQ"
      },
      "source": [
        "def regextract(docinput, docs, docregs, mainvocab, vocabdef, query, glossary):\n",
        "    \n",
        "    symbols = \"!\\\"#$%&()*+-./:;<=>?@[\\]^_`{|}~\\n\"\n",
        "    v = []\n",
        "    \n",
        "    if(docinput == 'All'):\n",
        "        rdocs = set()\n",
        "        for i in glossary.keys():\n",
        "            if(i in query.lower()):\n",
        "                dval = glossary[i]\n",
        "                rdocs.update(dval)\n",
        "\n",
        "        if(len(rdocs)>0):\n",
        "            docinput = [ docs[i] for i in rdocs]\n",
        "        else:\n",
        "            docinput = ['All']\n",
        "            \n",
        "    else:        \n",
        "        docinput = [docinput]\n",
        "    \n",
        "    return docinput"
      ],
      "execution_count": null,
      "outputs": []
    },
    {
      "cell_type": "markdown",
      "metadata": {
        "id": "4kxCfVSWbEzQ"
      },
      "source": [
        "## Regulations Retrieval Module"
      ]
    },
    {
      "cell_type": "code",
      "metadata": {
        "id": "c3ZtVi_HbEzQ"
      },
      "source": [
        "def convert_lower_case(data):\n",
        "    return np.char.lower(data)\n",
        "\n",
        "def remove_stop_words(data):\n",
        "    stop_words = STOPWORDS\n",
        "    words = word_tokenize(str(data))\n",
        "    new_text = [ w for w in words if w not in stop_words and len(w) > 1]\n",
        "    return \" \".join(new_text)\n",
        "\n",
        "def remove_punctuation(data):\n",
        "    symbols = \"!\\\"#$%&()*+-./:;<=>?@[\\]^_`{|}~\\n\"\n",
        "    for i in range(len(symbols)):\n",
        "        data = np.char.replace(data, symbols[i], ' ')\n",
        "        data = np.char.replace(data, \"  \", \" \")\n",
        "    data = np.char.replace(data, ',', '')\n",
        "    return data\n",
        "\n",
        "def remove_apostrophe(data):\n",
        "    return np.char.replace(data, \"'\", \"\")\n",
        "\n",
        "def stemming(data):\n",
        "    stemmer= PorterStemmer()\n",
        "    \n",
        "    tokens = word_tokenize(str(data))\n",
        "    new_text = [ stemmer.stem(w) for w in tokens ]\n",
        "    new_text = \" \".join(new_text)\n",
        "    return new_text"
      ],
      "execution_count": null,
      "outputs": []
    },
    {
      "cell_type": "code",
      "metadata": {
        "id": "jfCAsXBqbEzQ"
      },
      "source": [
        "def preprocessing(data):\n",
        "    data = convert_lower_case(data)\n",
        "    data = remove_punctuation(data)\n",
        "    data = remove_apostrophe(data)\n",
        "    data = remove_stop_words(data)\n",
        "    data = stemming(data)\n",
        "    data = remove_punctuation(data)\n",
        "    data = stemming(data)\n",
        "    return data"
      ],
      "execution_count": null,
      "outputs": []
    },
    {
      "cell_type": "code",
      "metadata": {
        "id": "7N4x8o6lbEzQ"
      },
      "source": [
        "def tfidfreg(docregs, docinput, category):\n",
        "    \n",
        "    if(category == 'regulations'):\n",
        "        d = [ docregs[docs.index(i)] for i in docinput if i in docs] \n",
        "        if(len(d)>0):\n",
        "            docregs = d\n",
        "\n",
        "    origreg = []\n",
        "    reverseMap = dict()\n",
        "    for ind,i in enumerate(docregs):\n",
        "        for j in i:          \n",
        "            reverseMap[j]=docs[ind]\n",
        "            data = preprocessing(j)\n",
        "            if data != '' and data !='\\xa0\\n':\n",
        "              origreg.append(j)\n",
        "\n",
        "    return origreg,reverseMap        \n"
      ],
      "execution_count": null,
      "outputs": []
    },
    {
      "cell_type": "code",
      "metadata": {
        "id": "MabERpWRbEzQ"
      },
      "source": [
        "def cosine_sim(a, b):\n",
        "    cos_sim = np.dot(a, b)/(np.linalg.norm(a)*np.linalg.norm(b))\n",
        "    return cos_sim"
      ],
      "execution_count": null,
      "outputs": []
    },
    {
      "cell_type": "code",
      "metadata": {
        "colab": {
          "base_uri": "https://localhost:8080/"
        },
        "id": "eEBPdF5JcBTI",
        "outputId": "99f8886d-5a2e-4635-fd76-4e6bbff28aaa"
      },
      "source": [
        "!pip3 install sentence_transformers transformers"
      ],
      "execution_count": null,
      "outputs": [
        {
          "output_type": "stream",
          "name": "stdout",
          "text": [
            "Collecting sentence_transformers\n",
            "  Downloading sentence-transformers-2.1.0.tar.gz (78 kB)\n",
            "\u001b[K     |████████████████████████████████| 78 kB 3.7 MB/s \n",
            "\u001b[?25hCollecting transformers\n",
            "  Downloading transformers-4.13.0-py3-none-any.whl (3.3 MB)\n",
            "\u001b[K     |████████████████████████████████| 3.3 MB 18.7 MB/s \n",
            "\u001b[?25hCollecting tokenizers>=0.10.3\n",
            "  Downloading tokenizers-0.10.3-cp37-cp37m-manylinux_2_5_x86_64.manylinux1_x86_64.manylinux_2_12_x86_64.manylinux2010_x86_64.whl (3.3 MB)\n",
            "\u001b[K     |████████████████████████████████| 3.3 MB 18.5 MB/s \n",
            "\u001b[?25hRequirement already satisfied: tqdm in /usr/local/lib/python3.7/dist-packages (from sentence_transformers) (4.62.3)\n",
            "Requirement already satisfied: torch>=1.6.0 in /usr/local/lib/python3.7/dist-packages (from sentence_transformers) (1.10.0+cu111)\n",
            "Requirement already satisfied: torchvision in /usr/local/lib/python3.7/dist-packages (from sentence_transformers) (0.11.1+cu111)\n",
            "Requirement already satisfied: numpy in /usr/local/lib/python3.7/dist-packages (from sentence_transformers) (1.19.5)\n",
            "Requirement already satisfied: scikit-learn in /usr/local/lib/python3.7/dist-packages (from sentence_transformers) (1.0.1)\n",
            "Requirement already satisfied: scipy in /usr/local/lib/python3.7/dist-packages (from sentence_transformers) (1.4.1)\n",
            "Requirement already satisfied: nltk in /usr/local/lib/python3.7/dist-packages (from sentence_transformers) (3.2.5)\n",
            "Collecting sentencepiece\n",
            "  Downloading sentencepiece-0.1.96-cp37-cp37m-manylinux_2_17_x86_64.manylinux2014_x86_64.whl (1.2 MB)\n",
            "\u001b[K     |████████████████████████████████| 1.2 MB 39.5 MB/s \n",
            "\u001b[?25hCollecting huggingface-hub\n",
            "  Downloading huggingface_hub-0.2.1-py3-none-any.whl (61 kB)\n",
            "\u001b[K     |████████████████████████████████| 61 kB 511 kB/s \n",
            "\u001b[?25hRequirement already satisfied: packaging>=20.0 in /usr/local/lib/python3.7/dist-packages (from transformers) (21.3)\n",
            "Requirement already satisfied: requests in /usr/local/lib/python3.7/dist-packages (from transformers) (2.23.0)\n",
            "Requirement already satisfied: regex!=2019.12.17 in /usr/local/lib/python3.7/dist-packages (from transformers) (2019.12.20)\n",
            "Collecting pyyaml>=5.1\n",
            "  Downloading PyYAML-6.0-cp37-cp37m-manylinux_2_5_x86_64.manylinux1_x86_64.manylinux_2_12_x86_64.manylinux2010_x86_64.whl (596 kB)\n",
            "\u001b[K     |████████████████████████████████| 596 kB 31.2 MB/s \n",
            "\u001b[?25hRequirement already satisfied: filelock in /usr/local/lib/python3.7/dist-packages (from transformers) (3.4.0)\n",
            "Requirement already satisfied: importlib-metadata in /usr/local/lib/python3.7/dist-packages (from transformers) (4.8.2)\n",
            "Collecting sacremoses\n",
            "  Downloading sacremoses-0.0.46-py3-none-any.whl (895 kB)\n",
            "\u001b[K     |████████████████████████████████| 895 kB 45.9 MB/s \n",
            "\u001b[?25hRequirement already satisfied: typing-extensions>=3.7.4.3 in /usr/local/lib/python3.7/dist-packages (from huggingface-hub->sentence_transformers) (3.10.0.2)\n",
            "Requirement already satisfied: pyparsing!=3.0.5,>=2.0.2 in /usr/local/lib/python3.7/dist-packages (from packaging>=20.0->transformers) (3.0.6)\n",
            "Requirement already satisfied: zipp>=0.5 in /usr/local/lib/python3.7/dist-packages (from importlib-metadata->transformers) (3.6.0)\n",
            "Requirement already satisfied: six in /usr/local/lib/python3.7/dist-packages (from nltk->sentence_transformers) (1.15.0)\n",
            "Requirement already satisfied: chardet<4,>=3.0.2 in /usr/local/lib/python3.7/dist-packages (from requests->transformers) (3.0.4)\n",
            "Requirement already satisfied: urllib3!=1.25.0,!=1.25.1,<1.26,>=1.21.1 in /usr/local/lib/python3.7/dist-packages (from requests->transformers) (1.24.3)\n",
            "Requirement already satisfied: idna<3,>=2.5 in /usr/local/lib/python3.7/dist-packages (from requests->transformers) (2.10)\n",
            "Requirement already satisfied: certifi>=2017.4.17 in /usr/local/lib/python3.7/dist-packages (from requests->transformers) (2021.10.8)\n",
            "Requirement already satisfied: click in /usr/local/lib/python3.7/dist-packages (from sacremoses->transformers) (7.1.2)\n",
            "Requirement already satisfied: joblib in /usr/local/lib/python3.7/dist-packages (from sacremoses->transformers) (1.1.0)\n",
            "Requirement already satisfied: threadpoolctl>=2.0.0 in /usr/local/lib/python3.7/dist-packages (from scikit-learn->sentence_transformers) (3.0.0)\n",
            "Requirement already satisfied: pillow!=8.3.0,>=5.3.0 in /usr/local/lib/python3.7/dist-packages (from torchvision->sentence_transformers) (7.1.2)\n",
            "Building wheels for collected packages: sentence-transformers\n",
            "  Building wheel for sentence-transformers (setup.py) ... \u001b[?25l\u001b[?25hdone\n",
            "  Created wheel for sentence-transformers: filename=sentence_transformers-2.1.0-py3-none-any.whl size=121000 sha256=0868c7ac119189c3879221e06a47299cb1f704456e56dbfcd1eaf1a28eea2207\n",
            "  Stored in directory: /root/.cache/pip/wheels/90/f0/bb/ed1add84da70092ea526466eadc2bfb197c4bcb8d4fa5f7bad\n",
            "Successfully built sentence-transformers\n",
            "Installing collected packages: pyyaml, tokenizers, sacremoses, huggingface-hub, transformers, sentencepiece, sentence-transformers\n",
            "  Attempting uninstall: pyyaml\n",
            "    Found existing installation: PyYAML 3.13\n",
            "    Uninstalling PyYAML-3.13:\n",
            "      Successfully uninstalled PyYAML-3.13\n",
            "Successfully installed huggingface-hub-0.2.1 pyyaml-6.0 sacremoses-0.0.46 sentence-transformers-2.1.0 sentencepiece-0.1.96 tokenizers-0.10.3 transformers-4.13.0\n"
          ]
        }
      ]
    },
    {
      "cell_type": "code",
      "metadata": {
        "id": "iwAX-oAebEzQ"
      },
      "source": [
        "# from sentence_transformers import SentenceTransformer\n",
        "import tensorflow as tf\n",
        "import tensorflow_hub as hub\n",
        "\n",
        "def cosine_similarity_transformer(k, query, qvocab, origreg, importantwords,reverseMap):\n",
        "    \n",
        "#     find between query and each origreg \n",
        "\n",
        "    d_cosines = []\n",
        "    module_url = \"https://tfhub.dev/google/universal-sentence-encoder/4\"\n",
        "    model = hub.load(module_url)\n",
        "    def embed(input):\n",
        "      return model(input)\n",
        "\n",
        "    query_vector = embed([query])\n",
        "    seg = int(len(origreg)/3)\n",
        "    reg_vectors= embed(origreg[:seg])\n",
        "    reg_vectors_2 = embed(origreg[seg:seg*2])\n",
        "    reg_vectors_3 = embed(origreg[seg*2:])\n",
        "    reg_vectors = tf.concat(axis=0, values = [reg_vectors, reg_vectors_2,reg_vectors_3])\n",
        "    d_cosines=list()\n",
        "    for r in reg_vectors.numpy():\n",
        "        d_cosines.append(cosine_sim(query_vector.numpy()[0], r))\n",
        "\n",
        "    out = np.array(d_cosines).argsort()[::-1]\n",
        "    answers = [ origreg[i] for i in out]\n",
        "    indexs=[]\n",
        "\n",
        "    answers.sort(reverse=True)\n",
        "    distances=list()\n",
        "    for ele in answers:\n",
        "        distances.append(ele[0])\n",
        "        if ele[1] in reverseMap.keys():\n",
        "            indexs.append(reverseMap[ele[1]])\n",
        "        else:\n",
        "            indexs.append(None)\n",
        "    \n",
        "    if(k<len(answers)):\n",
        "        return answers[0:k],indexs[:k],distances[:k]\n",
        "    else:\n",
        "        return answers,indexs,distances\n",
        "\n",
        "\n"
      ],
      "execution_count": null,
      "outputs": []
    },
    {
      "cell_type": "code",
      "metadata": {
        "id": "g3rp-nmxbEzQ"
      },
      "source": [
        "def vectormodel(query, k, qvocab, origreg,importantwords,reverseMap):\n",
        "  A,indexs,distances = cosine_similarity_transformer(k, query, qvocab, origreg, importantwords,reverseMap)\n",
        "  return A,indexs,distances"
      ],
      "execution_count": null,
      "outputs": []
    },
    {
      "cell_type": "code",
      "metadata": {
        "id": "FzE9jsPYbEzQ"
      },
      "source": [
        "from transformers import pipeline\n",
        "import json\n",
        "\n",
        "def answermod(A,queryinput, model_name):\n",
        "    model = pipeline(model=model_name, tokenizer=model_name, task=\"question-answering\")\n",
        "    answers=list()\n",
        "    scores=list()\n",
        "    regs = A\n",
        "    for r in regs:\n",
        "        try:\n",
        "            result=model(question = queryinput, context= r)\n",
        "            answers.append(result[\"answer\"])\n",
        "            scores.append(result[\"score\"])\n",
        "        except:\n",
        "            pass\n",
        "#             print(r)\n",
        "#             print(\"=================\")\n",
        "    out = np.array(scores).argsort()[::-1]\n",
        "    return answers[out[0]], regs[out[0]] , scores[out[0]] # Returns the high score answer,context and the score"
      ],
      "execution_count": null,
      "outputs": []
    },
    {
      "cell_type": "code",
      "metadata": {
        "id": "IkCWYbzubEzQ"
      },
      "source": [
        "def QnAmodel(queryinput, docinput,k,category, model_name,print_output = False):\n",
        "\n",
        "    if print_output:\n",
        "        print('Preprocessing query......')\n",
        "    qvocab,query = queryvocab(queryinput)\n",
        "    if(category == 'regulations'):\n",
        "        docinput = regextract(docinput, docs, docregs, mainvocab, vocabdef, queryinput, glossary)\n",
        "        query, qvocab, importantwords, expansionwords = querypreprocess(query, qvocab, definitions, finaltopics)\n",
        "        \n",
        "        if print_output:\n",
        "            print('tf-idf calculation in progress.....')\n",
        "        origreg,reverseMap = tfidfreg(docregs,docinput,category)\n",
        "        \n",
        "        if print_output:\n",
        "            print('Extracting relevant answer regulations.......')\n",
        "        A,indexs,distances = vectormodel(query, k, qvocab, origreg,importantwords,reverseMap)\n",
        "        Aold = A\n",
        "\n",
        "    elif(category == 'misc'):        \n",
        "        N = 440 \n",
        "\n",
        "        with open('data/misc_filenames_testing.pkl','rb') as filer:\n",
        "            lcfiles = pickle.load(filer)\n",
        "\n",
        "        with open( 'data/misc_origreg_testing.pkl','rb') as filer:\n",
        "            origreg = pickle.load(filer)\n",
        "\n",
        "        assert len(origreg) == len(lcfiles)\n",
        "        reverseMap = dict()\n",
        "        for key,val in zip(origreg,lcfiles):\n",
        "          reverseMap[key]=val\n",
        "\n",
        "        query, qvocab, importantwords, expansionwords = querypreprocess(queryinput, qvocab, definitions, finaltopics)\n",
        "        if print_output:\n",
        "            print('Extracting relevant answer regulations.......')\n",
        "        \n",
        "\n",
        "        A,indexs,distances = vectormodel(query=query, k=k, qvocab=qvocab, origreg=origreg,importantwords=importantwords,reverseMap=reverseMap)\n",
        "\n",
        "    elif(category == 'legal case'):\n",
        "        N = 1496 \n",
        "        \n",
        "        with open(DATA + 'casefiles_sentences_new.pkl','rb') as filer:\n",
        "            case_sentences = pickle.load(filer)\n",
        "\n",
        "        with open('data/legal_filenames_testing.pkl','rb') as filer:\n",
        "            lcfiles = pickle.load(filer)\n",
        "\n",
        "        with open( 'data/legal_origreg_testing.pkl','rb') as filer:\n",
        "            origreg = pickle.load(filer)\n",
        "\n",
        "        assert len(origreg) == len(lcfiles)\n",
        "        reverseMap = dict()\n",
        "        for key,val in zip(origreg,lcfiles):\n",
        "          reverseMap[key]=val\n",
        "\n",
        "        query, qvocab, importantwords, expansionwords = querypreprocess(queryinput, qvocab, definitions, finaltopics)\n",
        "        if print_output:\n",
        "            print('Extracting relevant answer regulations.......')\n",
        "\n",
        "        A,indexs,distances = vectormodel(query=query, k=k, qvocab=qvocab, origreg=origreg,importantwords=importantwords,reverseMap=reverseMap)\n",
        "        \n",
        "    else:\n",
        "        return None\n",
        "        \n",
        "    if print_output:\n",
        "        print('Extracting answer')\n",
        "    answer, ansreg ,confidence_score= answermod(A, queryinput,model_name)\n",
        "    \n",
        "    return answer, ansreg\n"
      ],
      "execution_count": null,
      "outputs": []
    },
    {
      "cell_type": "code",
      "metadata": {
        "colab": {
          "base_uri": "https://localhost:8080/"
        },
        "id": "wXXDEEJJNF8A",
        "outputId": "2a128861-3ebb-4196-e539-f60f0547030f"
      },
      "source": [
        "\n",
        "import time\n",
        "\n",
        "# queryinput = \"Who is an acquirer under SAST?\"\n",
        "# docinput = 'All'\n",
        "# category = 'legal case'\n",
        "\n",
        "# queryinput = \"How much amount will be provided as reward for informants in insider trading cases\"\n",
        "# docinput = 'All'\n",
        "# category = 'regulations'\n",
        "\n",
        "queryinput = \"Can an investment manager manage multiple InvIT?\"\n",
        "docinput = 'All'\n",
        "category = 'misc'\n",
        "\n",
        "model_name = \"deepset/roberta-base-squad2\"\n",
        "\n",
        "k=15\n",
        "begin = time.time()\n",
        "answer,ansreg = QnAmodel(queryinput,docinput,k, category,model_name)\n",
        "\n",
        "end=time.time()"
      ],
      "execution_count": null,
      "outputs": [
        {
          "name": "stderr",
          "output_type": "stream",
          "text": [
            "INFO:absl:Using /tmp/tfhub_modules to cache modules.\n",
            "/usr/local/lib/python3.7/dist-packages/numpy/core/_asarray.py:83: VisibleDeprecationWarning: Creating an ndarray from ragged nested sequences (which is a list-or-tuple of lists-or-tuples-or ndarrays with different lengths or shapes) is deprecated. If you meant to do this, you must specify 'dtype=object' when creating the ndarray\n",
            "  return array(a, dtype, copy=False, order=order)\n"
          ]
        }
      ]
    },
    {
      "cell_type": "code",
      "metadata": {
        "colab": {
          "base_uri": "https://localhost:8080/"
        },
        "id": "Lchk3GyLOFcE",
        "outputId": "2f2355a3-2217-4c6e-d764-840c6b27e080"
      },
      "source": [
        "(end-begin)/60"
      ],
      "execution_count": null,
      "outputs": [
        {
          "data": {
            "text/plain": [
              "1.0429712375005087"
            ]
          },
          "execution_count": 20,
          "metadata": {},
          "output_type": "execute_result"
        }
      ]
    },
    {
      "cell_type": "code",
      "metadata": {
        "colab": {
          "base_uri": "https://localhost:8080/"
        },
        "id": "KR_yYf3WOItc",
        "outputId": "58f77734-238a-4d62-d4d4-0a7001618552"
      },
      "source": [
        "print(queryinput)\n",
        "print()\n",
        "print(answer)\n",
        "print()\n",
        "print(ansreg)"
      ],
      "execution_count": null,
      "outputs": [
        {
          "name": "stdout",
          "output_type": "stream",
          "text": [
            "Can an investment manager manage multiple InvIT?\n",
            "\n",
            "GIL cannot fix tenure of OCDs beyond 18 months\n",
            "\n",
            "your letter under reference and without necessarily agreeing with your analysis, our views on the queries raised by you are as under:5. Response to Query no. (i):i. Regulation 70(1) of Chapter vii on Preferential Issue, of SEBI (ICDR) Regulations,2009 clearly states that \"the provisions of this Chapter shall not apply where the preferential issue of equity shares is made:(a) Pursuant to conversion of loan or option attached to convertible debt instruments in terms of sub-section (3) and (4) of section 81 of Companies Act, 1956 or sub-section (3) and (4) of section 62 of the Companies Act, 2013, whichever applicable;(b)(c) ....\"ii. Regulation 70(1) clearly specifies that it shall not apply where preferential Issueof equity shares is made pursuant to option attached to convertible debtinstruments sub-section (3) and (4) of section 62 of the Companies Act, 2013.JContinuationwral-ErNAT rcirrilit4 0)5Securities and Exchange Board of IndiaPreferential issue of OCDs in terms of sub-section 3 of section 62 of Companies Act, 2013 is not covered in the exemptions provided in Regulation 70(1) of SEBI (ICDR), 2009. Hence, the provisions of Chapter VII of SEBI (ICDR) Regulation, 2009 will be applicable to the proposed issue of OCDs by GIL.6. Response to Query no. (ii)i. Regulation 75 of ICDR provides for Tenure of Convertible Securities. Even though Chapter VII would not be applicable at the time of issue of equity shares on preferential basis, the provisions of Chapter VII of ICDR would be applicable to proposed issue of OCDs by GIL. Hence, GIL cannot fix tenure of OCDs beyond 18 months.II. As per Regulation 2(1)(zj) 'Specified Securities' means 'equity shares and convertible securities'. Regulation 78 provides for Lock-in of Specified Securities Hence, provisions of Regulation 78 would be applicable to the proposed issue of OCDs by GIL and it would be required to comply with lock-in requirements as specified under Regulation 78 of ICDR.7 Response to Query no. (iii)The provisions of Chapter VII of ICDR are applicable at the time of issue of OCDs by GIL. However, as per Regulation 70(1) (a) the provisions of this Chapter would not apply pursuant to conversion of option attached to convertible debt instruments in terms of sub-section (3) of Section 62 of the Companies Act. if GIL issues equity shares pursuant to conversion of OCDs in compliance with sub-section (3) of Section 62 of the Companies Act, the provisions of Chapter VII of ICDR would not be applicable at the time of issuance of Equity Shares.8. Vide your aforesaid letter, you have requested for confidentiality in respect of your application. Accordingly, it has been decided that the letter issued to you in this matter will not be made public for a period of 90 days from the date of issuance of this letter.9. The above position is based on the information furnished in your letter under reference. Different facts or conditions might lead to a different result. This letter expresses the Department's view on enforcement action only. Further, this letter does not express a decision of the Board on the question referred.10. You may also note that the above views are\n"
          ]
        }
      ]
    },
    {
      "cell_type": "code",
      "metadata": {
        "colab": {
          "base_uri": "https://localhost:8080/"
        },
        "id": "EaoaaSgoqgrE",
        "outputId": "4274aec3-bbc4-4ddf-f58d-15773bf5f077"
      },
      "source": [
        "queryinput = \"Who is an acquirer under SAST?\"\n",
        "docinput = 'All'\n",
        "category = 'legal case'\n",
        "\n",
        "# queryinput = \"Can an investment manager manage multiple InvIT?\"\n",
        "# docinput = 'All'\n",
        "# category = 'misc'\n",
        "\n",
        "model_name = \"deepset/roberta-base-squad2\"\n",
        "\n",
        "k=15\n",
        "begin = time.time()\n",
        "answer,ansreg = QnAmodel(queryinput,docinput,k, category,model_name,print_output=True)\n",
        "\n",
        "end=time.time()\n",
        "(end-begin)/60"
      ],
      "execution_count": null,
      "outputs": [
        {
          "name": "stdout",
          "output_type": "stream",
          "text": [
            "Preprocessing query......\n",
            "Extracting relevant answer regulations.......\n",
            "Extracting answer\n"
          ]
        },
        {
          "name": "stderr",
          "output_type": "stream",
          "text": [
            "/usr/local/lib/python3.7/dist-packages/numpy/core/_asarray.py:83: VisibleDeprecationWarning: Creating an ndarray from ragged nested sequences (which is a list-or-tuple of lists-or-tuples-or ndarrays with different lengths or shapes) is deprecated. If you meant to do this, you must specify 'dtype=object' when creating the ndarray\n",
            "  return array(a, dtype, copy=False, order=order)\n"
          ]
        },
        {
          "data": {
            "text/plain": [
              "1.3134735822677612"
            ]
          },
          "execution_count": 22,
          "metadata": {},
          "output_type": "execute_result"
        }
      ]
    },
    {
      "cell_type": "code",
      "metadata": {
        "colab": {
          "base_uri": "https://localhost:8080/"
        },
        "id": "WTygAQUdqguM",
        "outputId": "a38db5e7-8324-47db-bc08-7143ee6dbc8b"
      },
      "source": [
        "print(queryinput)\n",
        "print()\n",
        "print(answer)\n",
        "print()\n",
        "print(ansreg)"
      ],
      "execution_count": null,
      "outputs": [
        {
          "name": "stdout",
          "output_type": "stream",
          "text": [
            "Who is an acquirer under SAST?\n",
            "\n",
            "Omesh Sethi\n",
            "\n",
            " Being a Non-Executive Independent Director of RLL, noticee’s husband would have been aware of only such matters (including those related to subsidiaries of RLL) that were brought before the Board of RLL (including any Committee(s) of the Board of RLL of which noticee was a member) or discussed there. The matter of purchase of OCPL shares by Solrex was informed to the Board of RLL for the first time at its meeting held on April 22, 2008. Hence, in the absence of any evidence to the contrary, it cannot be alleged that the noticee’s husband was aware of the decision of Solrex to buy shares of OCPL prior to April 22, 2008.  It also appears to be SEBI’s case that the funding of Solrex for the purchase of OCPL shares was done by RLL pursuant to the meeting of the Board of Directors of RLL on March 28, 2008. However, in reality, the discussions at the RLL Board meeting on March 28, 2008 in this regard were limited to authorizing Mr. Malvinder Singh (who was the CEO & Managing Director of RLL during the Relevant Period) to extend loans to wholly owned subsidiaries of RLL up to 800 crores in the aggregate. Here the noticee would also like to point out that RLL had 54 subsidiaries globally as on March 31, 2008. A generic decision of the Board to authorize granting of loans to its subsidiaries cannot be construed as a specific decision in relation to authorization for grant of loans to SPL and RPL.  The IR also records that RLL, Solrex, Mr. Malvinder Mohan Singh, Mr. Amitabh Gupta (the then Vice President – M&A and Business Analysis), Mr. Omesh Sethi (Vice President and Head Global Finance), Mr. Sandeep Mahendroo (Director Finance – Global Manufacturing & Shared Services Centre), and Mr. Sunil Kumar ( Director Internal Audit of Ranbaxy) (These individuals were aware about the deal) have independently confirmed to SEBI that noticee’s husband was No in possession of information relating to purchase of OCPL shares by Solrex during the Relevant Period.  The purported extracts of the IR also note that “it is found that Mr. Malvinder Singh and Mr. Omesh Sethi had a number of telephonic contacts on the mobile of the noticee’s husband on and before March 28, 2008 wherein they could have also discussed about the purchase of OCPL shares. However, no conclusive proof in this regard could be found.”  It is a settled position of law that mere surmise and conjecture or suspicion cannot sustain the holding of guilt. In this regard, the ruling in the case of Nandkishor Prasad vs. State of Bihar is relevant, since the Supreme Court observed that: “The minimum requirement of the rules of natural justice is that the Tribunal should arrive at its conclusion on the basis of some evidence i.e. evidential material which with some degree of definiteness points to the guilt of the delinquent in respect of the charge against him. Suspicion cannot be allowed to take place of proof even in domestic enquiries.” \n"
          ]
        }
      ]
    },
    {
      "cell_type": "code",
      "metadata": {
        "id": "Eb3fKL3aCMVc"
      },
      "source": [
        "with open(DATA + 'misc_origreg_new.pkl', 'rb') as f:\n",
        "    origreg = pickle.load(f)"
      ],
      "execution_count": null,
      "outputs": []
    },
    {
      "cell_type": "code",
      "metadata": {
        "id": "3yA1A6Mx_RIM"
      },
      "source": [
        "with open(DATA + 'concept_text.pkl','rb') as f:\n",
        "    origreg = pickle.load(f) \n"
      ],
      "execution_count": null,
      "outputs": []
    },
    {
      "cell_type": "code",
      "metadata": {
        "colab": {
          "base_uri": "https://localhost:8080/",
          "height": 237
        },
        "id": "kMUt93esJlM8",
        "outputId": "03cb3106-1965-4fe2-bd49-134308fe3253"
      },
      "source": [
        "query_vector = embed([queryinput])\n",
        "t=0\n",
        "d_cosines=list()\n",
        "for r in reg_vectors.numpy():\n",
        "    d_cosines.append(cosine_sim(query_vector.numpy()[0], r))\n",
        "    t=t+1\n",
        "    \n",
        "out = np.array(d_cosines).argsort()[::-1]\n"
      ],
      "execution_count": null,
      "outputs": [
        {
          "ename": "NameError",
          "evalue": "ignored",
          "output_type": "error",
          "traceback": [
            "\u001b[0;31m---------------------------------------------------------------------------\u001b[0m",
            "\u001b[0;31mNameError\u001b[0m                                 Traceback (most recent call last)",
            "\u001b[0;32m<ipython-input-26-6545ad6ee62e>\u001b[0m in \u001b[0;36m<module>\u001b[0;34m()\u001b[0m\n\u001b[0;32m----> 1\u001b[0;31m \u001b[0mquery_vector\u001b[0m \u001b[0;34m=\u001b[0m \u001b[0membed\u001b[0m\u001b[0;34m(\u001b[0m\u001b[0;34m[\u001b[0m\u001b[0mqueryinput\u001b[0m\u001b[0;34m]\u001b[0m\u001b[0;34m)\u001b[0m\u001b[0;34m\u001b[0m\u001b[0;34m\u001b[0m\u001b[0m\n\u001b[0m\u001b[1;32m      2\u001b[0m \u001b[0mt\u001b[0m\u001b[0;34m=\u001b[0m\u001b[0;36m0\u001b[0m\u001b[0;34m\u001b[0m\u001b[0;34m\u001b[0m\u001b[0m\n\u001b[1;32m      3\u001b[0m \u001b[0md_cosines\u001b[0m\u001b[0;34m=\u001b[0m\u001b[0mlist\u001b[0m\u001b[0;34m(\u001b[0m\u001b[0;34m)\u001b[0m\u001b[0;34m\u001b[0m\u001b[0;34m\u001b[0m\u001b[0m\n\u001b[1;32m      4\u001b[0m \u001b[0;32mfor\u001b[0m \u001b[0mr\u001b[0m \u001b[0;32min\u001b[0m \u001b[0mreg_vectors\u001b[0m\u001b[0;34m.\u001b[0m\u001b[0mnumpy\u001b[0m\u001b[0;34m(\u001b[0m\u001b[0;34m)\u001b[0m\u001b[0;34m:\u001b[0m\u001b[0;34m\u001b[0m\u001b[0;34m\u001b[0m\u001b[0m\n\u001b[1;32m      5\u001b[0m     \u001b[0md_cosines\u001b[0m\u001b[0;34m.\u001b[0m\u001b[0mappend\u001b[0m\u001b[0;34m(\u001b[0m\u001b[0mcosine_sim\u001b[0m\u001b[0;34m(\u001b[0m\u001b[0mquery_vector\u001b[0m\u001b[0;34m.\u001b[0m\u001b[0mnumpy\u001b[0m\u001b[0;34m(\u001b[0m\u001b[0;34m)\u001b[0m\u001b[0;34m[\u001b[0m\u001b[0;36m0\u001b[0m\u001b[0;34m]\u001b[0m\u001b[0;34m,\u001b[0m \u001b[0mr\u001b[0m\u001b[0;34m)\u001b[0m\u001b[0;34m)\u001b[0m\u001b[0;34m\u001b[0m\u001b[0;34m\u001b[0m\u001b[0m\n",
            "\u001b[0;31mNameError\u001b[0m: name 'embed' is not defined"
          ]
        }
      ]
    },
    {
      "cell_type": "code",
      "metadata": {
        "id": "_2aCyNZlLPho"
      },
      "source": [
        "reg_vectors.numpy()[0]"
      ],
      "execution_count": null,
      "outputs": []
    },
    {
      "cell_type": "code",
      "metadata": {
        "id": "Ep28l80hxypM"
      },
      "source": [
        "def avg_length(collect):\n",
        "  total = 0 \n",
        "  for c in collect:\n",
        "    total+=len(c.split())\n",
        "  return total/len(collect)"
      ],
      "execution_count": null,
      "outputs": []
    },
    {
      "cell_type": "code",
      "metadata": {
        "id": "ki15SL-Izx48"
      },
      "source": [
        "type(origreg[0])"
      ],
      "execution_count": null,
      "outputs": []
    },
    {
      "cell_type": "code",
      "metadata": {
        "id": "7S5b7Hj6yXiI"
      },
      "source": [
        "# print(\"The average length of for misc rules is\")\n",
        "# print(avg_length(rules))\n",
        "print(\"The average length of for misc origreg is\")\n",
        "print(avg_length(origreg))"
      ],
      "execution_count": null,
      "outputs": []
    },
    {
      "cell_type": "code",
      "metadata": {
        "id": "GmAKTPib0AAE"
      },
      "source": [
        "# rules = ltext\n",
        "with open(DATA + 'case_origreg_new.pkl', 'rb') as f:\n",
        "    origreg = pickle.load(f)\n",
        "# len(rules),len(ltext)"
      ],
      "execution_count": null,
      "outputs": []
    },
    {
      "cell_type": "code",
      "metadata": {
        "id": "-ugcXkmI0ADM"
      },
      "source": [
        "# print(\"The average length of for casefiles rules is\")\n",
        "# print(avg_length(rules))\n",
        "print(\"The average length of for casefiles origreg is\")\n",
        "print(avg_length(origreg))"
      ],
      "execution_count": null,
      "outputs": []
    },
    {
      "cell_type": "code",
      "metadata": {
        "id": "EDOXH1cv0AGU"
      },
      "source": [
        "len(lfile)"
      ],
      "execution_count": null,
      "outputs": []
    },
    {
      "cell_type": "code",
      "metadata": {
        "id": "X9JHhbhG_XcU"
      },
      "source": [
        ""
      ],
      "execution_count": null,
      "outputs": []
    },
    {
      "cell_type": "markdown",
      "metadata": {
        "id": "BKfWjg7rbEzQ"
      },
      "source": [
        "### Data loading"
      ]
    },
    {
      "cell_type": "code",
      "metadata": {
        "colab": {
          "base_uri": "https://localhost:8080/",
          "height": 1000
        },
        "id": "jqoAqBkqbEzQ",
        "outputId": "f288ddda-23c5-4602-c6e8-034cd14c49ad"
      },
      "source": [
        "df = pd.read_csv(\"QnA_Latest.csv\")\n",
        "df.index.name=\"id\"\n",
        "df"
      ],
      "execution_count": null,
      "outputs": [
        {
          "output_type": "execute_result",
          "data": {
            "text/html": [
              "\n",
              "  <div id=\"df-92e50bda-e775-455e-90f7-6054b18189ce\">\n",
              "    <div class=\"colab-df-container\">\n",
              "      <div>\n",
              "<style scoped>\n",
              "    .dataframe tbody tr th:only-of-type {\n",
              "        vertical-align: middle;\n",
              "    }\n",
              "\n",
              "    .dataframe tbody tr th {\n",
              "        vertical-align: top;\n",
              "    }\n",
              "\n",
              "    .dataframe thead th {\n",
              "        text-align: right;\n",
              "    }\n",
              "</style>\n",
              "<table border=\"1\" class=\"dataframe\">\n",
              "  <thead>\n",
              "    <tr style=\"text-align: right;\">\n",
              "      <th></th>\n",
              "      <th>question</th>\n",
              "      <th>Answer Span</th>\n",
              "      <th>context</th>\n",
              "      <th>Document</th>\n",
              "      <th>Keywords</th>\n",
              "      <th>Start index</th>\n",
              "      <th>Annotator</th>\n",
              "    </tr>\n",
              "    <tr>\n",
              "      <th>id</th>\n",
              "      <th></th>\n",
              "      <th></th>\n",
              "      <th></th>\n",
              "      <th></th>\n",
              "      <th></th>\n",
              "      <th></th>\n",
              "      <th></th>\n",
              "    </tr>\n",
              "  </thead>\n",
              "  <tbody>\n",
              "    <tr>\n",
              "      <th>0</th>\n",
              "      <td>Does an innocent recipient of UPSI have any de...</td>\n",
              "      <td>insider may prove his innocence by demonstrati...</td>\n",
              "      <td>The report (Para 55) suggests “where a person ...</td>\n",
              "      <td>1585217059979</td>\n",
              "      <td>innocent recipient, UPSI, defence</td>\n",
              "      <td>1054.0</td>\n",
              "      <td>NaN</td>\n",
              "    </tr>\n",
              "    <tr>\n",
              "      <th>1</th>\n",
              "      <td>Will a promoter group entity require a pre-cle...</td>\n",
              "      <td>only by \"Designated persons\" if the value of t...</td>\n",
              "      <td>With respect to the query at 5(i), attention m...</td>\n",
              "      <td>0c9f4131313e54e49d7b9915993ab00e</td>\n",
              "      <td>pre-clearance, compliance officer, designated ...</td>\n",
              "      <td>678.0</td>\n",
              "      <td>NaN</td>\n",
              "    </tr>\n",
              "    <tr>\n",
              "      <th>2</th>\n",
              "      <td>Is inter-se off-market transfer of shares betw...</td>\n",
              "      <td>promoters have the option to convert warrants ...</td>\n",
              "      <td>In the instant case, the said promoters have t...</td>\n",
              "      <td>0e8e621eb1aee80e102b4186ac874ed5</td>\n",
              "      <td>inter-se off market transfer, block deal, cont...</td>\n",
              "      <td>0.0</td>\n",
              "      <td>NaN</td>\n",
              "    </tr>\n",
              "    <tr>\n",
              "      <th>3</th>\n",
              "      <td>Can an AIF invest its unutilized funds in liqu...</td>\n",
              "      <td>may invest investment income or investment pro...</td>\n",
              "      <td>The provisions under Regulation 15(1)(f) is pr...</td>\n",
              "      <td>1e4e946eca55a80467aad2e1546dd639</td>\n",
              "      <td>unutilized funds, Alternate Investment Funds, ...</td>\n",
              "      <td>257.0</td>\n",
              "      <td>NaN</td>\n",
              "    </tr>\n",
              "    <tr>\n",
              "      <th>4</th>\n",
              "      <td>What are the penal consequences of not furnish...</td>\n",
              "      <td>attract the penalty prescribed under section 1...</td>\n",
              "      <td>The Honorable Securities Appellate Tribunal (h...</td>\n",
              "      <td>1289453383303</td>\n",
              "      <td>Noticee, Summons, failure to Comply with summo...</td>\n",
              "      <td>1396.0</td>\n",
              "      <td>NaN</td>\n",
              "    </tr>\n",
              "    <tr>\n",
              "      <th>...</th>\n",
              "      <td>...</td>\n",
              "      <td>...</td>\n",
              "      <td>...</td>\n",
              "      <td>...</td>\n",
              "      <td>...</td>\n",
              "      <td>...</td>\n",
              "      <td>...</td>\n",
              "    </tr>\n",
              "    <tr>\n",
              "      <th>103</th>\n",
              "      <td>What is InvIT?</td>\n",
              "      <td>vehicles allowing for adding of projects in fu...</td>\n",
              "      <td>InvITs are proposed to be vehicles allowing fo...</td>\n",
              "      <td>1387543144855</td>\n",
              "      <td>regulations, guidelines, authority, markets</td>\n",
              "      <td>NaN</td>\n",
              "      <td>Raj</td>\n",
              "    </tr>\n",
              "    <tr>\n",
              "      <th>104</th>\n",
              "      <td>What does the Section 77A of the Companies Act...</td>\n",
              "      <td>contains the basic framework for\\ncompanies to...</td>\n",
              "      <td>Section 77A of the Companies Act, 1956 contain...</td>\n",
              "      <td>1357124740967</td>\n",
              "      <td>regulations, guidelines, authority</td>\n",
              "      <td>NaN</td>\n",
              "      <td>Raj</td>\n",
              "    </tr>\n",
              "    <tr>\n",
              "      <th>105</th>\n",
              "      <td>What does the Section 77A(4) of the Companies ...</td>\n",
              "      <td>every buy back shall\\nbe completed within a pe...</td>\n",
              "      <td>Section 77A(4) of the Companies Act, 1956 spec...</td>\n",
              "      <td>1357124740967</td>\n",
              "      <td>regulations, guidelines, authority, act</td>\n",
              "      <td>NaN</td>\n",
              "      <td>Raj</td>\n",
              "    </tr>\n",
              "    <tr>\n",
              "      <th>106</th>\n",
              "      <td>What does the Section 77A(2) of the Companies ...</td>\n",
              "      <td>prohibits only back to back\\nbuy backs through...</td>\n",
              "      <td>Section 77A(2) of the Companies Act,1956 prohi...</td>\n",
              "      <td>1357124740967</td>\n",
              "      <td>regulations, guidelines, authority, act</td>\n",
              "      <td>NaN</td>\n",
              "      <td>Raj</td>\n",
              "    </tr>\n",
              "    <tr>\n",
              "      <th>107</th>\n",
              "      <td>What does the Section 19(1)(e) of SEBI(Buy bac...</td>\n",
              "      <td>The company shall ensure that the promoter or ...</td>\n",
              "      <td>Section 19(1)(e) of SEBI(Buy back of Securitie...</td>\n",
              "      <td>1357124740967</td>\n",
              "      <td>regulations, guidelines, authority, act</td>\n",
              "      <td>NaN</td>\n",
              "      <td>Raj</td>\n",
              "    </tr>\n",
              "  </tbody>\n",
              "</table>\n",
              "<p>108 rows × 7 columns</p>\n",
              "</div>\n",
              "      <button class=\"colab-df-convert\" onclick=\"convertToInteractive('df-92e50bda-e775-455e-90f7-6054b18189ce')\"\n",
              "              title=\"Convert this dataframe to an interactive table.\"\n",
              "              style=\"display:none;\">\n",
              "        \n",
              "  <svg xmlns=\"http://www.w3.org/2000/svg\" height=\"24px\"viewBox=\"0 0 24 24\"\n",
              "       width=\"24px\">\n",
              "    <path d=\"M0 0h24v24H0V0z\" fill=\"none\"/>\n",
              "    <path d=\"M18.56 5.44l.94 2.06.94-2.06 2.06-.94-2.06-.94-.94-2.06-.94 2.06-2.06.94zm-11 1L8.5 8.5l.94-2.06 2.06-.94-2.06-.94L8.5 2.5l-.94 2.06-2.06.94zm10 10l.94 2.06.94-2.06 2.06-.94-2.06-.94-.94-2.06-.94 2.06-2.06.94z\"/><path d=\"M17.41 7.96l-1.37-1.37c-.4-.4-.92-.59-1.43-.59-.52 0-1.04.2-1.43.59L10.3 9.45l-7.72 7.72c-.78.78-.78 2.05 0 2.83L4 21.41c.39.39.9.59 1.41.59.51 0 1.02-.2 1.41-.59l7.78-7.78 2.81-2.81c.8-.78.8-2.07 0-2.86zM5.41 20L4 18.59l7.72-7.72 1.47 1.35L5.41 20z\"/>\n",
              "  </svg>\n",
              "      </button>\n",
              "      \n",
              "  <style>\n",
              "    .colab-df-container {\n",
              "      display:flex;\n",
              "      flex-wrap:wrap;\n",
              "      gap: 12px;\n",
              "    }\n",
              "\n",
              "    .colab-df-convert {\n",
              "      background-color: #E8F0FE;\n",
              "      border: none;\n",
              "      border-radius: 50%;\n",
              "      cursor: pointer;\n",
              "      display: none;\n",
              "      fill: #1967D2;\n",
              "      height: 32px;\n",
              "      padding: 0 0 0 0;\n",
              "      width: 32px;\n",
              "    }\n",
              "\n",
              "    .colab-df-convert:hover {\n",
              "      background-color: #E2EBFA;\n",
              "      box-shadow: 0px 1px 2px rgba(60, 64, 67, 0.3), 0px 1px 3px 1px rgba(60, 64, 67, 0.15);\n",
              "      fill: #174EA6;\n",
              "    }\n",
              "\n",
              "    [theme=dark] .colab-df-convert {\n",
              "      background-color: #3B4455;\n",
              "      fill: #D2E3FC;\n",
              "    }\n",
              "\n",
              "    [theme=dark] .colab-df-convert:hover {\n",
              "      background-color: #434B5C;\n",
              "      box-shadow: 0px 1px 3px 1px rgba(0, 0, 0, 0.15);\n",
              "      filter: drop-shadow(0px 1px 2px rgba(0, 0, 0, 0.3));\n",
              "      fill: #FFFFFF;\n",
              "    }\n",
              "  </style>\n",
              "\n",
              "      <script>\n",
              "        const buttonEl =\n",
              "          document.querySelector('#df-92e50bda-e775-455e-90f7-6054b18189ce button.colab-df-convert');\n",
              "        buttonEl.style.display =\n",
              "          google.colab.kernel.accessAllowed ? 'block' : 'none';\n",
              "\n",
              "        async function convertToInteractive(key) {\n",
              "          const element = document.querySelector('#df-92e50bda-e775-455e-90f7-6054b18189ce');\n",
              "          const dataTable =\n",
              "            await google.colab.kernel.invokeFunction('convertToInteractive',\n",
              "                                                     [key], {});\n",
              "          if (!dataTable) return;\n",
              "\n",
              "          const docLinkHtml = 'Like what you see? Visit the ' +\n",
              "            '<a target=\"_blank\" href=https://colab.research.google.com/notebooks/data_table.ipynb>data table notebook</a>'\n",
              "            + ' to learn more about interactive tables.';\n",
              "          element.innerHTML = '';\n",
              "          dataTable['output_type'] = 'display_data';\n",
              "          await google.colab.output.renderOutput(dataTable, element);\n",
              "          const docLink = document.createElement('div');\n",
              "          docLink.innerHTML = docLinkHtml;\n",
              "          element.appendChild(docLink);\n",
              "        }\n",
              "      </script>\n",
              "    </div>\n",
              "  </div>\n",
              "  "
            ],
            "text/plain": [
              "                                              question  ... Annotator\n",
              "id                                                      ...          \n",
              "0    Does an innocent recipient of UPSI have any de...  ...       NaN\n",
              "1    Will a promoter group entity require a pre-cle...  ...       NaN\n",
              "2    Is inter-se off-market transfer of shares betw...  ...       NaN\n",
              "3    Can an AIF invest its unutilized funds in liqu...  ...       NaN\n",
              "4    What are the penal consequences of not furnish...  ...       NaN\n",
              "..                                                 ...  ...       ...\n",
              "103                                     What is InvIT?  ...       Raj\n",
              "104  What does the Section 77A of the Companies Act...  ...       Raj\n",
              "105  What does the Section 77A(4) of the Companies ...  ...       Raj\n",
              "106  What does the Section 77A(2) of the Companies ...  ...       Raj\n",
              "107  What does the Section 19(1)(e) of SEBI(Buy bac...  ...       Raj\n",
              "\n",
              "[108 rows x 7 columns]"
            ]
          },
          "metadata": {},
          "execution_count": 7
        }
      ]
    },
    {
      "cell_type": "code",
      "metadata": {
        "colab": {
          "base_uri": "https://localhost:8080/",
          "height": 690
        },
        "id": "EG2OYRWLbEzQ",
        "outputId": "d3452231-e1a6-4106-ec8b-3f83b3a06f38"
      },
      "source": [
        "def start_index(span,context):\n",
        "  return context.find(span)\n",
        "      \n",
        "df[\"Start index\"] = df.apply(lambda x: start_index(x[\"Answer Span\"],x[\"context\"]),axis=1)\n",
        "df[[\"Answer Span\",\"context\",\"Start index\"]]"
      ],
      "execution_count": null,
      "outputs": [
        {
          "output_type": "execute_result",
          "data": {
            "text/html": [
              "\n",
              "  <div id=\"df-7d4d339d-4e93-4cf5-8918-19c35a4206f7\">\n",
              "    <div class=\"colab-df-container\">\n",
              "      <div>\n",
              "<style scoped>\n",
              "    .dataframe tbody tr th:only-of-type {\n",
              "        vertical-align: middle;\n",
              "    }\n",
              "\n",
              "    .dataframe tbody tr th {\n",
              "        vertical-align: top;\n",
              "    }\n",
              "\n",
              "    .dataframe thead th {\n",
              "        text-align: right;\n",
              "    }\n",
              "</style>\n",
              "<table border=\"1\" class=\"dataframe\">\n",
              "  <thead>\n",
              "    <tr style=\"text-align: right;\">\n",
              "      <th></th>\n",
              "      <th>Answer Span</th>\n",
              "      <th>context</th>\n",
              "      <th>Start index</th>\n",
              "    </tr>\n",
              "    <tr>\n",
              "      <th>id</th>\n",
              "      <th></th>\n",
              "      <th></th>\n",
              "      <th></th>\n",
              "    </tr>\n",
              "  </thead>\n",
              "  <tbody>\n",
              "    <tr>\n",
              "      <th>0</th>\n",
              "      <td>insider may prove his innocence by demonstrati...</td>\n",
              "      <td>The report (Para 55) suggests “where a person ...</td>\n",
              "      <td>844</td>\n",
              "    </tr>\n",
              "    <tr>\n",
              "      <th>1</th>\n",
              "      <td>only by \"Designated persons\" if the value of t...</td>\n",
              "      <td>With respect to the query at 5(i), attention m...</td>\n",
              "      <td>741</td>\n",
              "    </tr>\n",
              "    <tr>\n",
              "      <th>2</th>\n",
              "      <td>promoters have the option to convert warrants ...</td>\n",
              "      <td>In the instant case, the said promoters have t...</td>\n",
              "      <td>30</td>\n",
              "    </tr>\n",
              "    <tr>\n",
              "      <th>3</th>\n",
              "      <td>may invest investment income or investment pro...</td>\n",
              "      <td>The provisions under Regulation 15(1)(f) is pr...</td>\n",
              "      <td>278</td>\n",
              "    </tr>\n",
              "    <tr>\n",
              "      <th>4</th>\n",
              "      <td>attract the penalty prescribed under section 1...</td>\n",
              "      <td>The Honorable Securities Appellate Tribunal (h...</td>\n",
              "      <td>248</td>\n",
              "    </tr>\n",
              "    <tr>\n",
              "      <th>...</th>\n",
              "      <td>...</td>\n",
              "      <td>...</td>\n",
              "      <td>...</td>\n",
              "    </tr>\n",
              "    <tr>\n",
              "      <th>103</th>\n",
              "      <td>vehicles allowing for adding of projects in fu...</td>\n",
              "      <td>InvITs are proposed to be vehicles allowing fo...</td>\n",
              "      <td>26</td>\n",
              "    </tr>\n",
              "    <tr>\n",
              "      <th>104</th>\n",
              "      <td>contains the basic framework for\\ncompanies to...</td>\n",
              "      <td>Section 77A of the Companies Act, 1956 contain...</td>\n",
              "      <td>39</td>\n",
              "    </tr>\n",
              "    <tr>\n",
              "      <th>105</th>\n",
              "      <td>every buy back shall\\nbe completed within a pe...</td>\n",
              "      <td>Section 77A(4) of the Companies Act, 1956 spec...</td>\n",
              "      <td>57</td>\n",
              "    </tr>\n",
              "    <tr>\n",
              "      <th>106</th>\n",
              "      <td>prohibits only back to back\\nbuy backs through...</td>\n",
              "      <td>Section 77A(2) of the Companies Act,1956 prohi...</td>\n",
              "      <td>41</td>\n",
              "    </tr>\n",
              "    <tr>\n",
              "      <th>107</th>\n",
              "      <td>The company shall ensure that the promoter or ...</td>\n",
              "      <td>Section 19(1)(e) of SEBI(Buy back of Securitie...</td>\n",
              "      <td>84</td>\n",
              "    </tr>\n",
              "  </tbody>\n",
              "</table>\n",
              "<p>108 rows × 3 columns</p>\n",
              "</div>\n",
              "      <button class=\"colab-df-convert\" onclick=\"convertToInteractive('df-7d4d339d-4e93-4cf5-8918-19c35a4206f7')\"\n",
              "              title=\"Convert this dataframe to an interactive table.\"\n",
              "              style=\"display:none;\">\n",
              "        \n",
              "  <svg xmlns=\"http://www.w3.org/2000/svg\" height=\"24px\"viewBox=\"0 0 24 24\"\n",
              "       width=\"24px\">\n",
              "    <path d=\"M0 0h24v24H0V0z\" fill=\"none\"/>\n",
              "    <path d=\"M18.56 5.44l.94 2.06.94-2.06 2.06-.94-2.06-.94-.94-2.06-.94 2.06-2.06.94zm-11 1L8.5 8.5l.94-2.06 2.06-.94-2.06-.94L8.5 2.5l-.94 2.06-2.06.94zm10 10l.94 2.06.94-2.06 2.06-.94-2.06-.94-.94-2.06-.94 2.06-2.06.94z\"/><path d=\"M17.41 7.96l-1.37-1.37c-.4-.4-.92-.59-1.43-.59-.52 0-1.04.2-1.43.59L10.3 9.45l-7.72 7.72c-.78.78-.78 2.05 0 2.83L4 21.41c.39.39.9.59 1.41.59.51 0 1.02-.2 1.41-.59l7.78-7.78 2.81-2.81c.8-.78.8-2.07 0-2.86zM5.41 20L4 18.59l7.72-7.72 1.47 1.35L5.41 20z\"/>\n",
              "  </svg>\n",
              "      </button>\n",
              "      \n",
              "  <style>\n",
              "    .colab-df-container {\n",
              "      display:flex;\n",
              "      flex-wrap:wrap;\n",
              "      gap: 12px;\n",
              "    }\n",
              "\n",
              "    .colab-df-convert {\n",
              "      background-color: #E8F0FE;\n",
              "      border: none;\n",
              "      border-radius: 50%;\n",
              "      cursor: pointer;\n",
              "      display: none;\n",
              "      fill: #1967D2;\n",
              "      height: 32px;\n",
              "      padding: 0 0 0 0;\n",
              "      width: 32px;\n",
              "    }\n",
              "\n",
              "    .colab-df-convert:hover {\n",
              "      background-color: #E2EBFA;\n",
              "      box-shadow: 0px 1px 2px rgba(60, 64, 67, 0.3), 0px 1px 3px 1px rgba(60, 64, 67, 0.15);\n",
              "      fill: #174EA6;\n",
              "    }\n",
              "\n",
              "    [theme=dark] .colab-df-convert {\n",
              "      background-color: #3B4455;\n",
              "      fill: #D2E3FC;\n",
              "    }\n",
              "\n",
              "    [theme=dark] .colab-df-convert:hover {\n",
              "      background-color: #434B5C;\n",
              "      box-shadow: 0px 1px 3px 1px rgba(0, 0, 0, 0.15);\n",
              "      filter: drop-shadow(0px 1px 2px rgba(0, 0, 0, 0.3));\n",
              "      fill: #FFFFFF;\n",
              "    }\n",
              "  </style>\n",
              "\n",
              "      <script>\n",
              "        const buttonEl =\n",
              "          document.querySelector('#df-7d4d339d-4e93-4cf5-8918-19c35a4206f7 button.colab-df-convert');\n",
              "        buttonEl.style.display =\n",
              "          google.colab.kernel.accessAllowed ? 'block' : 'none';\n",
              "\n",
              "        async function convertToInteractive(key) {\n",
              "          const element = document.querySelector('#df-7d4d339d-4e93-4cf5-8918-19c35a4206f7');\n",
              "          const dataTable =\n",
              "            await google.colab.kernel.invokeFunction('convertToInteractive',\n",
              "                                                     [key], {});\n",
              "          if (!dataTable) return;\n",
              "\n",
              "          const docLinkHtml = 'Like what you see? Visit the ' +\n",
              "            '<a target=\"_blank\" href=https://colab.research.google.com/notebooks/data_table.ipynb>data table notebook</a>'\n",
              "            + ' to learn more about interactive tables.';\n",
              "          element.innerHTML = '';\n",
              "          dataTable['output_type'] = 'display_data';\n",
              "          await google.colab.output.renderOutput(dataTable, element);\n",
              "          const docLink = document.createElement('div');\n",
              "          docLink.innerHTML = docLinkHtml;\n",
              "          element.appendChild(docLink);\n",
              "        }\n",
              "      </script>\n",
              "    </div>\n",
              "  </div>\n",
              "  "
            ],
            "text/plain": [
              "                                           Answer Span  ... Start index\n",
              "id                                                      ...            \n",
              "0    insider may prove his innocence by demonstrati...  ...         844\n",
              "1    only by \"Designated persons\" if the value of t...  ...         741\n",
              "2    promoters have the option to convert warrants ...  ...          30\n",
              "3    may invest investment income or investment pro...  ...         278\n",
              "4    attract the penalty prescribed under section 1...  ...         248\n",
              "..                                                 ...  ...         ...\n",
              "103  vehicles allowing for adding of projects in fu...  ...          26\n",
              "104  contains the basic framework for\\ncompanies to...  ...          39\n",
              "105  every buy back shall\\nbe completed within a pe...  ...          57\n",
              "106  prohibits only back to back\\nbuy backs through...  ...          41\n",
              "107  The company shall ensure that the promoter or ...  ...          84\n",
              "\n",
              "[108 rows x 3 columns]"
            ]
          },
          "metadata": {},
          "execution_count": 8
        }
      ]
    },
    {
      "cell_type": "code",
      "metadata": {
        "colab": {
          "base_uri": "https://localhost:8080/",
          "height": 559
        },
        "id": "TtTBiJZobEzQ",
        "outputId": "2271e689-3801-47f9-cb45-2c6b08f08efe"
      },
      "source": [
        "df[df[\"Start index\"]==-1]"
      ],
      "execution_count": null,
      "outputs": [
        {
          "output_type": "execute_result",
          "data": {
            "text/html": [
              "\n",
              "  <div id=\"df-64f0ad19-b58d-41c5-a0fb-279db37cdfd8\">\n",
              "    <div class=\"colab-df-container\">\n",
              "      <div>\n",
              "<style scoped>\n",
              "    .dataframe tbody tr th:only-of-type {\n",
              "        vertical-align: middle;\n",
              "    }\n",
              "\n",
              "    .dataframe tbody tr th {\n",
              "        vertical-align: top;\n",
              "    }\n",
              "\n",
              "    .dataframe thead th {\n",
              "        text-align: right;\n",
              "    }\n",
              "</style>\n",
              "<table border=\"1\" class=\"dataframe\">\n",
              "  <thead>\n",
              "    <tr style=\"text-align: right;\">\n",
              "      <th></th>\n",
              "      <th>question</th>\n",
              "      <th>Answer Span</th>\n",
              "      <th>context</th>\n",
              "      <th>Document</th>\n",
              "      <th>Keywords</th>\n",
              "      <th>Start index</th>\n",
              "      <th>Annotator</th>\n",
              "    </tr>\n",
              "    <tr>\n",
              "      <th>id</th>\n",
              "      <th></th>\n",
              "      <th></th>\n",
              "      <th></th>\n",
              "      <th></th>\n",
              "      <th></th>\n",
              "      <th></th>\n",
              "      <th></th>\n",
              "    </tr>\n",
              "  </thead>\n",
              "  <tbody>\n",
              "    <tr>\n",
              "      <th>80</th>\n",
              "      <td>What is the capital adequacy requirement for a...</td>\n",
              "      <td>not less than five crore reupees</td>\n",
              "      <td>The capital adequacy requirement referred to i...</td>\n",
              "      <td>Merchant Bankers</td>\n",
              "      <td>NaN</td>\n",
              "      <td>-1</td>\n",
              "      <td>Vrinda</td>\n",
              "    </tr>\n",
              "    <tr>\n",
              "      <th>86</th>\n",
              "      <td>What is corporate governance?</td>\n",
              "      <td>the acceptance by management of the inalienabl...</td>\n",
              "      <td>Corporate governance is the acceptance by mana...</td>\n",
              "      <td>1292902977051</td>\n",
              "      <td>economics, finance, markets</td>\n",
              "      <td>-1</td>\n",
              "      <td>Raj</td>\n",
              "    </tr>\n",
              "    <tr>\n",
              "      <th>87</th>\n",
              "      <td>What is Crowdfunding?</td>\n",
              "      <td>solicitation of funds (small amount) from mult...</td>\n",
              "      <td>Crowdfunding is solicitation of funds (small a...</td>\n",
              "      <td>1403005615257</td>\n",
              "      <td>economics, finance, markets</td>\n",
              "      <td>-1</td>\n",
              "      <td>Raj</td>\n",
              "    </tr>\n",
              "    <tr>\n",
              "      <th>88</th>\n",
              "      <td>What is a green bond?</td>\n",
              "      <td>A green bond is like any other bond where a de...</td>\n",
              "      <td>A green bond is like any other bond where a de...</td>\n",
              "      <td>1449143298693</td>\n",
              "      <td>economics, finance, markets</td>\n",
              "      <td>-1</td>\n",
              "      <td>Raj</td>\n",
              "    </tr>\n",
              "    <tr>\n",
              "      <th>95</th>\n",
              "      <td>How many stock exchanges in India are corporat...</td>\n",
              "      <td>18 recognised stock exchanges in India are cor...</td>\n",
              "      <td>At present, 18 recognised stock exchanges in I...</td>\n",
              "      <td>1293515802514</td>\n",
              "      <td>regulations, guidelines, authority, facts</td>\n",
              "      <td>-1</td>\n",
              "      <td>Raj</td>\n",
              "    </tr>\n",
              "  </tbody>\n",
              "</table>\n",
              "</div>\n",
              "      <button class=\"colab-df-convert\" onclick=\"convertToInteractive('df-64f0ad19-b58d-41c5-a0fb-279db37cdfd8')\"\n",
              "              title=\"Convert this dataframe to an interactive table.\"\n",
              "              style=\"display:none;\">\n",
              "        \n",
              "  <svg xmlns=\"http://www.w3.org/2000/svg\" height=\"24px\"viewBox=\"0 0 24 24\"\n",
              "       width=\"24px\">\n",
              "    <path d=\"M0 0h24v24H0V0z\" fill=\"none\"/>\n",
              "    <path d=\"M18.56 5.44l.94 2.06.94-2.06 2.06-.94-2.06-.94-.94-2.06-.94 2.06-2.06.94zm-11 1L8.5 8.5l.94-2.06 2.06-.94-2.06-.94L8.5 2.5l-.94 2.06-2.06.94zm10 10l.94 2.06.94-2.06 2.06-.94-2.06-.94-.94-2.06-.94 2.06-2.06.94z\"/><path d=\"M17.41 7.96l-1.37-1.37c-.4-.4-.92-.59-1.43-.59-.52 0-1.04.2-1.43.59L10.3 9.45l-7.72 7.72c-.78.78-.78 2.05 0 2.83L4 21.41c.39.39.9.59 1.41.59.51 0 1.02-.2 1.41-.59l7.78-7.78 2.81-2.81c.8-.78.8-2.07 0-2.86zM5.41 20L4 18.59l7.72-7.72 1.47 1.35L5.41 20z\"/>\n",
              "  </svg>\n",
              "      </button>\n",
              "      \n",
              "  <style>\n",
              "    .colab-df-container {\n",
              "      display:flex;\n",
              "      flex-wrap:wrap;\n",
              "      gap: 12px;\n",
              "    }\n",
              "\n",
              "    .colab-df-convert {\n",
              "      background-color: #E8F0FE;\n",
              "      border: none;\n",
              "      border-radius: 50%;\n",
              "      cursor: pointer;\n",
              "      display: none;\n",
              "      fill: #1967D2;\n",
              "      height: 32px;\n",
              "      padding: 0 0 0 0;\n",
              "      width: 32px;\n",
              "    }\n",
              "\n",
              "    .colab-df-convert:hover {\n",
              "      background-color: #E2EBFA;\n",
              "      box-shadow: 0px 1px 2px rgba(60, 64, 67, 0.3), 0px 1px 3px 1px rgba(60, 64, 67, 0.15);\n",
              "      fill: #174EA6;\n",
              "    }\n",
              "\n",
              "    [theme=dark] .colab-df-convert {\n",
              "      background-color: #3B4455;\n",
              "      fill: #D2E3FC;\n",
              "    }\n",
              "\n",
              "    [theme=dark] .colab-df-convert:hover {\n",
              "      background-color: #434B5C;\n",
              "      box-shadow: 0px 1px 3px 1px rgba(0, 0, 0, 0.15);\n",
              "      filter: drop-shadow(0px 1px 2px rgba(0, 0, 0, 0.3));\n",
              "      fill: #FFFFFF;\n",
              "    }\n",
              "  </style>\n",
              "\n",
              "      <script>\n",
              "        const buttonEl =\n",
              "          document.querySelector('#df-64f0ad19-b58d-41c5-a0fb-279db37cdfd8 button.colab-df-convert');\n",
              "        buttonEl.style.display =\n",
              "          google.colab.kernel.accessAllowed ? 'block' : 'none';\n",
              "\n",
              "        async function convertToInteractive(key) {\n",
              "          const element = document.querySelector('#df-64f0ad19-b58d-41c5-a0fb-279db37cdfd8');\n",
              "          const dataTable =\n",
              "            await google.colab.kernel.invokeFunction('convertToInteractive',\n",
              "                                                     [key], {});\n",
              "          if (!dataTable) return;\n",
              "\n",
              "          const docLinkHtml = 'Like what you see? Visit the ' +\n",
              "            '<a target=\"_blank\" href=https://colab.research.google.com/notebooks/data_table.ipynb>data table notebook</a>'\n",
              "            + ' to learn more about interactive tables.';\n",
              "          element.innerHTML = '';\n",
              "          dataTable['output_type'] = 'display_data';\n",
              "          await google.colab.output.renderOutput(dataTable, element);\n",
              "          const docLink = document.createElement('div');\n",
              "          docLink.innerHTML = docLinkHtml;\n",
              "          element.appendChild(docLink);\n",
              "        }\n",
              "      </script>\n",
              "    </div>\n",
              "  </div>\n",
              "  "
            ],
            "text/plain": [
              "                                             question  ... Annotator\n",
              "id                                                     ...          \n",
              "80  What is the capital adequacy requirement for a...  ...    Vrinda\n",
              "86                      What is corporate governance?  ...       Raj\n",
              "87                              What is Crowdfunding?  ...       Raj\n",
              "88                              What is a green bond?  ...       Raj\n",
              "95  How many stock exchanges in India are corporat...  ...       Raj\n",
              "\n",
              "[5 rows x 7 columns]"
            ]
          },
          "metadata": {},
          "execution_count": 9
        }
      ]
    },
    {
      "cell_type": "code",
      "metadata": {
        "colab": {
          "base_uri": "https://localhost:8080/",
          "height": 1000
        },
        "id": "ijDqLu3ybEzQ",
        "outputId": "c02cc059-cdd0-4b92-a43c-15e464b040a2"
      },
      "source": [
        "df = df[df[\"Start index\"]!=-1]\n",
        "df = df.reset_index()\n",
        "df"
      ],
      "execution_count": null,
      "outputs": [
        {
          "output_type": "execute_result",
          "data": {
            "text/html": [
              "\n",
              "  <div id=\"df-a654bfad-36c3-48f3-b43e-71b78eb3b5e6\">\n",
              "    <div class=\"colab-df-container\">\n",
              "      <div>\n",
              "<style scoped>\n",
              "    .dataframe tbody tr th:only-of-type {\n",
              "        vertical-align: middle;\n",
              "    }\n",
              "\n",
              "    .dataframe tbody tr th {\n",
              "        vertical-align: top;\n",
              "    }\n",
              "\n",
              "    .dataframe thead th {\n",
              "        text-align: right;\n",
              "    }\n",
              "</style>\n",
              "<table border=\"1\" class=\"dataframe\">\n",
              "  <thead>\n",
              "    <tr style=\"text-align: right;\">\n",
              "      <th></th>\n",
              "      <th>id</th>\n",
              "      <th>question</th>\n",
              "      <th>Answer Span</th>\n",
              "      <th>context</th>\n",
              "      <th>Document</th>\n",
              "      <th>Keywords</th>\n",
              "      <th>Start index</th>\n",
              "      <th>Annotator</th>\n",
              "    </tr>\n",
              "  </thead>\n",
              "  <tbody>\n",
              "    <tr>\n",
              "      <th>0</th>\n",
              "      <td>0</td>\n",
              "      <td>Does an innocent recipient of UPSI have any de...</td>\n",
              "      <td>insider may prove his innocence by demonstrati...</td>\n",
              "      <td>The report (Para 55) suggests “where a person ...</td>\n",
              "      <td>1585217059979</td>\n",
              "      <td>innocent recipient, UPSI, defence</td>\n",
              "      <td>844</td>\n",
              "      <td>NaN</td>\n",
              "    </tr>\n",
              "    <tr>\n",
              "      <th>1</th>\n",
              "      <td>1</td>\n",
              "      <td>Will a promoter group entity require a pre-cle...</td>\n",
              "      <td>only by \"Designated persons\" if the value of t...</td>\n",
              "      <td>With respect to the query at 5(i), attention m...</td>\n",
              "      <td>0c9f4131313e54e49d7b9915993ab00e</td>\n",
              "      <td>pre-clearance, compliance officer, designated ...</td>\n",
              "      <td>741</td>\n",
              "      <td>NaN</td>\n",
              "    </tr>\n",
              "    <tr>\n",
              "      <th>2</th>\n",
              "      <td>2</td>\n",
              "      <td>Is inter-se off-market transfer of shares betw...</td>\n",
              "      <td>promoters have the option to convert warrants ...</td>\n",
              "      <td>In the instant case, the said promoters have t...</td>\n",
              "      <td>0e8e621eb1aee80e102b4186ac874ed5</td>\n",
              "      <td>inter-se off market transfer, block deal, cont...</td>\n",
              "      <td>30</td>\n",
              "      <td>NaN</td>\n",
              "    </tr>\n",
              "    <tr>\n",
              "      <th>3</th>\n",
              "      <td>3</td>\n",
              "      <td>Can an AIF invest its unutilized funds in liqu...</td>\n",
              "      <td>may invest investment income or investment pro...</td>\n",
              "      <td>The provisions under Regulation 15(1)(f) is pr...</td>\n",
              "      <td>1e4e946eca55a80467aad2e1546dd639</td>\n",
              "      <td>unutilized funds, Alternate Investment Funds, ...</td>\n",
              "      <td>278</td>\n",
              "      <td>NaN</td>\n",
              "    </tr>\n",
              "    <tr>\n",
              "      <th>4</th>\n",
              "      <td>4</td>\n",
              "      <td>What are the penal consequences of not furnish...</td>\n",
              "      <td>attract the penalty prescribed under section 1...</td>\n",
              "      <td>The Honorable Securities Appellate Tribunal (h...</td>\n",
              "      <td>1289453383303</td>\n",
              "      <td>Noticee, Summons, failure to Comply with summo...</td>\n",
              "      <td>248</td>\n",
              "      <td>NaN</td>\n",
              "    </tr>\n",
              "    <tr>\n",
              "      <th>...</th>\n",
              "      <td>...</td>\n",
              "      <td>...</td>\n",
              "      <td>...</td>\n",
              "      <td>...</td>\n",
              "      <td>...</td>\n",
              "      <td>...</td>\n",
              "      <td>...</td>\n",
              "      <td>...</td>\n",
              "    </tr>\n",
              "    <tr>\n",
              "      <th>98</th>\n",
              "      <td>103</td>\n",
              "      <td>What is InvIT?</td>\n",
              "      <td>vehicles allowing for adding of projects in fu...</td>\n",
              "      <td>InvITs are proposed to be vehicles allowing fo...</td>\n",
              "      <td>1387543144855</td>\n",
              "      <td>regulations, guidelines, authority, markets</td>\n",
              "      <td>26</td>\n",
              "      <td>Raj</td>\n",
              "    </tr>\n",
              "    <tr>\n",
              "      <th>99</th>\n",
              "      <td>104</td>\n",
              "      <td>What does the Section 77A of the Companies Act...</td>\n",
              "      <td>contains the basic framework for\\ncompanies to...</td>\n",
              "      <td>Section 77A of the Companies Act, 1956 contain...</td>\n",
              "      <td>1357124740967</td>\n",
              "      <td>regulations, guidelines, authority</td>\n",
              "      <td>39</td>\n",
              "      <td>Raj</td>\n",
              "    </tr>\n",
              "    <tr>\n",
              "      <th>100</th>\n",
              "      <td>105</td>\n",
              "      <td>What does the Section 77A(4) of the Companies ...</td>\n",
              "      <td>every buy back shall\\nbe completed within a pe...</td>\n",
              "      <td>Section 77A(4) of the Companies Act, 1956 spec...</td>\n",
              "      <td>1357124740967</td>\n",
              "      <td>regulations, guidelines, authority, act</td>\n",
              "      <td>57</td>\n",
              "      <td>Raj</td>\n",
              "    </tr>\n",
              "    <tr>\n",
              "      <th>101</th>\n",
              "      <td>106</td>\n",
              "      <td>What does the Section 77A(2) of the Companies ...</td>\n",
              "      <td>prohibits only back to back\\nbuy backs through...</td>\n",
              "      <td>Section 77A(2) of the Companies Act,1956 prohi...</td>\n",
              "      <td>1357124740967</td>\n",
              "      <td>regulations, guidelines, authority, act</td>\n",
              "      <td>41</td>\n",
              "      <td>Raj</td>\n",
              "    </tr>\n",
              "    <tr>\n",
              "      <th>102</th>\n",
              "      <td>107</td>\n",
              "      <td>What does the Section 19(1)(e) of SEBI(Buy bac...</td>\n",
              "      <td>The company shall ensure that the promoter or ...</td>\n",
              "      <td>Section 19(1)(e) of SEBI(Buy back of Securitie...</td>\n",
              "      <td>1357124740967</td>\n",
              "      <td>regulations, guidelines, authority, act</td>\n",
              "      <td>84</td>\n",
              "      <td>Raj</td>\n",
              "    </tr>\n",
              "  </tbody>\n",
              "</table>\n",
              "<p>103 rows × 8 columns</p>\n",
              "</div>\n",
              "      <button class=\"colab-df-convert\" onclick=\"convertToInteractive('df-a654bfad-36c3-48f3-b43e-71b78eb3b5e6')\"\n",
              "              title=\"Convert this dataframe to an interactive table.\"\n",
              "              style=\"display:none;\">\n",
              "        \n",
              "  <svg xmlns=\"http://www.w3.org/2000/svg\" height=\"24px\"viewBox=\"0 0 24 24\"\n",
              "       width=\"24px\">\n",
              "    <path d=\"M0 0h24v24H0V0z\" fill=\"none\"/>\n",
              "    <path d=\"M18.56 5.44l.94 2.06.94-2.06 2.06-.94-2.06-.94-.94-2.06-.94 2.06-2.06.94zm-11 1L8.5 8.5l.94-2.06 2.06-.94-2.06-.94L8.5 2.5l-.94 2.06-2.06.94zm10 10l.94 2.06.94-2.06 2.06-.94-2.06-.94-.94-2.06-.94 2.06-2.06.94z\"/><path d=\"M17.41 7.96l-1.37-1.37c-.4-.4-.92-.59-1.43-.59-.52 0-1.04.2-1.43.59L10.3 9.45l-7.72 7.72c-.78.78-.78 2.05 0 2.83L4 21.41c.39.39.9.59 1.41.59.51 0 1.02-.2 1.41-.59l7.78-7.78 2.81-2.81c.8-.78.8-2.07 0-2.86zM5.41 20L4 18.59l7.72-7.72 1.47 1.35L5.41 20z\"/>\n",
              "  </svg>\n",
              "      </button>\n",
              "      \n",
              "  <style>\n",
              "    .colab-df-container {\n",
              "      display:flex;\n",
              "      flex-wrap:wrap;\n",
              "      gap: 12px;\n",
              "    }\n",
              "\n",
              "    .colab-df-convert {\n",
              "      background-color: #E8F0FE;\n",
              "      border: none;\n",
              "      border-radius: 50%;\n",
              "      cursor: pointer;\n",
              "      display: none;\n",
              "      fill: #1967D2;\n",
              "      height: 32px;\n",
              "      padding: 0 0 0 0;\n",
              "      width: 32px;\n",
              "    }\n",
              "\n",
              "    .colab-df-convert:hover {\n",
              "      background-color: #E2EBFA;\n",
              "      box-shadow: 0px 1px 2px rgba(60, 64, 67, 0.3), 0px 1px 3px 1px rgba(60, 64, 67, 0.15);\n",
              "      fill: #174EA6;\n",
              "    }\n",
              "\n",
              "    [theme=dark] .colab-df-convert {\n",
              "      background-color: #3B4455;\n",
              "      fill: #D2E3FC;\n",
              "    }\n",
              "\n",
              "    [theme=dark] .colab-df-convert:hover {\n",
              "      background-color: #434B5C;\n",
              "      box-shadow: 0px 1px 3px 1px rgba(0, 0, 0, 0.15);\n",
              "      filter: drop-shadow(0px 1px 2px rgba(0, 0, 0, 0.3));\n",
              "      fill: #FFFFFF;\n",
              "    }\n",
              "  </style>\n",
              "\n",
              "      <script>\n",
              "        const buttonEl =\n",
              "          document.querySelector('#df-a654bfad-36c3-48f3-b43e-71b78eb3b5e6 button.colab-df-convert');\n",
              "        buttonEl.style.display =\n",
              "          google.colab.kernel.accessAllowed ? 'block' : 'none';\n",
              "\n",
              "        async function convertToInteractive(key) {\n",
              "          const element = document.querySelector('#df-a654bfad-36c3-48f3-b43e-71b78eb3b5e6');\n",
              "          const dataTable =\n",
              "            await google.colab.kernel.invokeFunction('convertToInteractive',\n",
              "                                                     [key], {});\n",
              "          if (!dataTable) return;\n",
              "\n",
              "          const docLinkHtml = 'Like what you see? Visit the ' +\n",
              "            '<a target=\"_blank\" href=https://colab.research.google.com/notebooks/data_table.ipynb>data table notebook</a>'\n",
              "            + ' to learn more about interactive tables.';\n",
              "          element.innerHTML = '';\n",
              "          dataTable['output_type'] = 'display_data';\n",
              "          await google.colab.output.renderOutput(dataTable, element);\n",
              "          const docLink = document.createElement('div');\n",
              "          docLink.innerHTML = docLinkHtml;\n",
              "          element.appendChild(docLink);\n",
              "        }\n",
              "      </script>\n",
              "    </div>\n",
              "  </div>\n",
              "  "
            ],
            "text/plain": [
              "      id  ... Annotator\n",
              "0      0  ...       NaN\n",
              "1      1  ...       NaN\n",
              "2      2  ...       NaN\n",
              "3      3  ...       NaN\n",
              "4      4  ...       NaN\n",
              "..   ...  ...       ...\n",
              "98   103  ...       Raj\n",
              "99   104  ...       Raj\n",
              "100  105  ...       Raj\n",
              "101  106  ...       Raj\n",
              "102  107  ...       Raj\n",
              "\n",
              "[103 rows x 8 columns]"
            ]
          },
          "metadata": {},
          "execution_count": 10
        }
      ]
    },
    {
      "cell_type": "code",
      "metadata": {
        "colab": {
          "base_uri": "https://localhost:8080/",
          "height": 1000
        },
        "id": "AXw8JFTKbEzQ",
        "outputId": "f19743ca-3c92-41bd-999c-c37702a36320"
      },
      "source": [
        "def preprocess(t,s):\n",
        "  return {\"answer_start\":[s],\"text\":[t]}\n",
        "\n",
        "df[\"answers\"] = df.apply(lambda x: preprocess(x[\"Answer Span\"],x[\"Start index\"]),axis=1)\n",
        "df"
      ],
      "execution_count": null,
      "outputs": [
        {
          "output_type": "execute_result",
          "data": {
            "text/html": [
              "\n",
              "  <div id=\"df-e4841b69-cc0a-4413-bbe6-397716e90b05\">\n",
              "    <div class=\"colab-df-container\">\n",
              "      <div>\n",
              "<style scoped>\n",
              "    .dataframe tbody tr th:only-of-type {\n",
              "        vertical-align: middle;\n",
              "    }\n",
              "\n",
              "    .dataframe tbody tr th {\n",
              "        vertical-align: top;\n",
              "    }\n",
              "\n",
              "    .dataframe thead th {\n",
              "        text-align: right;\n",
              "    }\n",
              "</style>\n",
              "<table border=\"1\" class=\"dataframe\">\n",
              "  <thead>\n",
              "    <tr style=\"text-align: right;\">\n",
              "      <th></th>\n",
              "      <th>id</th>\n",
              "      <th>question</th>\n",
              "      <th>Answer Span</th>\n",
              "      <th>context</th>\n",
              "      <th>Document</th>\n",
              "      <th>Keywords</th>\n",
              "      <th>Start index</th>\n",
              "      <th>Annotator</th>\n",
              "      <th>answers</th>\n",
              "    </tr>\n",
              "  </thead>\n",
              "  <tbody>\n",
              "    <tr>\n",
              "      <th>0</th>\n",
              "      <td>0</td>\n",
              "      <td>Does an innocent recipient of UPSI have any de...</td>\n",
              "      <td>insider may prove his innocence by demonstrati...</td>\n",
              "      <td>The report (Para 55) suggests “where a person ...</td>\n",
              "      <td>1585217059979</td>\n",
              "      <td>innocent recipient, UPSI, defence</td>\n",
              "      <td>844</td>\n",
              "      <td>NaN</td>\n",
              "      <td>{'answer_start': [844], 'text': ['insider may ...</td>\n",
              "    </tr>\n",
              "    <tr>\n",
              "      <th>1</th>\n",
              "      <td>1</td>\n",
              "      <td>Will a promoter group entity require a pre-cle...</td>\n",
              "      <td>only by \"Designated persons\" if the value of t...</td>\n",
              "      <td>With respect to the query at 5(i), attention m...</td>\n",
              "      <td>0c9f4131313e54e49d7b9915993ab00e</td>\n",
              "      <td>pre-clearance, compliance officer, designated ...</td>\n",
              "      <td>741</td>\n",
              "      <td>NaN</td>\n",
              "      <td>{'answer_start': [741], 'text': ['only by \"Des...</td>\n",
              "    </tr>\n",
              "    <tr>\n",
              "      <th>2</th>\n",
              "      <td>2</td>\n",
              "      <td>Is inter-se off-market transfer of shares betw...</td>\n",
              "      <td>promoters have the option to convert warrants ...</td>\n",
              "      <td>In the instant case, the said promoters have t...</td>\n",
              "      <td>0e8e621eb1aee80e102b4186ac874ed5</td>\n",
              "      <td>inter-se off market transfer, block deal, cont...</td>\n",
              "      <td>30</td>\n",
              "      <td>NaN</td>\n",
              "      <td>{'answer_start': [30], 'text': ['promoters hav...</td>\n",
              "    </tr>\n",
              "    <tr>\n",
              "      <th>3</th>\n",
              "      <td>3</td>\n",
              "      <td>Can an AIF invest its unutilized funds in liqu...</td>\n",
              "      <td>may invest investment income or investment pro...</td>\n",
              "      <td>The provisions under Regulation 15(1)(f) is pr...</td>\n",
              "      <td>1e4e946eca55a80467aad2e1546dd639</td>\n",
              "      <td>unutilized funds, Alternate Investment Funds, ...</td>\n",
              "      <td>278</td>\n",
              "      <td>NaN</td>\n",
              "      <td>{'answer_start': [278], 'text': ['may invest i...</td>\n",
              "    </tr>\n",
              "    <tr>\n",
              "      <th>4</th>\n",
              "      <td>4</td>\n",
              "      <td>What are the penal consequences of not furnish...</td>\n",
              "      <td>attract the penalty prescribed under section 1...</td>\n",
              "      <td>The Honorable Securities Appellate Tribunal (h...</td>\n",
              "      <td>1289453383303</td>\n",
              "      <td>Noticee, Summons, failure to Comply with summo...</td>\n",
              "      <td>248</td>\n",
              "      <td>NaN</td>\n",
              "      <td>{'answer_start': [248], 'text': ['attract the ...</td>\n",
              "    </tr>\n",
              "    <tr>\n",
              "      <th>...</th>\n",
              "      <td>...</td>\n",
              "      <td>...</td>\n",
              "      <td>...</td>\n",
              "      <td>...</td>\n",
              "      <td>...</td>\n",
              "      <td>...</td>\n",
              "      <td>...</td>\n",
              "      <td>...</td>\n",
              "      <td>...</td>\n",
              "    </tr>\n",
              "    <tr>\n",
              "      <th>98</th>\n",
              "      <td>103</td>\n",
              "      <td>What is InvIT?</td>\n",
              "      <td>vehicles allowing for adding of projects in fu...</td>\n",
              "      <td>InvITs are proposed to be vehicles allowing fo...</td>\n",
              "      <td>1387543144855</td>\n",
              "      <td>regulations, guidelines, authority, markets</td>\n",
              "      <td>26</td>\n",
              "      <td>Raj</td>\n",
              "      <td>{'answer_start': [26], 'text': ['vehicles allo...</td>\n",
              "    </tr>\n",
              "    <tr>\n",
              "      <th>99</th>\n",
              "      <td>104</td>\n",
              "      <td>What does the Section 77A of the Companies Act...</td>\n",
              "      <td>contains the basic framework for\\ncompanies to...</td>\n",
              "      <td>Section 77A of the Companies Act, 1956 contain...</td>\n",
              "      <td>1357124740967</td>\n",
              "      <td>regulations, guidelines, authority</td>\n",
              "      <td>39</td>\n",
              "      <td>Raj</td>\n",
              "      <td>{'answer_start': [39], 'text': ['contains the ...</td>\n",
              "    </tr>\n",
              "    <tr>\n",
              "      <th>100</th>\n",
              "      <td>105</td>\n",
              "      <td>What does the Section 77A(4) of the Companies ...</td>\n",
              "      <td>every buy back shall\\nbe completed within a pe...</td>\n",
              "      <td>Section 77A(4) of the Companies Act, 1956 spec...</td>\n",
              "      <td>1357124740967</td>\n",
              "      <td>regulations, guidelines, authority, act</td>\n",
              "      <td>57</td>\n",
              "      <td>Raj</td>\n",
              "      <td>{'answer_start': [57], 'text': ['every buy bac...</td>\n",
              "    </tr>\n",
              "    <tr>\n",
              "      <th>101</th>\n",
              "      <td>106</td>\n",
              "      <td>What does the Section 77A(2) of the Companies ...</td>\n",
              "      <td>prohibits only back to back\\nbuy backs through...</td>\n",
              "      <td>Section 77A(2) of the Companies Act,1956 prohi...</td>\n",
              "      <td>1357124740967</td>\n",
              "      <td>regulations, guidelines, authority, act</td>\n",
              "      <td>41</td>\n",
              "      <td>Raj</td>\n",
              "      <td>{'answer_start': [41], 'text': ['prohibits onl...</td>\n",
              "    </tr>\n",
              "    <tr>\n",
              "      <th>102</th>\n",
              "      <td>107</td>\n",
              "      <td>What does the Section 19(1)(e) of SEBI(Buy bac...</td>\n",
              "      <td>The company shall ensure that the promoter or ...</td>\n",
              "      <td>Section 19(1)(e) of SEBI(Buy back of Securitie...</td>\n",
              "      <td>1357124740967</td>\n",
              "      <td>regulations, guidelines, authority, act</td>\n",
              "      <td>84</td>\n",
              "      <td>Raj</td>\n",
              "      <td>{'answer_start': [84], 'text': ['The company s...</td>\n",
              "    </tr>\n",
              "  </tbody>\n",
              "</table>\n",
              "<p>103 rows × 9 columns</p>\n",
              "</div>\n",
              "      <button class=\"colab-df-convert\" onclick=\"convertToInteractive('df-e4841b69-cc0a-4413-bbe6-397716e90b05')\"\n",
              "              title=\"Convert this dataframe to an interactive table.\"\n",
              "              style=\"display:none;\">\n",
              "        \n",
              "  <svg xmlns=\"http://www.w3.org/2000/svg\" height=\"24px\"viewBox=\"0 0 24 24\"\n",
              "       width=\"24px\">\n",
              "    <path d=\"M0 0h24v24H0V0z\" fill=\"none\"/>\n",
              "    <path d=\"M18.56 5.44l.94 2.06.94-2.06 2.06-.94-2.06-.94-.94-2.06-.94 2.06-2.06.94zm-11 1L8.5 8.5l.94-2.06 2.06-.94-2.06-.94L8.5 2.5l-.94 2.06-2.06.94zm10 10l.94 2.06.94-2.06 2.06-.94-2.06-.94-.94-2.06-.94 2.06-2.06.94z\"/><path d=\"M17.41 7.96l-1.37-1.37c-.4-.4-.92-.59-1.43-.59-.52 0-1.04.2-1.43.59L10.3 9.45l-7.72 7.72c-.78.78-.78 2.05 0 2.83L4 21.41c.39.39.9.59 1.41.59.51 0 1.02-.2 1.41-.59l7.78-7.78 2.81-2.81c.8-.78.8-2.07 0-2.86zM5.41 20L4 18.59l7.72-7.72 1.47 1.35L5.41 20z\"/>\n",
              "  </svg>\n",
              "      </button>\n",
              "      \n",
              "  <style>\n",
              "    .colab-df-container {\n",
              "      display:flex;\n",
              "      flex-wrap:wrap;\n",
              "      gap: 12px;\n",
              "    }\n",
              "\n",
              "    .colab-df-convert {\n",
              "      background-color: #E8F0FE;\n",
              "      border: none;\n",
              "      border-radius: 50%;\n",
              "      cursor: pointer;\n",
              "      display: none;\n",
              "      fill: #1967D2;\n",
              "      height: 32px;\n",
              "      padding: 0 0 0 0;\n",
              "      width: 32px;\n",
              "    }\n",
              "\n",
              "    .colab-df-convert:hover {\n",
              "      background-color: #E2EBFA;\n",
              "      box-shadow: 0px 1px 2px rgba(60, 64, 67, 0.3), 0px 1px 3px 1px rgba(60, 64, 67, 0.15);\n",
              "      fill: #174EA6;\n",
              "    }\n",
              "\n",
              "    [theme=dark] .colab-df-convert {\n",
              "      background-color: #3B4455;\n",
              "      fill: #D2E3FC;\n",
              "    }\n",
              "\n",
              "    [theme=dark] .colab-df-convert:hover {\n",
              "      background-color: #434B5C;\n",
              "      box-shadow: 0px 1px 3px 1px rgba(0, 0, 0, 0.15);\n",
              "      filter: drop-shadow(0px 1px 2px rgba(0, 0, 0, 0.3));\n",
              "      fill: #FFFFFF;\n",
              "    }\n",
              "  </style>\n",
              "\n",
              "      <script>\n",
              "        const buttonEl =\n",
              "          document.querySelector('#df-e4841b69-cc0a-4413-bbe6-397716e90b05 button.colab-df-convert');\n",
              "        buttonEl.style.display =\n",
              "          google.colab.kernel.accessAllowed ? 'block' : 'none';\n",
              "\n",
              "        async function convertToInteractive(key) {\n",
              "          const element = document.querySelector('#df-e4841b69-cc0a-4413-bbe6-397716e90b05');\n",
              "          const dataTable =\n",
              "            await google.colab.kernel.invokeFunction('convertToInteractive',\n",
              "                                                     [key], {});\n",
              "          if (!dataTable) return;\n",
              "\n",
              "          const docLinkHtml = 'Like what you see? Visit the ' +\n",
              "            '<a target=\"_blank\" href=https://colab.research.google.com/notebooks/data_table.ipynb>data table notebook</a>'\n",
              "            + ' to learn more about interactive tables.';\n",
              "          element.innerHTML = '';\n",
              "          dataTable['output_type'] = 'display_data';\n",
              "          await google.colab.output.renderOutput(dataTable, element);\n",
              "          const docLink = document.createElement('div');\n",
              "          docLink.innerHTML = docLinkHtml;\n",
              "          element.appendChild(docLink);\n",
              "        }\n",
              "      </script>\n",
              "    </div>\n",
              "  </div>\n",
              "  "
            ],
            "text/plain": [
              "      id  ...                                            answers\n",
              "0      0  ...  {'answer_start': [844], 'text': ['insider may ...\n",
              "1      1  ...  {'answer_start': [741], 'text': ['only by \"Des...\n",
              "2      2  ...  {'answer_start': [30], 'text': ['promoters hav...\n",
              "3      3  ...  {'answer_start': [278], 'text': ['may invest i...\n",
              "4      4  ...  {'answer_start': [248], 'text': ['attract the ...\n",
              "..   ...  ...                                                ...\n",
              "98   103  ...  {'answer_start': [26], 'text': ['vehicles allo...\n",
              "99   104  ...  {'answer_start': [39], 'text': ['contains the ...\n",
              "100  105  ...  {'answer_start': [57], 'text': ['every buy bac...\n",
              "101  106  ...  {'answer_start': [41], 'text': ['prohibits onl...\n",
              "102  107  ...  {'answer_start': [84], 'text': ['The company s...\n",
              "\n",
              "[103 rows x 9 columns]"
            ]
          },
          "metadata": {},
          "execution_count": 11
        }
      ]
    },
    {
      "cell_type": "code",
      "metadata": {
        "colab": {
          "base_uri": "https://localhost:8080/",
          "height": 1000
        },
        "id": "v9xQRfaebEzQ",
        "outputId": "084f9677-4fca-4067-ea51-5eae7ef6cf3d"
      },
      "source": [
        "df=df.drop([\"Start index\"],axis=1)\n",
        "df"
      ],
      "execution_count": null,
      "outputs": [
        {
          "output_type": "execute_result",
          "data": {
            "text/html": [
              "\n",
              "  <div id=\"df-344b7733-9ea7-44c2-bd7b-b488b0aa22ad\">\n",
              "    <div class=\"colab-df-container\">\n",
              "      <div>\n",
              "<style scoped>\n",
              "    .dataframe tbody tr th:only-of-type {\n",
              "        vertical-align: middle;\n",
              "    }\n",
              "\n",
              "    .dataframe tbody tr th {\n",
              "        vertical-align: top;\n",
              "    }\n",
              "\n",
              "    .dataframe thead th {\n",
              "        text-align: right;\n",
              "    }\n",
              "</style>\n",
              "<table border=\"1\" class=\"dataframe\">\n",
              "  <thead>\n",
              "    <tr style=\"text-align: right;\">\n",
              "      <th></th>\n",
              "      <th>id</th>\n",
              "      <th>question</th>\n",
              "      <th>Answer Span</th>\n",
              "      <th>context</th>\n",
              "      <th>Document</th>\n",
              "      <th>Keywords</th>\n",
              "      <th>Annotator</th>\n",
              "      <th>answers</th>\n",
              "    </tr>\n",
              "  </thead>\n",
              "  <tbody>\n",
              "    <tr>\n",
              "      <th>0</th>\n",
              "      <td>0</td>\n",
              "      <td>Does an innocent recipient of UPSI have any de...</td>\n",
              "      <td>insider may prove his innocence by demonstrati...</td>\n",
              "      <td>The report (Para 55) suggests “where a person ...</td>\n",
              "      <td>1585217059979</td>\n",
              "      <td>innocent recipient, UPSI, defence</td>\n",
              "      <td>NaN</td>\n",
              "      <td>{'answer_start': [844], 'text': ['insider may ...</td>\n",
              "    </tr>\n",
              "    <tr>\n",
              "      <th>1</th>\n",
              "      <td>1</td>\n",
              "      <td>Will a promoter group entity require a pre-cle...</td>\n",
              "      <td>only by \"Designated persons\" if the value of t...</td>\n",
              "      <td>With respect to the query at 5(i), attention m...</td>\n",
              "      <td>0c9f4131313e54e49d7b9915993ab00e</td>\n",
              "      <td>pre-clearance, compliance officer, designated ...</td>\n",
              "      <td>NaN</td>\n",
              "      <td>{'answer_start': [741], 'text': ['only by \"Des...</td>\n",
              "    </tr>\n",
              "    <tr>\n",
              "      <th>2</th>\n",
              "      <td>2</td>\n",
              "      <td>Is inter-se off-market transfer of shares betw...</td>\n",
              "      <td>promoters have the option to convert warrants ...</td>\n",
              "      <td>In the instant case, the said promoters have t...</td>\n",
              "      <td>0e8e621eb1aee80e102b4186ac874ed5</td>\n",
              "      <td>inter-se off market transfer, block deal, cont...</td>\n",
              "      <td>NaN</td>\n",
              "      <td>{'answer_start': [30], 'text': ['promoters hav...</td>\n",
              "    </tr>\n",
              "    <tr>\n",
              "      <th>3</th>\n",
              "      <td>3</td>\n",
              "      <td>Can an AIF invest its unutilized funds in liqu...</td>\n",
              "      <td>may invest investment income or investment pro...</td>\n",
              "      <td>The provisions under Regulation 15(1)(f) is pr...</td>\n",
              "      <td>1e4e946eca55a80467aad2e1546dd639</td>\n",
              "      <td>unutilized funds, Alternate Investment Funds, ...</td>\n",
              "      <td>NaN</td>\n",
              "      <td>{'answer_start': [278], 'text': ['may invest i...</td>\n",
              "    </tr>\n",
              "    <tr>\n",
              "      <th>4</th>\n",
              "      <td>4</td>\n",
              "      <td>What are the penal consequences of not furnish...</td>\n",
              "      <td>attract the penalty prescribed under section 1...</td>\n",
              "      <td>The Honorable Securities Appellate Tribunal (h...</td>\n",
              "      <td>1289453383303</td>\n",
              "      <td>Noticee, Summons, failure to Comply with summo...</td>\n",
              "      <td>NaN</td>\n",
              "      <td>{'answer_start': [248], 'text': ['attract the ...</td>\n",
              "    </tr>\n",
              "    <tr>\n",
              "      <th>...</th>\n",
              "      <td>...</td>\n",
              "      <td>...</td>\n",
              "      <td>...</td>\n",
              "      <td>...</td>\n",
              "      <td>...</td>\n",
              "      <td>...</td>\n",
              "      <td>...</td>\n",
              "      <td>...</td>\n",
              "    </tr>\n",
              "    <tr>\n",
              "      <th>98</th>\n",
              "      <td>103</td>\n",
              "      <td>What is InvIT?</td>\n",
              "      <td>vehicles allowing for adding of projects in fu...</td>\n",
              "      <td>InvITs are proposed to be vehicles allowing fo...</td>\n",
              "      <td>1387543144855</td>\n",
              "      <td>regulations, guidelines, authority, markets</td>\n",
              "      <td>Raj</td>\n",
              "      <td>{'answer_start': [26], 'text': ['vehicles allo...</td>\n",
              "    </tr>\n",
              "    <tr>\n",
              "      <th>99</th>\n",
              "      <td>104</td>\n",
              "      <td>What does the Section 77A of the Companies Act...</td>\n",
              "      <td>contains the basic framework for\\ncompanies to...</td>\n",
              "      <td>Section 77A of the Companies Act, 1956 contain...</td>\n",
              "      <td>1357124740967</td>\n",
              "      <td>regulations, guidelines, authority</td>\n",
              "      <td>Raj</td>\n",
              "      <td>{'answer_start': [39], 'text': ['contains the ...</td>\n",
              "    </tr>\n",
              "    <tr>\n",
              "      <th>100</th>\n",
              "      <td>105</td>\n",
              "      <td>What does the Section 77A(4) of the Companies ...</td>\n",
              "      <td>every buy back shall\\nbe completed within a pe...</td>\n",
              "      <td>Section 77A(4) of the Companies Act, 1956 spec...</td>\n",
              "      <td>1357124740967</td>\n",
              "      <td>regulations, guidelines, authority, act</td>\n",
              "      <td>Raj</td>\n",
              "      <td>{'answer_start': [57], 'text': ['every buy bac...</td>\n",
              "    </tr>\n",
              "    <tr>\n",
              "      <th>101</th>\n",
              "      <td>106</td>\n",
              "      <td>What does the Section 77A(2) of the Companies ...</td>\n",
              "      <td>prohibits only back to back\\nbuy backs through...</td>\n",
              "      <td>Section 77A(2) of the Companies Act,1956 prohi...</td>\n",
              "      <td>1357124740967</td>\n",
              "      <td>regulations, guidelines, authority, act</td>\n",
              "      <td>Raj</td>\n",
              "      <td>{'answer_start': [41], 'text': ['prohibits onl...</td>\n",
              "    </tr>\n",
              "    <tr>\n",
              "      <th>102</th>\n",
              "      <td>107</td>\n",
              "      <td>What does the Section 19(1)(e) of SEBI(Buy bac...</td>\n",
              "      <td>The company shall ensure that the promoter or ...</td>\n",
              "      <td>Section 19(1)(e) of SEBI(Buy back of Securitie...</td>\n",
              "      <td>1357124740967</td>\n",
              "      <td>regulations, guidelines, authority, act</td>\n",
              "      <td>Raj</td>\n",
              "      <td>{'answer_start': [84], 'text': ['The company s...</td>\n",
              "    </tr>\n",
              "  </tbody>\n",
              "</table>\n",
              "<p>103 rows × 8 columns</p>\n",
              "</div>\n",
              "      <button class=\"colab-df-convert\" onclick=\"convertToInteractive('df-344b7733-9ea7-44c2-bd7b-b488b0aa22ad')\"\n",
              "              title=\"Convert this dataframe to an interactive table.\"\n",
              "              style=\"display:none;\">\n",
              "        \n",
              "  <svg xmlns=\"http://www.w3.org/2000/svg\" height=\"24px\"viewBox=\"0 0 24 24\"\n",
              "       width=\"24px\">\n",
              "    <path d=\"M0 0h24v24H0V0z\" fill=\"none\"/>\n",
              "    <path d=\"M18.56 5.44l.94 2.06.94-2.06 2.06-.94-2.06-.94-.94-2.06-.94 2.06-2.06.94zm-11 1L8.5 8.5l.94-2.06 2.06-.94-2.06-.94L8.5 2.5l-.94 2.06-2.06.94zm10 10l.94 2.06.94-2.06 2.06-.94-2.06-.94-.94-2.06-.94 2.06-2.06.94z\"/><path d=\"M17.41 7.96l-1.37-1.37c-.4-.4-.92-.59-1.43-.59-.52 0-1.04.2-1.43.59L10.3 9.45l-7.72 7.72c-.78.78-.78 2.05 0 2.83L4 21.41c.39.39.9.59 1.41.59.51 0 1.02-.2 1.41-.59l7.78-7.78 2.81-2.81c.8-.78.8-2.07 0-2.86zM5.41 20L4 18.59l7.72-7.72 1.47 1.35L5.41 20z\"/>\n",
              "  </svg>\n",
              "      </button>\n",
              "      \n",
              "  <style>\n",
              "    .colab-df-container {\n",
              "      display:flex;\n",
              "      flex-wrap:wrap;\n",
              "      gap: 12px;\n",
              "    }\n",
              "\n",
              "    .colab-df-convert {\n",
              "      background-color: #E8F0FE;\n",
              "      border: none;\n",
              "      border-radius: 50%;\n",
              "      cursor: pointer;\n",
              "      display: none;\n",
              "      fill: #1967D2;\n",
              "      height: 32px;\n",
              "      padding: 0 0 0 0;\n",
              "      width: 32px;\n",
              "    }\n",
              "\n",
              "    .colab-df-convert:hover {\n",
              "      background-color: #E2EBFA;\n",
              "      box-shadow: 0px 1px 2px rgba(60, 64, 67, 0.3), 0px 1px 3px 1px rgba(60, 64, 67, 0.15);\n",
              "      fill: #174EA6;\n",
              "    }\n",
              "\n",
              "    [theme=dark] .colab-df-convert {\n",
              "      background-color: #3B4455;\n",
              "      fill: #D2E3FC;\n",
              "    }\n",
              "\n",
              "    [theme=dark] .colab-df-convert:hover {\n",
              "      background-color: #434B5C;\n",
              "      box-shadow: 0px 1px 3px 1px rgba(0, 0, 0, 0.15);\n",
              "      filter: drop-shadow(0px 1px 2px rgba(0, 0, 0, 0.3));\n",
              "      fill: #FFFFFF;\n",
              "    }\n",
              "  </style>\n",
              "\n",
              "      <script>\n",
              "        const buttonEl =\n",
              "          document.querySelector('#df-344b7733-9ea7-44c2-bd7b-b488b0aa22ad button.colab-df-convert');\n",
              "        buttonEl.style.display =\n",
              "          google.colab.kernel.accessAllowed ? 'block' : 'none';\n",
              "\n",
              "        async function convertToInteractive(key) {\n",
              "          const element = document.querySelector('#df-344b7733-9ea7-44c2-bd7b-b488b0aa22ad');\n",
              "          const dataTable =\n",
              "            await google.colab.kernel.invokeFunction('convertToInteractive',\n",
              "                                                     [key], {});\n",
              "          if (!dataTable) return;\n",
              "\n",
              "          const docLinkHtml = 'Like what you see? Visit the ' +\n",
              "            '<a target=\"_blank\" href=https://colab.research.google.com/notebooks/data_table.ipynb>data table notebook</a>'\n",
              "            + ' to learn more about interactive tables.';\n",
              "          element.innerHTML = '';\n",
              "          dataTable['output_type'] = 'display_data';\n",
              "          await google.colab.output.renderOutput(dataTable, element);\n",
              "          const docLink = document.createElement('div');\n",
              "          docLink.innerHTML = docLinkHtml;\n",
              "          element.appendChild(docLink);\n",
              "        }\n",
              "      </script>\n",
              "    </div>\n",
              "  </div>\n",
              "  "
            ],
            "text/plain": [
              "      id  ...                                            answers\n",
              "0      0  ...  {'answer_start': [844], 'text': ['insider may ...\n",
              "1      1  ...  {'answer_start': [741], 'text': ['only by \"Des...\n",
              "2      2  ...  {'answer_start': [30], 'text': ['promoters hav...\n",
              "3      3  ...  {'answer_start': [278], 'text': ['may invest i...\n",
              "4      4  ...  {'answer_start': [248], 'text': ['attract the ...\n",
              "..   ...  ...                                                ...\n",
              "98   103  ...  {'answer_start': [26], 'text': ['vehicles allo...\n",
              "99   104  ...  {'answer_start': [39], 'text': ['contains the ...\n",
              "100  105  ...  {'answer_start': [57], 'text': ['every buy bac...\n",
              "101  106  ...  {'answer_start': [41], 'text': ['prohibits onl...\n",
              "102  107  ...  {'answer_start': [84], 'text': ['The company s...\n",
              "\n",
              "[103 rows x 8 columns]"
            ]
          },
          "metadata": {},
          "execution_count": 12
        }
      ]
    },
    {
      "cell_type": "code",
      "metadata": {
        "id": "bSnXRZlibEzQ"
      },
      "source": [
        "df.to_csv(\"tempQnA.csv\")"
      ],
      "execution_count": null,
      "outputs": []
    },
    {
      "cell_type": "code",
      "source": [
        "df"
      ],
      "metadata": {
        "colab": {
          "base_uri": "https://localhost:8080/",
          "height": 1000
        },
        "id": "5OUbc_ZlGA-8",
        "outputId": "933c1da4-5e20-442c-fc96-d0de416603fe"
      },
      "execution_count": null,
      "outputs": [
        {
          "output_type": "execute_result",
          "data": {
            "text/html": [
              "\n",
              "  <div id=\"df-c6edcb74-0972-4797-9a7f-3f8615708c35\">\n",
              "    <div class=\"colab-df-container\">\n",
              "      <div>\n",
              "<style scoped>\n",
              "    .dataframe tbody tr th:only-of-type {\n",
              "        vertical-align: middle;\n",
              "    }\n",
              "\n",
              "    .dataframe tbody tr th {\n",
              "        vertical-align: top;\n",
              "    }\n",
              "\n",
              "    .dataframe thead th {\n",
              "        text-align: right;\n",
              "    }\n",
              "</style>\n",
              "<table border=\"1\" class=\"dataframe\">\n",
              "  <thead>\n",
              "    <tr style=\"text-align: right;\">\n",
              "      <th></th>\n",
              "      <th>id</th>\n",
              "      <th>question</th>\n",
              "      <th>Answer Span</th>\n",
              "      <th>context</th>\n",
              "      <th>Document</th>\n",
              "      <th>Keywords</th>\n",
              "      <th>Annotator</th>\n",
              "      <th>answers</th>\n",
              "    </tr>\n",
              "  </thead>\n",
              "  <tbody>\n",
              "    <tr>\n",
              "      <th>0</th>\n",
              "      <td>0</td>\n",
              "      <td>Does an innocent recipient of UPSI have any de...</td>\n",
              "      <td>insider may prove his innocence by demonstrati...</td>\n",
              "      <td>The report (Para 55) suggests “where a person ...</td>\n",
              "      <td>1585217059979</td>\n",
              "      <td>innocent recipient, UPSI, defence</td>\n",
              "      <td>NaN</td>\n",
              "      <td>{'answer_start': [844], 'text': ['insider may ...</td>\n",
              "    </tr>\n",
              "    <tr>\n",
              "      <th>1</th>\n",
              "      <td>1</td>\n",
              "      <td>Will a promoter group entity require a pre-cle...</td>\n",
              "      <td>only by \"Designated persons\" if the value of t...</td>\n",
              "      <td>With respect to the query at 5(i), attention m...</td>\n",
              "      <td>0c9f4131313e54e49d7b9915993ab00e</td>\n",
              "      <td>pre-clearance, compliance officer, designated ...</td>\n",
              "      <td>NaN</td>\n",
              "      <td>{'answer_start': [741], 'text': ['only by \"Des...</td>\n",
              "    </tr>\n",
              "    <tr>\n",
              "      <th>2</th>\n",
              "      <td>2</td>\n",
              "      <td>Is inter-se off-market transfer of shares betw...</td>\n",
              "      <td>promoters have the option to convert warrants ...</td>\n",
              "      <td>In the instant case, the said promoters have t...</td>\n",
              "      <td>0e8e621eb1aee80e102b4186ac874ed5</td>\n",
              "      <td>inter-se off market transfer, block deal, cont...</td>\n",
              "      <td>NaN</td>\n",
              "      <td>{'answer_start': [30], 'text': ['promoters hav...</td>\n",
              "    </tr>\n",
              "    <tr>\n",
              "      <th>3</th>\n",
              "      <td>3</td>\n",
              "      <td>Can an AIF invest its unutilized funds in liqu...</td>\n",
              "      <td>may invest investment income or investment pro...</td>\n",
              "      <td>The provisions under Regulation 15(1)(f) is pr...</td>\n",
              "      <td>1e4e946eca55a80467aad2e1546dd639</td>\n",
              "      <td>unutilized funds, Alternate Investment Funds, ...</td>\n",
              "      <td>NaN</td>\n",
              "      <td>{'answer_start': [278], 'text': ['may invest i...</td>\n",
              "    </tr>\n",
              "    <tr>\n",
              "      <th>4</th>\n",
              "      <td>4</td>\n",
              "      <td>What are the penal consequences of not furnish...</td>\n",
              "      <td>attract the penalty prescribed under section 1...</td>\n",
              "      <td>The Honorable Securities Appellate Tribunal (h...</td>\n",
              "      <td>1289453383303</td>\n",
              "      <td>Noticee, Summons, failure to Comply with summo...</td>\n",
              "      <td>NaN</td>\n",
              "      <td>{'answer_start': [248], 'text': ['attract the ...</td>\n",
              "    </tr>\n",
              "    <tr>\n",
              "      <th>...</th>\n",
              "      <td>...</td>\n",
              "      <td>...</td>\n",
              "      <td>...</td>\n",
              "      <td>...</td>\n",
              "      <td>...</td>\n",
              "      <td>...</td>\n",
              "      <td>...</td>\n",
              "      <td>...</td>\n",
              "    </tr>\n",
              "    <tr>\n",
              "      <th>98</th>\n",
              "      <td>103</td>\n",
              "      <td>What is InvIT?</td>\n",
              "      <td>vehicles allowing for adding of projects in fu...</td>\n",
              "      <td>InvITs are proposed to be vehicles allowing fo...</td>\n",
              "      <td>1387543144855</td>\n",
              "      <td>regulations, guidelines, authority, markets</td>\n",
              "      <td>Raj</td>\n",
              "      <td>{'answer_start': [26], 'text': ['vehicles allo...</td>\n",
              "    </tr>\n",
              "    <tr>\n",
              "      <th>99</th>\n",
              "      <td>104</td>\n",
              "      <td>What does the Section 77A of the Companies Act...</td>\n",
              "      <td>contains the basic framework for\\ncompanies to...</td>\n",
              "      <td>Section 77A of the Companies Act, 1956 contain...</td>\n",
              "      <td>1357124740967</td>\n",
              "      <td>regulations, guidelines, authority</td>\n",
              "      <td>Raj</td>\n",
              "      <td>{'answer_start': [39], 'text': ['contains the ...</td>\n",
              "    </tr>\n",
              "    <tr>\n",
              "      <th>100</th>\n",
              "      <td>105</td>\n",
              "      <td>What does the Section 77A(4) of the Companies ...</td>\n",
              "      <td>every buy back shall\\nbe completed within a pe...</td>\n",
              "      <td>Section 77A(4) of the Companies Act, 1956 spec...</td>\n",
              "      <td>1357124740967</td>\n",
              "      <td>regulations, guidelines, authority, act</td>\n",
              "      <td>Raj</td>\n",
              "      <td>{'answer_start': [57], 'text': ['every buy bac...</td>\n",
              "    </tr>\n",
              "    <tr>\n",
              "      <th>101</th>\n",
              "      <td>106</td>\n",
              "      <td>What does the Section 77A(2) of the Companies ...</td>\n",
              "      <td>prohibits only back to back\\nbuy backs through...</td>\n",
              "      <td>Section 77A(2) of the Companies Act,1956 prohi...</td>\n",
              "      <td>1357124740967</td>\n",
              "      <td>regulations, guidelines, authority, act</td>\n",
              "      <td>Raj</td>\n",
              "      <td>{'answer_start': [41], 'text': ['prohibits onl...</td>\n",
              "    </tr>\n",
              "    <tr>\n",
              "      <th>102</th>\n",
              "      <td>107</td>\n",
              "      <td>What does the Section 19(1)(e) of SEBI(Buy bac...</td>\n",
              "      <td>The company shall ensure that the promoter or ...</td>\n",
              "      <td>Section 19(1)(e) of SEBI(Buy back of Securitie...</td>\n",
              "      <td>1357124740967</td>\n",
              "      <td>regulations, guidelines, authority, act</td>\n",
              "      <td>Raj</td>\n",
              "      <td>{'answer_start': [84], 'text': ['The company s...</td>\n",
              "    </tr>\n",
              "  </tbody>\n",
              "</table>\n",
              "<p>103 rows × 8 columns</p>\n",
              "</div>\n",
              "      <button class=\"colab-df-convert\" onclick=\"convertToInteractive('df-c6edcb74-0972-4797-9a7f-3f8615708c35')\"\n",
              "              title=\"Convert this dataframe to an interactive table.\"\n",
              "              style=\"display:none;\">\n",
              "        \n",
              "  <svg xmlns=\"http://www.w3.org/2000/svg\" height=\"24px\"viewBox=\"0 0 24 24\"\n",
              "       width=\"24px\">\n",
              "    <path d=\"M0 0h24v24H0V0z\" fill=\"none\"/>\n",
              "    <path d=\"M18.56 5.44l.94 2.06.94-2.06 2.06-.94-2.06-.94-.94-2.06-.94 2.06-2.06.94zm-11 1L8.5 8.5l.94-2.06 2.06-.94-2.06-.94L8.5 2.5l-.94 2.06-2.06.94zm10 10l.94 2.06.94-2.06 2.06-.94-2.06-.94-.94-2.06-.94 2.06-2.06.94z\"/><path d=\"M17.41 7.96l-1.37-1.37c-.4-.4-.92-.59-1.43-.59-.52 0-1.04.2-1.43.59L10.3 9.45l-7.72 7.72c-.78.78-.78 2.05 0 2.83L4 21.41c.39.39.9.59 1.41.59.51 0 1.02-.2 1.41-.59l7.78-7.78 2.81-2.81c.8-.78.8-2.07 0-2.86zM5.41 20L4 18.59l7.72-7.72 1.47 1.35L5.41 20z\"/>\n",
              "  </svg>\n",
              "      </button>\n",
              "      \n",
              "  <style>\n",
              "    .colab-df-container {\n",
              "      display:flex;\n",
              "      flex-wrap:wrap;\n",
              "      gap: 12px;\n",
              "    }\n",
              "\n",
              "    .colab-df-convert {\n",
              "      background-color: #E8F0FE;\n",
              "      border: none;\n",
              "      border-radius: 50%;\n",
              "      cursor: pointer;\n",
              "      display: none;\n",
              "      fill: #1967D2;\n",
              "      height: 32px;\n",
              "      padding: 0 0 0 0;\n",
              "      width: 32px;\n",
              "    }\n",
              "\n",
              "    .colab-df-convert:hover {\n",
              "      background-color: #E2EBFA;\n",
              "      box-shadow: 0px 1px 2px rgba(60, 64, 67, 0.3), 0px 1px 3px 1px rgba(60, 64, 67, 0.15);\n",
              "      fill: #174EA6;\n",
              "    }\n",
              "\n",
              "    [theme=dark] .colab-df-convert {\n",
              "      background-color: #3B4455;\n",
              "      fill: #D2E3FC;\n",
              "    }\n",
              "\n",
              "    [theme=dark] .colab-df-convert:hover {\n",
              "      background-color: #434B5C;\n",
              "      box-shadow: 0px 1px 3px 1px rgba(0, 0, 0, 0.15);\n",
              "      filter: drop-shadow(0px 1px 2px rgba(0, 0, 0, 0.3));\n",
              "      fill: #FFFFFF;\n",
              "    }\n",
              "  </style>\n",
              "\n",
              "      <script>\n",
              "        const buttonEl =\n",
              "          document.querySelector('#df-c6edcb74-0972-4797-9a7f-3f8615708c35 button.colab-df-convert');\n",
              "        buttonEl.style.display =\n",
              "          google.colab.kernel.accessAllowed ? 'block' : 'none';\n",
              "\n",
              "        async function convertToInteractive(key) {\n",
              "          const element = document.querySelector('#df-c6edcb74-0972-4797-9a7f-3f8615708c35');\n",
              "          const dataTable =\n",
              "            await google.colab.kernel.invokeFunction('convertToInteractive',\n",
              "                                                     [key], {});\n",
              "          if (!dataTable) return;\n",
              "\n",
              "          const docLinkHtml = 'Like what you see? Visit the ' +\n",
              "            '<a target=\"_blank\" href=https://colab.research.google.com/notebooks/data_table.ipynb>data table notebook</a>'\n",
              "            + ' to learn more about interactive tables.';\n",
              "          element.innerHTML = '';\n",
              "          dataTable['output_type'] = 'display_data';\n",
              "          await google.colab.output.renderOutput(dataTable, element);\n",
              "          const docLink = document.createElement('div');\n",
              "          docLink.innerHTML = docLinkHtml;\n",
              "          element.appendChild(docLink);\n",
              "        }\n",
              "      </script>\n",
              "    </div>\n",
              "  </div>\n",
              "  "
            ],
            "text/plain": [
              "      id  ...                                            answers\n",
              "0      0  ...  {'answer_start': [844], 'text': ['insider may ...\n",
              "1      1  ...  {'answer_start': [741], 'text': ['only by \"Des...\n",
              "2      2  ...  {'answer_start': [30], 'text': ['promoters hav...\n",
              "3      3  ...  {'answer_start': [278], 'text': ['may invest i...\n",
              "4      4  ...  {'answer_start': [248], 'text': ['attract the ...\n",
              "..   ...  ...                                                ...\n",
              "98   103  ...  {'answer_start': [26], 'text': ['vehicles allo...\n",
              "99   104  ...  {'answer_start': [39], 'text': ['contains the ...\n",
              "100  105  ...  {'answer_start': [57], 'text': ['every buy bac...\n",
              "101  106  ...  {'answer_start': [41], 'text': ['prohibits onl...\n",
              "102  107  ...  {'answer_start': [84], 'text': ['The company s...\n",
              "\n",
              "[103 rows x 8 columns]"
            ]
          },
          "metadata": {},
          "execution_count": 14
        }
      ]
    },
    {
      "cell_type": "code",
      "source": [
        "evalset=dict()\n",
        "evalset[\"data\"]=list()\n",
        "\n",
        "for i, r in df.iterrows():\n",
        "  temp=dict()\n",
        "  temp[\"title\"]=r[\"Document\"]\n",
        "  temp[\"paragraphs\"]=list()\n",
        "  \n",
        "  temp2 = dict()\n",
        "\n",
        "  temp2[\"context\"]=r[\"context\"]\n",
        "  temp2[\"qas\"] = list()\n",
        "\n",
        "  temp3 = dict()\n",
        "\n",
        "  temp3[\"id\"]=r[\"id\"]\n",
        "  temp3[\"is_impossible\"]=False\n",
        "  temp3[\"question\"]=r[\"question\"]\n",
        "  temp3[\"answers\"]=list()\n",
        "\n",
        "  temp3[\"answers\"].append({\"answer_start\": r[\"answers\"][\"answer_start\"][0], \"text\":r[\"answers\"][\"text\"][0]})\n",
        "  temp3[\"answers\"].append({\"answer_start\": r[\"answers\"][\"answer_start\"][0], \"text\":r[\"answers\"][\"text\"][0]})\n",
        "  temp3[\"answers\"].append({\"answer_start\": r[\"answers\"][\"answer_start\"][0], \"text\":r[\"answers\"][\"text\"][0]})\n",
        "  temp3[\"answers\"].append({\"answer_start\": r[\"answers\"][\"answer_start\"][0], \"text\":r[\"answers\"][\"text\"][0]})\n",
        "\n",
        "  temp2[\"qas\"].append(temp3)\n",
        "  temp[\"paragraphs\"].append(temp2)\n",
        "\n",
        "  evalset[\"data\"].append(temp)"
      ],
      "metadata": {
        "id": "VvMdiLsfGhpk"
      },
      "execution_count": null,
      "outputs": []
    },
    {
      "cell_type": "code",
      "source": [
        "evalset[\"data\"][0][\"paragraphs\"][0][\"qas\"]"
      ],
      "metadata": {
        "colab": {
          "base_uri": "https://localhost:8080/"
        },
        "id": "gHp2EaWGKR4k",
        "outputId": "1478810b-5c11-4d52-eb9a-3c324d982647"
      },
      "execution_count": null,
      "outputs": [
        {
          "output_type": "execute_result",
          "data": {
            "text/plain": [
              "[{'answers': [{'answer_start': 844,\n",
              "    'text': 'insider may prove his innocence by demonstrating the inclusive list of circumstances provided in the regulations'}],\n",
              "  'id': 0,\n",
              "  'is_impossible': False,\n",
              "  'question': 'Does an innocent recipient of UPSI have any defence under the PIT regulations?'}]"
            ]
          },
          "metadata": {},
          "execution_count": 21
        }
      ]
    },
    {
      "cell_type": "code",
      "source": [
        "with open('evalsetnew.pkl',\"wb\") as f:\n",
        "  pickle.dump(evalset,f)"
      ],
      "metadata": {
        "id": "RpS15bGSKnr4"
      },
      "execution_count": null,
      "outputs": []
    },
    {
      "cell_type": "code",
      "source": [
        "import json\n",
        "\n",
        "with open(\"evalset.json\",\"w\") as f:\n",
        "  json.dump(evalset,f)"
      ],
      "metadata": {
        "id": "Y6-8YWvDLo3w"
      },
      "execution_count": null,
      "outputs": []
    },
    {
      "cell_type": "code",
      "source": [
        "type(evalset)"
      ],
      "metadata": {
        "colab": {
          "base_uri": "https://localhost:8080/"
        },
        "id": "IInnfAFkL4Lc",
        "outputId": "899d3449-81ef-463b-c3ec-eaf7117e1c36"
      },
      "execution_count": null,
      "outputs": [
        {
          "output_type": "execute_result",
          "data": {
            "text/plain": [
              "dict"
            ]
          },
          "metadata": {},
          "execution_count": 34
        }
      ]
    },
    {
      "cell_type": "markdown",
      "metadata": {
        "id": "zqwpVhCBbEzQ"
      },
      "source": [
        "### Custom Predictions"
      ]
    },
    {
      "cell_type": "code",
      "metadata": {
        "id": "ax8Y6kO2bEzQ"
      },
      "source": [
        "from tqdm import tqdm\n",
        "\n",
        "def fileType(name):\n",
        "    if name+\".pdf\" in legalf:\n",
        "        return \"legal case\"\n",
        "    if name in docs:\n",
        "        return \"regulations\"\n",
        "    return \"misc\"\n",
        "\n",
        "docinput = 'All'\n",
        "k=15"
      ],
      "execution_count": null,
      "outputs": []
    },
    {
      "cell_type": "code",
      "metadata": {
        "colab": {
          "base_uri": "https://localhost:8080/"
        },
        "id": "JpfRbrInydOk",
        "outputId": "5d05082d-0b8d-499b-bdfa-c12104a50c9f"
      },
      "source": [
        "df[\"doc_type\"]=df[\"Document\"].apply(fileType)\n",
        "len(df[df[\"doc_type\"]==\"regulations\"]),len(df[df[\"doc_type\"]==\"misc\"]),len(df[df[\"doc_type\"]==\"legal case\"])"
      ],
      "execution_count": null,
      "outputs": [
        {
          "output_type": "execute_result",
          "data": {
            "text/plain": [
              "(18, 51, 34)"
            ]
          },
          "metadata": {},
          "execution_count": 26
        }
      ]
    },
    {
      "cell_type": "code",
      "metadata": {
        "id": "hkOknyZezEC8"
      },
      "source": [
        "# model_name = \"deepset/roberta-base-squad2\"\n",
        "model_name = \"bert-large-uncased-whole-word-masking-finetuned-squad\"\n"
      ],
      "execution_count": null,
      "outputs": []
    },
    {
      "cell_type": "code",
      "metadata": {
        "colab": {
          "base_uri": "https://localhost:8080/",
          "height": 459,
          "referenced_widgets": [
            "642bed2df4d54c2cb674eacb3ada4bc8",
            "f6fbae9541204779bf7976d604d6da5d",
            "e9eabffb1e304d3683b6f09837714ced",
            "6281e7819d0d4eecb9b454d79ea64e8d",
            "e0163d7c791d43c18c6a771b9b991ca0",
            "c5092cf477664f46b5e1c7301127467c",
            "0dba371910c841ee97b422ac70a374f9",
            "a75466f466cc4154a7294f1bbb98ac1f",
            "a8bdd7e6d5034ea480cb31de29dfb5c6",
            "ed10a0ebdf224605ada6c91f4d92ec19",
            "4acbc2b837f7421d939f12e59e78bb34",
            "3bd4a7334a9e43ad87975e68a38838db",
            "36408685a9284481aa15e5b7968dbff1",
            "7d8d2efc35c9456ba7c63cc6441eabfa",
            "cbc09fc2420c4ed890b47c12e74c09d8",
            "2c83157f45fa47078fdd9c7bc14020f6",
            "8a30e1fc603e467a8739ead3716f2e6c",
            "f3488b2e7e1e4225a7c9483e4bf3c336",
            "f0fe12dbf48447349c60cd9576ec0f3b",
            "ed81320d01b54257a73566ee096d4005",
            "114ec0c5c16b41809a3a298fa03e3239",
            "85ab2fc4fd614c69bfc4bf033ff400c2",
            "1ff7926e90664482b956bd91cd4227ad",
            "cbcc04e619894685a38bf9b08365b90f",
            "4fa3e177f7d944edbd585eb7964fa0ff",
            "6b026937c10247a89716606d20ddd3e2",
            "a703a11807c044dabba043294a09af60",
            "93eb5b1eb3d24e1c8079d0a461d79850",
            "8985023d2f0d4013b03b5147c5235264",
            "f761bfe9c1604e129a7d7a6d73200e77",
            "92b7ed2e114b45eb8b5409925f77c141",
            "b0ef45bcd7214bb1a532562073d80ef5",
            "3d9da62b1a66405a8c0726b9cd591db8",
            "ba40ca6975de4a7e8e1f65a19bd61d30",
            "105ba2875747407aa335cd5e5cf250f4",
            "26958e64f42c4e49ad1a9470bc14bfb2",
            "8c1b11908ca94130ab9d4e094533c42f",
            "b0f270ac14114250ac261de32092d488",
            "cb98346155104b1aa73c3e061c402aad",
            "68adba4a586e4a188ead533650c9ae96",
            "7a408a7172054d31b82ab974eefa319c",
            "94c58352900e44a9bed4b85358b56132",
            "27251b3fa55248f38a4c3f23e97d480d",
            "299f5094fd0a410d82b4178344b41007",
            "e8e85beccacf4d6dae8ae5bb12b0cd50",
            "befa54a5fe094e55ab75cfac318c16b1",
            "242a73ef2b6e4337a5bd439b91ff06d9",
            "850b6f20688f4dbabc00c43e3572b54a",
            "33b40326bece4532bda51f17892a002d",
            "5ef482ccf9b54cb483d64454ce2e4091",
            "0b99eb41771a42a8a5944e82d271ef6c",
            "6f81febb11e14f7fb61850b516147225",
            "a38ba2c8b92d452b906f9ce887540802",
            "2d10417ee6d443ce84b482bc2b25a893",
            "76e61a6743214efcb198ef4b615a1d54"
          ]
        },
        "id": "w83ao5HOzIZE",
        "outputId": "1e83765c-acdb-4fcf-8705-ff80f9194796"
      },
      "source": [
        "tempdf= df[df[\"doc_type\"]==\"regulations\"]\n",
        "formatted_predictions=list()\n",
        "answeregs=list()\n",
        "references=list()\n",
        "itr=0\n",
        "for i,r in tqdm(tempdf.iterrows()):\n",
        "    docinput=\"All\"    \n",
        "    category = r[\"doc_type\"]\n",
        "    queryinput=r[\"question\"]\n",
        "    answer, ansreg = QnAmodel(queryinput, docinput,k,category, model_name)\n",
        "    answeregs.append(ansreg)\n",
        "    references.append({\"id\": i, \"answers\": r[\"answers\"]})\n",
        "    formatted_predictions.append({\"id\": i, \"prediction_text\": answer})\n",
        "   "
      ],
      "execution_count": null,
      "outputs": [
        {
          "output_type": "stream",
          "name": "stderr",
          "text": [
            "\r0it [00:00, ?it/s]INFO:absl:Using /tmp/tfhub_modules to cache modules.\n",
            "INFO:absl:Downloading TF-Hub Module 'https://tfhub.dev/google/universal-sentence-encoder/4'.\n",
            "INFO:absl:Downloaded https://tfhub.dev/google/universal-sentence-encoder/4, Total size: 987.47MB\n",
            "INFO:absl:Downloaded TF-Hub Module 'https://tfhub.dev/google/universal-sentence-encoder/4'.\n"
          ]
        },
        {
          "output_type": "display_data",
          "data": {
            "application/vnd.jupyter.widget-view+json": {
              "model_id": "642bed2df4d54c2cb674eacb3ada4bc8",
              "version_minor": 0,
              "version_major": 2
            },
            "text/plain": [
              "Downloading:   0%|          | 0.00/443 [00:00<?, ?B/s]"
            ]
          },
          "metadata": {}
        },
        {
          "output_type": "display_data",
          "data": {
            "application/vnd.jupyter.widget-view+json": {
              "model_id": "3bd4a7334a9e43ad87975e68a38838db",
              "version_minor": 0,
              "version_major": 2
            },
            "text/plain": [
              "Downloading:   0%|          | 0.00/1.25G [00:00<?, ?B/s]"
            ]
          },
          "metadata": {}
        },
        {
          "output_type": "display_data",
          "data": {
            "application/vnd.jupyter.widget-view+json": {
              "model_id": "1ff7926e90664482b956bd91cd4227ad",
              "version_minor": 0,
              "version_major": 2
            },
            "text/plain": [
              "Downloading:   0%|          | 0.00/28.0 [00:00<?, ?B/s]"
            ]
          },
          "metadata": {}
        },
        {
          "output_type": "display_data",
          "data": {
            "application/vnd.jupyter.widget-view+json": {
              "model_id": "ba40ca6975de4a7e8e1f65a19bd61d30",
              "version_minor": 0,
              "version_major": 2
            },
            "text/plain": [
              "Downloading:   0%|          | 0.00/226k [00:00<?, ?B/s]"
            ]
          },
          "metadata": {}
        },
        {
          "output_type": "display_data",
          "data": {
            "application/vnd.jupyter.widget-view+json": {
              "model_id": "e8e85beccacf4d6dae8ae5bb12b0cd50",
              "version_minor": 0,
              "version_major": 2
            },
            "text/plain": [
              "Downloading:   0%|          | 0.00/455k [00:00<?, ?B/s]"
            ]
          },
          "metadata": {}
        },
        {
          "output_type": "stream",
          "name": "stderr",
          "text": [
            "/usr/local/lib/python3.7/dist-packages/numpy/core/_asarray.py:83: VisibleDeprecationWarning: Creating an ndarray from ragged nested sequences (which is a list-or-tuple of lists-or-tuples-or ndarrays with different lengths or shapes) is deprecated. If you meant to do this, you must specify 'dtype=object' when creating the ndarray\n",
            "  return array(a, dtype, copy=False, order=order)\n",
            "18it [16:09, 53.86s/it]\n"
          ]
        }
      ]
    },
    {
      "cell_type": "code",
      "metadata": {
        "colab": {
          "base_uri": "https://localhost:8080/"
        },
        "id": "XoecqzTRYYrY",
        "outputId": "7e0dfde5-e1aa-4f42-a9aa-c628e2aa496a"
      },
      "source": [
        "questions = list()\n",
        "contexts=list()\n",
        "itr=0\n",
        "for i,r in tqdm(tempdf.iterrows()):\n",
        "    contexts.append(r[\"context\"])\n",
        "    questions.append(r[\"question\"])"
      ],
      "execution_count": null,
      "outputs": [
        {
          "output_type": "stream",
          "name": "stderr",
          "text": [
            "18it [00:00, 6031.11it/s]\n"
          ]
        }
      ]
    },
    {
      "cell_type": "code",
      "metadata": {
        "id": "k-gekxmzz1tE",
        "colab": {
          "base_uri": "https://localhost:8080/"
        },
        "outputId": "2fe38df4-b916-4913-8516-acb4c9a1bc22"
      },
      "source": [
        "!pip3 install datasets"
      ],
      "execution_count": null,
      "outputs": [
        {
          "output_type": "stream",
          "name": "stdout",
          "text": [
            "Collecting datasets\n",
            "  Downloading datasets-1.16.1-py3-none-any.whl (298 kB)\n",
            "\u001b[K     |████████████████████████████████| 298 kB 5.1 MB/s \n",
            "\u001b[?25hCollecting xxhash\n",
            "  Downloading xxhash-2.0.2-cp37-cp37m-manylinux2010_x86_64.whl (243 kB)\n",
            "\u001b[K     |████████████████████████████████| 243 kB 9.7 MB/s \n",
            "\u001b[?25hRequirement already satisfied: requests>=2.19.0 in /usr/local/lib/python3.7/dist-packages (from datasets) (2.23.0)\n",
            "Collecting aiohttp\n",
            "  Downloading aiohttp-3.8.1-cp37-cp37m-manylinux_2_5_x86_64.manylinux1_x86_64.manylinux_2_12_x86_64.manylinux2010_x86_64.whl (1.1 MB)\n",
            "\u001b[K     |████████████████████████████████| 1.1 MB 10.0 MB/s \n",
            "\u001b[?25hRequirement already satisfied: dill in /usr/local/lib/python3.7/dist-packages (from datasets) (0.3.4)\n",
            "Requirement already satisfied: importlib-metadata in /usr/local/lib/python3.7/dist-packages (from datasets) (4.8.2)\n",
            "Requirement already satisfied: huggingface-hub<1.0.0,>=0.1.0 in /usr/local/lib/python3.7/dist-packages (from datasets) (0.2.1)\n",
            "Requirement already satisfied: tqdm>=4.62.1 in /usr/local/lib/python3.7/dist-packages (from datasets) (4.62.3)\n",
            "Requirement already satisfied: multiprocess in /usr/local/lib/python3.7/dist-packages (from datasets) (0.70.12.2)\n",
            "Requirement already satisfied: numpy>=1.17 in /usr/local/lib/python3.7/dist-packages (from datasets) (1.19.5)\n",
            "Requirement already satisfied: packaging in /usr/local/lib/python3.7/dist-packages (from datasets) (21.3)\n",
            "Requirement already satisfied: pyarrow!=4.0.0,>=3.0.0 in /usr/local/lib/python3.7/dist-packages (from datasets) (3.0.0)\n",
            "Collecting fsspec[http]>=2021.05.0\n",
            "  Downloading fsspec-2021.11.1-py3-none-any.whl (132 kB)\n",
            "\u001b[K     |████████████████████████████████| 132 kB 9.9 MB/s \n",
            "\u001b[?25hRequirement already satisfied: pandas in /usr/local/lib/python3.7/dist-packages (from datasets) (1.1.5)\n",
            "Requirement already satisfied: pyyaml in /usr/local/lib/python3.7/dist-packages (from huggingface-hub<1.0.0,>=0.1.0->datasets) (6.0)\n",
            "Requirement already satisfied: filelock in /usr/local/lib/python3.7/dist-packages (from huggingface-hub<1.0.0,>=0.1.0->datasets) (3.4.0)\n",
            "Requirement already satisfied: typing-extensions>=3.7.4.3 in /usr/local/lib/python3.7/dist-packages (from huggingface-hub<1.0.0,>=0.1.0->datasets) (3.10.0.2)\n",
            "Requirement already satisfied: pyparsing!=3.0.5,>=2.0.2 in /usr/local/lib/python3.7/dist-packages (from packaging->datasets) (3.0.6)\n",
            "Requirement already satisfied: urllib3!=1.25.0,!=1.25.1,<1.26,>=1.21.1 in /usr/local/lib/python3.7/dist-packages (from requests>=2.19.0->datasets) (1.24.3)\n",
            "Requirement already satisfied: idna<3,>=2.5 in /usr/local/lib/python3.7/dist-packages (from requests>=2.19.0->datasets) (2.10)\n",
            "Requirement already satisfied: chardet<4,>=3.0.2 in /usr/local/lib/python3.7/dist-packages (from requests>=2.19.0->datasets) (3.0.4)\n",
            "Requirement already satisfied: certifi>=2017.4.17 in /usr/local/lib/python3.7/dist-packages (from requests>=2.19.0->datasets) (2021.10.8)\n",
            "Collecting async-timeout<5.0,>=4.0.0a3\n",
            "  Downloading async_timeout-4.0.1-py3-none-any.whl (5.7 kB)\n",
            "Collecting aiosignal>=1.1.2\n",
            "  Downloading aiosignal-1.2.0-py3-none-any.whl (8.2 kB)\n",
            "Collecting multidict<7.0,>=4.5\n",
            "  Downloading multidict-5.2.0-cp37-cp37m-manylinux_2_5_x86_64.manylinux1_x86_64.manylinux_2_12_x86_64.manylinux2010_x86_64.whl (160 kB)\n",
            "\u001b[K     |████████████████████████████████| 160 kB 10.0 MB/s \n",
            "\u001b[?25hRequirement already satisfied: attrs>=17.3.0 in /usr/local/lib/python3.7/dist-packages (from aiohttp->datasets) (21.2.0)\n",
            "Collecting frozenlist>=1.1.1\n",
            "  Downloading frozenlist-1.2.0-cp37-cp37m-manylinux_2_5_x86_64.manylinux1_x86_64.manylinux_2_12_x86_64.manylinux2010_x86_64.whl (192 kB)\n",
            "\u001b[K     |████████████████████████████████| 192 kB 40.6 MB/s \n",
            "\u001b[?25hCollecting asynctest==0.13.0\n",
            "  Downloading asynctest-0.13.0-py3-none-any.whl (26 kB)\n",
            "Requirement already satisfied: charset-normalizer<3.0,>=2.0 in /usr/local/lib/python3.7/dist-packages (from aiohttp->datasets) (2.0.8)\n",
            "Collecting yarl<2.0,>=1.0\n",
            "  Downloading yarl-1.7.2-cp37-cp37m-manylinux_2_5_x86_64.manylinux1_x86_64.manylinux_2_12_x86_64.manylinux2010_x86_64.whl (271 kB)\n",
            "\u001b[K     |████████████████████████████████| 271 kB 42.2 MB/s \n",
            "\u001b[?25hRequirement already satisfied: zipp>=0.5 in /usr/local/lib/python3.7/dist-packages (from importlib-metadata->datasets) (3.6.0)\n",
            "Requirement already satisfied: pytz>=2017.2 in /usr/local/lib/python3.7/dist-packages (from pandas->datasets) (2018.9)\n",
            "Requirement already satisfied: python-dateutil>=2.7.3 in /usr/local/lib/python3.7/dist-packages (from pandas->datasets) (2.8.2)\n",
            "Requirement already satisfied: six>=1.5 in /usr/local/lib/python3.7/dist-packages (from python-dateutil>=2.7.3->pandas->datasets) (1.15.0)\n",
            "Installing collected packages: multidict, frozenlist, yarl, asynctest, async-timeout, aiosignal, fsspec, aiohttp, xxhash, datasets\n",
            "Successfully installed aiohttp-3.8.1 aiosignal-1.2.0 async-timeout-4.0.1 asynctest-0.13.0 datasets-1.16.1 frozenlist-1.2.0 fsspec-2021.11.1 multidict-5.2.0 xxhash-2.0.2 yarl-1.7.2\n"
          ]
        }
      ]
    },
    {
      "cell_type": "code",
      "metadata": {
        "colab": {
          "base_uri": "https://localhost:8080/",
          "height": 98,
          "referenced_widgets": [
            "31310f0d59854a4b86d63b72b5c42e3a",
            "d2a44fed39734c6b8bf77be4646aba8a",
            "3e5bbd7c2ded42cdb0948bc37aa2b404",
            "9b262aa2451d46768bf7150118874787",
            "1b9394c37f974282a9237f5b92af62d2",
            "79b5a085fdc84cf5ba6efc5493f819c0",
            "ab5ce6546c154acaa496024c31de1a74",
            "160eca18cd8e4355909ee86895520173",
            "abd843423eb440cfa8dd4f676c7a7e92",
            "7d241bb2f3594580809b59287074fe45",
            "7844069751ba433f9767f38a2d29a50d",
            "fd66f5f3bf934123a335793890a84454",
            "b8d738066d4c4aa9901d7811ac513194",
            "0f649f8b10fc4f00a8a4b7913b5ddf63",
            "6652d70414c94e49ad44618305df2db8",
            "5312bb31dd424c368513808ec0026f14",
            "e8966ecd3b384c1bae81d400a117afb2",
            "3c97b76bd80942599c799aefd71e7094",
            "dd68ce25dab546878468ff7f4970004a",
            "cdf86e75152d40e1a0af806ea3295748",
            "cc80a0baf7af42c58168cd8668d61f5c",
            "2a67b7ee31344c8d8faa30db8c56158d"
          ]
        },
        "id": "-nJ3JJLwzp9g",
        "outputId": "5bde9bd2-131c-4a3c-a174-1b6638a651d7"
      },
      "source": [
        "from datasets import load_metric\n",
        "\n",
        "squad_v2 = False\n",
        "\n",
        "metric = load_metric(\"squad_v2\" if squad_v2 else \"squad\")\n",
        "metric.compute(predictions=formatted_predictions, references=references)"
      ],
      "execution_count": null,
      "outputs": [
        {
          "output_type": "display_data",
          "data": {
            "application/vnd.jupyter.widget-view+json": {
              "model_id": "31310f0d59854a4b86d63b72b5c42e3a",
              "version_minor": 0,
              "version_major": 2
            },
            "text/plain": [
              "Downloading:   0%|          | 0.00/1.73k [00:00<?, ?B/s]"
            ]
          },
          "metadata": {}
        },
        {
          "output_type": "display_data",
          "data": {
            "application/vnd.jupyter.widget-view+json": {
              "model_id": "fd66f5f3bf934123a335793890a84454",
              "version_minor": 0,
              "version_major": 2
            },
            "text/plain": [
              "Downloading:   0%|          | 0.00/1.12k [00:00<?, ?B/s]"
            ]
          },
          "metadata": {}
        },
        {
          "output_type": "execute_result",
          "data": {
            "text/plain": [
              "{'exact_match': 0.0, 'f1': 2.8571776644798956}"
            ]
          },
          "metadata": {},
          "execution_count": 31
        }
      ]
    },
    {
      "cell_type": "code",
      "metadata": {
        "colab": {
          "base_uri": "https://localhost:8080/"
        },
        "id": "9ks2s3FpbSB4",
        "outputId": "cbeee6d6-1cc9-4de4-c2bd-bb01416ea652"
      },
      "source": [
        "gold_ans"
      ],
      "execution_count": null,
      "outputs": [
        {
          "output_type": "execute_result",
          "data": {
            "text/plain": [
              "['A foreign portfolio investor shall appoint a branch of a bank authorised by the Reserve Bank of India for opening a foreign currency denominated account and special non-resident rupee account before making any investments in India.',\n",
              " '(a) that the aid shall not exceed seventy five per cent. of the total expenditure on legal proceedings;(b) such aid shall not be considered for more than one legal proceeding in a particular matter;(c) if more than one investors’ association applies for seeking legal aid, the investors’ association whose application is received first, shall be considered for such aid',\n",
              " 'by simple majority of the shareholders in General Meeting',\n",
              " 'in accordance with the investment objective of the relevant mutual fund scheme',\n",
              " 'offer discretionary or non-discretionary or advisory services or a combination thereof to eligible investment funds',\n",
              " 'reasonable grounds to believe that such company has been conducting in violation of these regulations;(3) to require any intermediary or any person associated with securities market in any manner to furnish such information to, or produce such books, or registers, or other documents, or record before him or any person authorized by him in this behalf as he may consider necessary if the furnishing of such information or the production of such books, or registers, or other documents, or record is relevant or necessary for the purposes of the investigation',\n",
              " 'protection against any discharge, termination, demotion, suspension, threats, harassment, directly or indirectly or discrimination against any employee who files a Voluntary Information Disclosure Form',\n",
              " 'if it is of the opinion that the alleged default, - i. ii. has market wide impact, caused losses to a large number of investors, or iii. affected the integrity of the market.',\n",
              " 'formulate the detailed terms and conditions of the schemes which shall include the provisions as specified by Board in this regard',\n",
              " 'no acquirer shall acquire, directly or indirectly, control over such target company unless the acquirer makes a public announcement of an open offer for acquiring shares of such target company']"
            ]
          },
          "metadata": {},
          "execution_count": 41
        }
      ]
    },
    {
      "cell_type": "code",
      "metadata": {
        "id": "jBUYNqF8awMQ"
      },
      "source": [
        "gold_ans = [ r[\"answers\"][\"text\"][0]  for r in references]\n",
        "answers = [f[\"prediction_text\"] for f in formatted_predictions]"
      ],
      "execution_count": null,
      "outputs": []
    },
    {
      "cell_type": "code",
      "metadata": {
        "colab": {
          "base_uri": "https://localhost:8080/",
          "height": 1000
        },
        "id": "4gC48IknY1tM",
        "outputId": "a36be7fc-2812-43e1-9690-ab6622350153"
      },
      "source": [
        "testingdf=pd.DataFrame({\"questions\":questions,\"contexts\":contexts,\"pred_regs\":answeregs,\"gold_ans\":gold_ans,\"answers\":answers})\n",
        "testingdf"
      ],
      "execution_count": null,
      "outputs": [
        {
          "output_type": "execute_result",
          "data": {
            "text/html": [
              "<div>\n",
              "<style scoped>\n",
              "    .dataframe tbody tr th:only-of-type {\n",
              "        vertical-align: middle;\n",
              "    }\n",
              "\n",
              "    .dataframe tbody tr th {\n",
              "        vertical-align: top;\n",
              "    }\n",
              "\n",
              "    .dataframe thead th {\n",
              "        text-align: right;\n",
              "    }\n",
              "</style>\n",
              "<table border=\"1\" class=\"dataframe\">\n",
              "  <thead>\n",
              "    <tr style=\"text-align: right;\">\n",
              "      <th></th>\n",
              "      <th>questions</th>\n",
              "      <th>contexts</th>\n",
              "      <th>pred_regs</th>\n",
              "      <th>gold_ans</th>\n",
              "      <th>answers</th>\n",
              "    </tr>\n",
              "  </thead>\n",
              "  <tbody>\n",
              "    <tr>\n",
              "      <th>0</th>\n",
              "      <td>What would be a designated bank under the fore...</td>\n",
              "      <td>A foreign portfolio investor shall appoint a b...</td>\n",
              "      <td>45. (1) The Securities and Exchange Board of I...</td>\n",
              "      <td>A foreign portfolio investor shall appoint a b...</td>\n",
              "      <td>Securities and Exchange Board of India</td>\n",
              "    </tr>\n",
              "    <tr>\n",
              "      <th>1</th>\n",
              "      <td>What are the conditions to providing aid to th...</td>\n",
              "      <td>Conditions for Aid.\\nThe aid to investors’ ass...</td>\n",
              "      <td>“(6) The total expenses of the scheme excludin...</td>\n",
              "      <td>(a) that the aid shall not exceed seventy five...</td>\n",
              "      <td>overall ceilings</td>\n",
              "    </tr>\n",
              "    <tr>\n",
              "      <th>2</th>\n",
              "      <td>How are Sweat Equity Shares to be issued to Pr...</td>\n",
              "      <td>6. (1) In case of Issue of sweat equity shares...</td>\n",
              "      <td>96.  (1)  The  provisions  of  this  Chapter  ...</td>\n",
              "      <td>by simple majority of the shareholders in Gene...</td>\n",
              "      <td>Indian  Depository  Receipts</td>\n",
              "    </tr>\n",
              "    <tr>\n",
              "      <th>3</th>\n",
              "      <td>How can money collected under a specific mutua...</td>\n",
              "      <td>43. The moneys collected under any scheme of a...</td>\n",
              "      <td>“(6) The total expenses of the scheme excludin...</td>\n",
              "      <td>in accordance with the investment objective of...</td>\n",
              "      <td>bonds</td>\n",
              "    </tr>\n",
              "    <tr>\n",
              "      <th>4</th>\n",
              "      <td>What are the obligations and responsibilities ...</td>\n",
              "      <td>19. An eligible fund manager shall be required...</td>\n",
              "      <td>8.    For  the  purposes  of  determining  whe...</td>\n",
              "      <td>offer discretionary or non-discretionary or ad...</td>\n",
              "      <td>Net worth Requirement</td>\n",
              "    </tr>\n",
              "    <tr>\n",
              "      <th>5</th>\n",
              "      <td>What are the situations wherein the Investigat...</td>\n",
              "      <td>6. Without prejudice to the powers conferred u...</td>\n",
              "      <td>44. In order to remove any difficulties in the...</td>\n",
              "      <td>reasonable grounds to believe that such compan...</td>\n",
              "      <td>Repeal, rescission and saving</td>\n",
              "    </tr>\n",
              "    <tr>\n",
              "      <th>6</th>\n",
              "      <td>What are the provisions under a code of conduc...</td>\n",
              "      <td>7. (1) Initial Disclosures. (a). Every promote...</td>\n",
              "      <td>91.  The  terms  and  conditions  subject  to ...</td>\n",
              "      <td>protection against any discharge, termination,...</td>\n",
              "      <td>91</td>\n",
              "    </tr>\n",
              "    <tr>\n",
              "      <th>7</th>\n",
              "      <td>What are the situations under which the Board ...</td>\n",
              "      <td>5. (1) No application for settlement of any sp...</td>\n",
              "      <td>30. In order to remove any difficulty in the i...</td>\n",
              "      <td>if it is of the opinion that the alleged defau...</td>\n",
              "      <td>Irregularity in procedure</td>\n",
              "    </tr>\n",
              "    <tr>\n",
              "      <th>8</th>\n",
              "      <td>What is the primary function of Compensation C...</td>\n",
              "      <td>5. (1) A company shall constitute a compensati...</td>\n",
              "      <td>“(2) Every mutual fund shall along with the of...</td>\n",
              "      <td>formulate the detailed terms and conditions of...</td>\n",
              "      <td>pay filing fees</td>\n",
              "    </tr>\n",
              "    <tr>\n",
              "      <th>9</th>\n",
              "      <td>What are the requisites before a person can ma...</td>\n",
              "      <td>4. Irrespective of acquisition or holding of s...</td>\n",
              "      <td>34.  The  regulations  specified  in  the  Sch...</td>\n",
              "      <td>no acquirer shall acquire, directly or indirec...</td>\n",
              "      <td>Repeal and Savings</td>\n",
              "    </tr>\n",
              "    <tr>\n",
              "      <th>10</th>\n",
              "      <td>Who all shall the Selection Committee for Ombu...</td>\n",
              "      <td>3. (1) With effect from such date as the Board...</td>\n",
              "      <td>23(1) Every listed company or intermediary sha...</td>\n",
              "      <td>(i) an expert in the area relating to financia...</td>\n",
              "      <td>Every listed company or intermediary</td>\n",
              "    </tr>\n",
              "    <tr>\n",
              "      <th>11</th>\n",
              "      <td>What will be the quorum of the meeting of a Bo...</td>\n",
              "      <td>(1) Three members of the Board shall constitut...</td>\n",
              "      <td>11. Declaration of fidelity Every member, befo...</td>\n",
              "      <td>Three members of the Board</td>\n",
              "      <td>Every member</td>\n",
              "    </tr>\n",
              "    <tr>\n",
              "      <th>12</th>\n",
              "      <td>What is the definition of appreciation under t...</td>\n",
              "      <td>. “appreciation” means the difference between ...</td>\n",
              "      <td>92.    An  employee  of  the  Board  may  be  ...</td>\n",
              "      <td>difference between the market price of the sha...</td>\n",
              "      <td>Gratuity</td>\n",
              "    </tr>\n",
              "    <tr>\n",
              "      <th>13</th>\n",
              "      <td>What is Employee Stock Option Scheme or ESOS?</td>\n",
              "      <td>“employee stock option scheme or ESOS” means a...</td>\n",
              "      <td>9.(1) Option, SAR or any other benefit granted...</td>\n",
              "      <td>a scheme under which a company grants employe...</td>\n",
              "      <td>SAR</td>\n",
              "    </tr>\n",
              "    <tr>\n",
              "      <th>14</th>\n",
              "      <td>How can the Company implement the ESOS?</td>\n",
              "      <td>A company may implement schemes either direct...</td>\n",
              "      <td>8.     In case of winding up of the schemes be...</td>\n",
              "      <td>either directly or by setting up an irrevocab...</td>\n",
              "      <td>through trust</td>\n",
              "    </tr>\n",
              "    <tr>\n",
              "      <th>15</th>\n",
              "      <td>Who are the witness when a search is being mad...</td>\n",
              "      <td>Before making a search under this Chapter, the...</td>\n",
              "      <td>5. (1) A warrant of authority shall be signed ...</td>\n",
              "      <td>two or more independent and respectable inhabi...</td>\n",
              "      <td>the Chairman</td>\n",
              "    </tr>\n",
              "    <tr>\n",
              "      <th>16</th>\n",
              "      <td>Who is a merchant banker?</td>\n",
              "      <td>“merchant banker” means any person who is eng...</td>\n",
              "      <td>95[(2) The allotment to institutional investor...</td>\n",
              "      <td>any person who is engaged in the business of i...</td>\n",
              "      <td>institutional investors</td>\n",
              "    </tr>\n",
              "    <tr>\n",
              "      <th>17</th>\n",
              "      <td>What is the definition of an \"issue\"?</td>\n",
              "      <td>“issue” means an offer of sale or purchase of...</td>\n",
              "      <td>“(2) Every mutual fund shall along with the of...</td>\n",
              "      <td>an offer of sale or purchase of securities by ...</td>\n",
              "      <td>Every mutual fund shall along with the offer d...</td>\n",
              "    </tr>\n",
              "  </tbody>\n",
              "</table>\n",
              "</div>"
            ],
            "text/plain": [
              "                                            questions  ...                                            answers\n",
              "0   What would be a designated bank under the fore...  ...             Securities and Exchange Board of India\n",
              "1   What are the conditions to providing aid to th...  ...                                   overall ceilings\n",
              "2   How are Sweat Equity Shares to be issued to Pr...  ...                       Indian  Depository  Receipts\n",
              "3   How can money collected under a specific mutua...  ...                                              bonds\n",
              "4   What are the obligations and responsibilities ...  ...                              Net worth Requirement\n",
              "5   What are the situations wherein the Investigat...  ...                      Repeal, rescission and saving\n",
              "6   What are the provisions under a code of conduc...  ...                                                 91\n",
              "7   What are the situations under which the Board ...  ...                          Irregularity in procedure\n",
              "8   What is the primary function of Compensation C...  ...                                    pay filing fees\n",
              "9   What are the requisites before a person can ma...  ...                                 Repeal and Savings\n",
              "10  Who all shall the Selection Committee for Ombu...  ...               Every listed company or intermediary\n",
              "11  What will be the quorum of the meeting of a Bo...  ...                                       Every member\n",
              "12  What is the definition of appreciation under t...  ...                                           Gratuity\n",
              "13      What is Employee Stock Option Scheme or ESOS?  ...                                                SAR\n",
              "14            How can the Company implement the ESOS?  ...                                      through trust\n",
              "15  Who are the witness when a search is being mad...  ...                                       the Chairman\n",
              "16                          Who is a merchant banker?  ...                            institutional investors\n",
              "17              What is the definition of an \"issue\"?  ...  Every mutual fund shall along with the offer d...\n",
              "\n",
              "[18 rows x 5 columns]"
            ]
          },
          "metadata": {},
          "execution_count": 33
        }
      ]
    },
    {
      "cell_type": "code",
      "metadata": {
        "id": "qGE9GjHAfJzs"
      },
      "source": [
        "testingdf.to_csv(\"fromNewest.csv\",index=False)"
      ],
      "execution_count": null,
      "outputs": []
    },
    {
      "cell_type": "code",
      "metadata": {
        "colab": {
          "base_uri": "https://localhost:8080/"
        },
        "id": "bPdK7RBxY1RE",
        "outputId": "c91cee16-40c4-4822-99f5-3e8c95070bc2"
      },
      "source": [
        "tempdata=dict()\n",
        "tempdata[\"first\"]=list()\n",
        "tempdata[\"second\"]=list()\n",
        "tempdata[\"third\"]=list()\n",
        "tempdata[\"fourth\"]=list()\n",
        "tempdata[\"fifth\"]=list()\n",
        "\n",
        "\n",
        "for i,r in tqdm(testingdf.iterrows()):\n",
        "    queryinput = r[\"questions\"]\n",
        "    qvocab,query = queryvocab(queryinput)\n",
        "    docinput = regextract(docinput, docs, docregs, mainvocab, vocabdef, queryinput, glossary)\n",
        "    query, qvocab, importantwords, expansionwords = querypreprocess(query, qvocab, definitions, finaltopics)\n",
        "    \n",
        "    origreg,reverseMap = tfidfreg(docregs,docinput,category)\n",
        "    \n",
        "    d_cosines = []\n",
        "    module_url = \"https://tfhub.dev/google/universal-sentence-encoder/4\"\n",
        "    model = hub.load(module_url)\n",
        "    def embed(input):\n",
        "      return model(input)\n",
        "\n",
        "    query_vector = embed([query])\n",
        "    seg = int(len(origreg)/3)\n",
        "    reg_vectors= embed(origreg[:seg])\n",
        "    reg_vectors_2 = embed(origreg[seg:seg*2])\n",
        "    reg_vectors_3 = embed(origreg[seg*2:])\n",
        "    reg_vectors = tf.concat(axis=0, values = [reg_vectors, reg_vectors_2,reg_vectors_3])\n",
        "    d_cosines=list()\n",
        "    for r in reg_vectors.numpy():\n",
        "        d_cosines.append(cosine_sim(query_vector.numpy()[0], r))\n",
        "\n",
        "    out = np.array(d_cosines).argsort()[::-1]\n",
        "\n",
        "    tempdata[\"first\"].append(origreg[out[0]])\n",
        "    tempdata[\"second\"].append(origreg[out[1]])\n",
        "    tempdata[\"third\"].append(origreg[out[2]])\n",
        "    tempdata[\"fourth\"].append(origreg[out[3]])\n",
        "    tempdata[\"fifth\"].append(origreg[out[4]])\n"
      ],
      "execution_count": null,
      "outputs": [
        {
          "output_type": "stream",
          "name": "stderr",
          "text": [
            "18it [10:32, 35.11s/it]\n"
          ]
        }
      ]
    },
    {
      "cell_type": "code",
      "source": [
        "findings = pd.DataFrame(tempdata)\n",
        "findings[\"gold\"] = testingdf[\"contexts\"]\n",
        "findings"
      ],
      "metadata": {
        "colab": {
          "base_uri": "https://localhost:8080/",
          "height": 1000
        },
        "id": "K90VjILV86Uk",
        "outputId": "0a01375e-0fe6-4605-c316-30af77637956"
      },
      "execution_count": null,
      "outputs": [
        {
          "output_type": "execute_result",
          "data": {
            "text/html": [
              "<div>\n",
              "<style scoped>\n",
              "    .dataframe tbody tr th:only-of-type {\n",
              "        vertical-align: middle;\n",
              "    }\n",
              "\n",
              "    .dataframe tbody tr th {\n",
              "        vertical-align: top;\n",
              "    }\n",
              "\n",
              "    .dataframe thead th {\n",
              "        text-align: right;\n",
              "    }\n",
              "</style>\n",
              "<table border=\"1\" class=\"dataframe\">\n",
              "  <thead>\n",
              "    <tr style=\"text-align: right;\">\n",
              "      <th></th>\n",
              "      <th>first</th>\n",
              "      <th>second</th>\n",
              "      <th>third</th>\n",
              "      <th>fourth</th>\n",
              "      <th>fifth</th>\n",
              "      <th>gold</th>\n",
              "    </tr>\n",
              "  </thead>\n",
              "  <tbody>\n",
              "    <tr>\n",
              "      <th>0</th>\n",
              "      <td>(2) In addition to the obligation of custodian...</td>\n",
              "      <td>(2) A foreign portfolio investor shall ensure ...</td>\n",
              "      <td>(3)  When  the  foreign  portfolio  investor  ...</td>\n",
              "      <td>(2)  In  case  of  jointly  held  depository  ...</td>\n",
              "      <td>20. (1) A foreign portfolio investor shall inv...</td>\n",
              "      <td>A foreign portfolio investor shall appoint a b...</td>\n",
              "    </tr>\n",
              "    <tr>\n",
              "      <th>1</th>\n",
              "      <td>6. Conditions for Aid. The aid to investors’ a...</td>\n",
              "      <td>(4) The following conditions shall apply to so...</td>\n",
              "      <td>(2) Notwithstanding the conditions as specifie...</td>\n",
              "      <td>21. (1) The  Sponsor  and  Manager  of  the  A...</td>\n",
              "      <td>(4) of or to a specified investor unless the i...</td>\n",
              "      <td>Conditions for Aid.\\nThe aid to investors’ ass...</td>\n",
              "    </tr>\n",
              "    <tr>\n",
              "      <th>2</th>\n",
              "      <td>(2) The issue of sweat equity shares to promot...</td>\n",
              "      <td>15.  (1) The company shall ensure that  - (a) ...</td>\n",
              "      <td>53[(5)  The  SR  equity  shares  of  promoters...</td>\n",
              "      <td>11.  The  amount  of  Sweat  Equity  shares  i...</td>\n",
              "      <td>102[(5) If an issuer has issued SR equity shar...</td>\n",
              "      <td>6. (1) In case of Issue of sweat equity shares...</td>\n",
              "    </tr>\n",
              "    <tr>\n",
              "      <th>3</th>\n",
              "      <td>107.  (1)  In  addition  to  other  requiremen...</td>\n",
              "      <td>43. The moneys collected under any scheme of a...</td>\n",
              "      <td>232.  (1)  In  addition  to  other  requiremen...</td>\n",
              "      <td>10.  (1)    In  addition  to  other  requireme...</td>\n",
              "      <td>63. (1) In addition to other requirements laid...</td>\n",
              "      <td>43. The moneys collected under any scheme of a...</td>\n",
              "    </tr>\n",
              "    <tr>\n",
              "      <th>4</th>\n",
              "      <td>50[(6) The Manager shall be responsible for in...</td>\n",
              "      <td>(2) The  Sponsor  or  Manager  of  Alternative...</td>\n",
              "      <td>(2) No custodian in  which the sponsor or its ...</td>\n",
              "      <td>“(4) No person who is appointed as a trustee o...</td>\n",
              "      <td>7. For the purpose of grant of a certificate o...</td>\n",
              "      <td>19. An eligible fund manager shall be required...</td>\n",
              "    </tr>\n",
              "    <tr>\n",
              "      <th>5</th>\n",
              "      <td>38. The inspecting authority shall, as soon as...</td>\n",
              "      <td>(4)  The  inspecting  authority  shall,  for  ...</td>\n",
              "      <td>(2)  The  authorised  officer  who  is  not  t...</td>\n",
              "      <td>(4)  The inspecting authority shall, for the p...</td>\n",
              "      <td>22. The inspecting authority shall, as soon as...</td>\n",
              "      <td>6. Without prejudice to the powers conferred u...</td>\n",
              "    </tr>\n",
              "    <tr>\n",
              "      <th>6</th>\n",
              "      <td>(3) \"company with family connection\" means: a....</td>\n",
              "      <td>190. (1) The issuer may offer its IDRs at diff...</td>\n",
              "      <td>49.  Without  prejudice  to  the  exercise  of...</td>\n",
              "      <td>21A. (1) A merchant banker shall not lead mana...</td>\n",
              "      <td>(2)  No person resident in India, except a rec...</td>\n",
              "      <td>7. (1) Initial Disclosures. (a). Every promote...</td>\n",
              "    </tr>\n",
              "    <tr>\n",
              "      <th>7</th>\n",
              "      <td>(3) The provisions of this regulation shall no...</td>\n",
              "      <td>26.  Notwithstanding  anything  contained  in ...</td>\n",
              "      <td>17. Notwithstanding anything contained in thes...</td>\n",
              "      <td>24. (1) Save as otherwise provided in these re...</td>\n",
              "      <td>(3) against whom the Board may initiate or has...</td>\n",
              "      <td>5. (1) No application for settlement of any sp...</td>\n",
              "    </tr>\n",
              "    <tr>\n",
              "      <th>8</th>\n",
              "      <td>(2) The  Nomination  and  Remuneration  Commit...</td>\n",
              "      <td>(2)  The  Nomination  and  Remuneration  Commi...</td>\n",
              "      <td>(2)  Functional committee, comprising of: (a) ...</td>\n",
              "      <td>(2)  Functional committee, comprising of: (a) ...</td>\n",
              "      <td>5.  (1)  A  company  shall  constitute  a  com...</td>\n",
              "      <td>5. (1) A company shall constitute a compensati...</td>\n",
              "    </tr>\n",
              "    <tr>\n",
              "      <th>9</th>\n",
              "      <td>4. Irrespective of acquisition or holding of s...</td>\n",
              "      <td>5. (1)  For the purposes of regulation 3 and r...</td>\n",
              "      <td>3. (1)  No acquirer shall acquire shares or vo...</td>\n",
              "      <td>(2)  A  Collective  Investment  Management  Co...</td>\n",
              "      <td>(2) The asset management company may appoint a...</td>\n",
              "      <td>4. Irrespective of acquisition or holding of s...</td>\n",
              "    </tr>\n",
              "    <tr>\n",
              "      <th>10</th>\n",
              "      <td>(2)  Functional committee, comprising of: (a) ...</td>\n",
              "      <td>10. Every Ombudsman or Stipendiary Ombudsman s...</td>\n",
              "      <td>12. (1) Internal Committee(s) shall be constit...</td>\n",
              "      <td>(2) An auditor shall be appointed by the trust...</td>\n",
              "      <td>7L.  (1)  The  Informant  Incentive  Committee...</td>\n",
              "      <td>3. (1) With effect from such date as the Board...</td>\n",
              "    </tr>\n",
              "    <tr>\n",
              "      <th>11</th>\n",
              "      <td>6. Quorum</td>\n",
              "      <td>(1)       Three members of the Board shall con...</td>\n",
              "      <td>(4)  The  quorum  for  a  meeting  of  the  Hi...</td>\n",
              "      <td>3. Convening of Meetings</td>\n",
              "      <td>(2)  Four  members  of  the  Committee  shall ...</td>\n",
              "      <td>(1) Three members of the Board shall constitut...</td>\n",
              "    </tr>\n",
              "    <tr>\n",
              "      <th>12</th>\n",
              "      <td>25.  The employee shall not have right to rece...</td>\n",
              "      <td>18. (1)  The  Board,  shall  at  its  discreti...</td>\n",
              "      <td>(2)  No  employee  shall  make  use  of  any  ...</td>\n",
              "      <td>30. (1)  The  first  day  of  an  employee's  ...</td>\n",
              "      <td>52. No  employee   who   is  not  a  'workman'...</td>\n",
              "      <td>. “appreciation” means the difference between ...</td>\n",
              "    </tr>\n",
              "    <tr>\n",
              "      <th>13</th>\n",
              "      <td>20.  The amount payable by the employee, if an...</td>\n",
              "      <td>31. (1) Securities and Exchange Board of India...</td>\n",
              "      <td>239. The entire pre-issue capital held by pers...</td>\n",
              "      <td>17.  The entire pre-issue capital held by pers...</td>\n",
              "      <td>(2)  An  issuer  shall  not  be  eligible  to ...</td>\n",
              "      <td>“employee stock option scheme or ESOS” means a...</td>\n",
              "    </tr>\n",
              "    <tr>\n",
              "      <th>14</th>\n",
              "      <td>18.(1) There shall be a minimum vesting period...</td>\n",
              "      <td>29.(1)  Any  acquirer  who  acquires  shares  ...</td>\n",
              "      <td>22.(1)  The  company  may  determine  the  pri...</td>\n",
              "      <td>(1)  a  firm  of  auditors  or  company  secre...</td>\n",
              "      <td>(2)  Shares issued under an ESPS shall be lock...</td>\n",
              "      <td>A company may implement schemes either direct...</td>\n",
              "    </tr>\n",
              "    <tr>\n",
              "      <th>15</th>\n",
              "      <td>18.  (1) The authorised officer before executi...</td>\n",
              "      <td>7. Before making a search under this Chapter, ...</td>\n",
              "      <td>29.  (1)  It  shall  be  the  duty  of  every ...</td>\n",
              "      <td>(4)  The  inspecting  authority  shall,  for  ...</td>\n",
              "      <td>(13)  On the date  fixed  for the inquiry,  th...</td>\n",
              "      <td>Before making a search under this Chapter, the...</td>\n",
              "    </tr>\n",
              "    <tr>\n",
              "      <th>16</th>\n",
              "      <td>101. 185[(1) The issuing company shall appoint...</td>\n",
              "      <td>106G.  (1)The  issuer  shall  appoint  one  or...</td>\n",
              "      <td>(3) The issuer shall appoint one or more merch...</td>\n",
              "      <td>5. (1) The issuer shall appoint one or more me...</td>\n",
              "      <td>(2) 49[****] Lead  merchant  banker  not  to  ...</td>\n",
              "      <td>“merchant banker” means any person who is eng...</td>\n",
              "    </tr>\n",
              "    <tr>\n",
              "      <th>17</th>\n",
              "      <td>52. No  employee   who   is  not  a  'workman'...</td>\n",
              "      <td>268. (1) The issuer shall not make an allotmen...</td>\n",
              "      <td>7J.  (1)  Any  term  in  an  agreement  (oral ...</td>\n",
              "      <td>49L. For the purposes of this Chapter, unless ...</td>\n",
              "      <td>49A. For the purposes of this Chapter, unless ...</td>\n",
              "      <td>“issue” means an offer of sale or purchase of...</td>\n",
              "    </tr>\n",
              "  </tbody>\n",
              "</table>\n",
              "</div>"
            ],
            "text/plain": [
              "                                                first  ...                                               gold\n",
              "0   (2) In addition to the obligation of custodian...  ...  A foreign portfolio investor shall appoint a b...\n",
              "1   6. Conditions for Aid. The aid to investors’ a...  ...  Conditions for Aid.\\nThe aid to investors’ ass...\n",
              "2   (2) The issue of sweat equity shares to promot...  ...  6. (1) In case of Issue of sweat equity shares...\n",
              "3   107.  (1)  In  addition  to  other  requiremen...  ...  43. The moneys collected under any scheme of a...\n",
              "4   50[(6) The Manager shall be responsible for in...  ...  19. An eligible fund manager shall be required...\n",
              "5   38. The inspecting authority shall, as soon as...  ...  6. Without prejudice to the powers conferred u...\n",
              "6   (3) \"company with family connection\" means: a....  ...  7. (1) Initial Disclosures. (a). Every promote...\n",
              "7   (3) The provisions of this regulation shall no...  ...  5. (1) No application for settlement of any sp...\n",
              "8   (2) The  Nomination  and  Remuneration  Commit...  ...  5. (1) A company shall constitute a compensati...\n",
              "9   4. Irrespective of acquisition or holding of s...  ...  4. Irrespective of acquisition or holding of s...\n",
              "10  (2)  Functional committee, comprising of: (a) ...  ...  3. (1) With effect from such date as the Board...\n",
              "11                                          6. Quorum  ...  (1) Three members of the Board shall constitut...\n",
              "12  25.  The employee shall not have right to rece...  ...  . “appreciation” means the difference between ...\n",
              "13  20.  The amount payable by the employee, if an...  ...  “employee stock option scheme or ESOS” means a...\n",
              "14  18.(1) There shall be a minimum vesting period...  ...   A company may implement schemes either direct...\n",
              "15  18.  (1) The authorised officer before executi...  ...  Before making a search under this Chapter, the...\n",
              "16  101. 185[(1) The issuing company shall appoint...  ...   “merchant banker” means any person who is eng...\n",
              "17  52. No  employee   who   is  not  a  'workman'...  ...   “issue” means an offer of sale or purchase of...\n",
              "\n",
              "[18 rows x 6 columns]"
            ]
          },
          "metadata": {},
          "execution_count": 36
        }
      ]
    },
    {
      "cell_type": "code",
      "source": [
        "findings.to_csv(\"FindingsForRetrieval.csv\",index=False)"
      ],
      "metadata": {
        "id": "_6tb0QeRBdrc"
      },
      "execution_count": null,
      "outputs": []
    },
    {
      "cell_type": "code",
      "metadata": {
        "colab": {
          "base_uri": "https://localhost:8080/"
        },
        "id": "mGlEyduMdjnE",
        "outputId": "8a76adb3-2780-443a-ba43-148dc395b41d"
      },
      "source": [
        "without_preprocess_top_result = list()\n",
        "\n",
        "for i,r in tqdm(testingdf.iterrows()):\n",
        "    # qvocab,query = queryvocab(r[\"questions\"])\n",
        "    queryinput = r[\"questions\"]\n",
        "    query = queryinput\n",
        "    docinput = regextract(docinput, docs, docregs, mainvocab, vocabdef, queryinput, glossary)\n",
        "    # query, qvocab, importantwords, expansionwords = querypreprocess(query, qvocab, definitions, finaltopics)\n",
        "    \n",
        "    origreg,reverseMap = tfidfreg(docregs,docinput,category)\n",
        "    \n",
        "    d_cosines = []\n",
        "    module_url = \"https://tfhub.dev/google/universal-sentence-encoder/4\"\n",
        "    model = hub.load(module_url)\n",
        "    def embed(input):\n",
        "      return model(input)\n",
        "\n",
        "    query_vector = embed([query])\n",
        "    seg = int(len(origreg)/3)\n",
        "    reg_vectors= embed(origreg[:seg])\n",
        "    reg_vectors_2 = embed(origreg[seg:seg*2])\n",
        "    reg_vectors_3 = embed(origreg[seg*2:])\n",
        "    reg_vectors = tf.concat(axis=0, values = [reg_vectors, reg_vectors_2,reg_vectors_3])\n",
        "    d_cosines=list()\n",
        "    for r in reg_vectors.numpy():\n",
        "        d_cosines.append(cosine_sim(query_vector.numpy()[0], r))\n",
        "\n",
        "    out = np.array(d_cosines).argsort()[::-1]\n",
        "    without_preprocess_top_result.append(origreg[out[0]])\n",
        "      "
      ],
      "execution_count": null,
      "outputs": [
        {
          "output_type": "stream",
          "name": "stderr",
          "text": [
            "10it [05:51, 35.15s/it]\n"
          ]
        }
      ]
    },
    {
      "cell_type": "code",
      "metadata": {
        "id": "m60HzI4Zdjg0"
      },
      "source": [
        "findings = pd.DataFrame({\"with_preprocessing\":with_preprocess_top_result, \"without_preprocessing\":without_preprocess_top_result})"
      ],
      "execution_count": null,
      "outputs": []
    },
    {
      "cell_type": "code",
      "metadata": {
        "colab": {
          "base_uri": "https://localhost:8080/",
          "height": 537
        },
        "id": "ivl980hadjak",
        "outputId": "59db3212-5cf7-42c0-d879-8bd7b15b1e13"
      },
      "source": [
        "findings[\"gold\"]=testingdf[\"contexts\"]\n",
        "findings"
      ],
      "execution_count": null,
      "outputs": [
        {
          "output_type": "execute_result",
          "data": {
            "text/html": [
              "<div>\n",
              "<style scoped>\n",
              "    .dataframe tbody tr th:only-of-type {\n",
              "        vertical-align: middle;\n",
              "    }\n",
              "\n",
              "    .dataframe tbody tr th {\n",
              "        vertical-align: top;\n",
              "    }\n",
              "\n",
              "    .dataframe thead th {\n",
              "        text-align: right;\n",
              "    }\n",
              "</style>\n",
              "<table border=\"1\" class=\"dataframe\">\n",
              "  <thead>\n",
              "    <tr style=\"text-align: right;\">\n",
              "      <th></th>\n",
              "      <th>with_preprocessing</th>\n",
              "      <th>without_preprocessing</th>\n",
              "      <th>gold</th>\n",
              "    </tr>\n",
              "  </thead>\n",
              "  <tbody>\n",
              "    <tr>\n",
              "      <th>0</th>\n",
              "      <td>(2) In addition to the obligation of custodian...</td>\n",
              "      <td>25. (1) A foreign portfolio investor or a glob...</td>\n",
              "      <td>A foreign portfolio investor shall appoint a b...</td>\n",
              "    </tr>\n",
              "    <tr>\n",
              "      <th>1</th>\n",
              "      <td>6. Conditions for Aid. The aid to investors’ a...</td>\n",
              "      <td>6. Conditions for Aid. The aid to investors’ a...</td>\n",
              "      <td>Conditions for Aid.\\nThe aid to investors’ ass...</td>\n",
              "    </tr>\n",
              "    <tr>\n",
              "      <th>2</th>\n",
              "      <td>(2) The issue of sweat equity shares to promot...</td>\n",
              "      <td>(2) The issue of sweat equity shares to promot...</td>\n",
              "      <td>6. (1) In case of Issue of sweat equity shares...</td>\n",
              "    </tr>\n",
              "    <tr>\n",
              "      <th>3</th>\n",
              "      <td>107.  (1)  In  addition  to  other  requiremen...</td>\n",
              "      <td>(3) Moneys collected under any money market sc...</td>\n",
              "      <td>43. The moneys collected under any scheme of a...</td>\n",
              "    </tr>\n",
              "    <tr>\n",
              "      <th>4</th>\n",
              "      <td>50[(6) The Manager shall be responsible for in...</td>\n",
              "      <td>19H. Units of angel funds shall not be listed ...</td>\n",
              "      <td>19. An eligible fund manager shall be required...</td>\n",
              "    </tr>\n",
              "    <tr>\n",
              "      <th>5</th>\n",
              "      <td>38. The inspecting authority shall, as soon as...</td>\n",
              "      <td>(3)  While undertaking an inspection under the...</td>\n",
              "      <td>6. Without prejudice to the powers conferred u...</td>\n",
              "    </tr>\n",
              "    <tr>\n",
              "      <th>6</th>\n",
              "      <td>(3) \"company with family connection\" means: a....</td>\n",
              "      <td>7I. (1) Every person required to have a Code o...</td>\n",
              "      <td>7. (1) Initial Disclosures. (a). Every promote...</td>\n",
              "    </tr>\n",
              "    <tr>\n",
              "      <th>7</th>\n",
              "      <td>(3) The provisions of this regulation shall no...</td>\n",
              "      <td>(3) The provisions of this regulation shall no...</td>\n",
              "      <td>5. (1) No application for settlement of any sp...</td>\n",
              "    </tr>\n",
              "    <tr>\n",
              "      <th>8</th>\n",
              "      <td>(2)  The  Nomination  and  Remuneration  Commi...</td>\n",
              "      <td>(2)  The  Nomination  and  Remuneration  Commi...</td>\n",
              "      <td>5. (1) A company shall constitute a compensati...</td>\n",
              "    </tr>\n",
              "    <tr>\n",
              "      <th>9</th>\n",
              "      <td>4. Irrespective of acquisition or holding of s...</td>\n",
              "      <td>(9)  The  board  of  directors  of  the  targe...</td>\n",
              "      <td>4. Irrespective of acquisition or holding of s...</td>\n",
              "    </tr>\n",
              "  </tbody>\n",
              "</table>\n",
              "</div>"
            ],
            "text/plain": [
              "                                  with_preprocessing  ...                                               gold\n",
              "0  (2) In addition to the obligation of custodian...  ...  A foreign portfolio investor shall appoint a b...\n",
              "1  6. Conditions for Aid. The aid to investors’ a...  ...  Conditions for Aid.\\nThe aid to investors’ ass...\n",
              "2  (2) The issue of sweat equity shares to promot...  ...  6. (1) In case of Issue of sweat equity shares...\n",
              "3  107.  (1)  In  addition  to  other  requiremen...  ...  43. The moneys collected under any scheme of a...\n",
              "4  50[(6) The Manager shall be responsible for in...  ...  19. An eligible fund manager shall be required...\n",
              "5  38. The inspecting authority shall, as soon as...  ...  6. Without prejudice to the powers conferred u...\n",
              "6  (3) \"company with family connection\" means: a....  ...  7. (1) Initial Disclosures. (a). Every promote...\n",
              "7  (3) The provisions of this regulation shall no...  ...  5. (1) No application for settlement of any sp...\n",
              "8  (2)  The  Nomination  and  Remuneration  Commi...  ...  5. (1) A company shall constitute a compensati...\n",
              "9  4. Irrespective of acquisition or holding of s...  ...  4. Irrespective of acquisition or holding of s...\n",
              "\n",
              "[10 rows x 3 columns]"
            ]
          },
          "metadata": {},
          "execution_count": 59
        }
      ]
    },
    {
      "cell_type": "code",
      "metadata": {
        "id": "XoO7gyVodjRM"
      },
      "source": [
        "findings.to_csv(\"findings.csv\",index=False)"
      ],
      "execution_count": null,
      "outputs": []
    },
    {
      "cell_type": "code",
      "metadata": {
        "id": "RWGwpG3uY1N8"
      },
      "source": [
        ""
      ],
      "execution_count": null,
      "outputs": []
    },
    {
      "cell_type": "code",
      "metadata": {
        "id": "R8BNA6OVMGlM"
      },
      "source": [
        "print(answeregs,file=open(\"answereg_regulations.txt\",\"w\"))\n"
      ],
      "execution_count": null,
      "outputs": []
    },
    {
      "cell_type": "code",
      "metadata": {
        "id": "OaFCKvy6zBPA"
      },
      "source": [
        "print(formatted_predictions,file=open(\"prediction_regulations.txt\",\"w\"))\n",
        "print(references,file=open(\"references.txt\",\"w\"))"
      ],
      "execution_count": null,
      "outputs": []
    },
    {
      "cell_type": "code",
      "metadata": {
        "colab": {
          "base_uri": "https://localhost:8080/"
        },
        "id": "Vm1GihIhzIV8",
        "outputId": "f64b7615-62f6-4e66-9ba5-6bd4c2cb3aa7"
      },
      "source": [
        "tempdf= df[df[\"doc_type\"]==\"misc\"]\n",
        "formatted_predictions=list()\n",
        "references=list()\n",
        "for i,r in tqdm(tempdf.iterrows()):\n",
        "    category = r[\"doc_type\"]\n",
        "    queryinput=r[\"question\"]\n",
        "    answer, ansreg = QnAmodel(queryinput, docinput,k,category, model_name)\n",
        "    references.append({\"id\": i, \"answers\": r[\"answers\"]})\n",
        "    formatted_predictions.append({\"id\": i, \"prediction_text\": answer})"
      ],
      "execution_count": null,
      "outputs": [
        {
          "output_type": "stream",
          "name": "stderr",
          "text": [
            "\r0it [00:00, ?it/s]/usr/local/lib/python3.7/dist-packages/numpy/core/_asarray.py:83: VisibleDeprecationWarning: Creating an ndarray from ragged nested sequences (which is a list-or-tuple of lists-or-tuples-or ndarrays with different lengths or shapes) is deprecated. If you meant to do this, you must specify 'dtype=object' when creating the ndarray\n",
            "  return array(a, dtype, copy=False, order=order)\n",
            "51it [50:45, 59.71s/it]\n"
          ]
        }
      ]
    },
    {
      "cell_type": "code",
      "metadata": {
        "colab": {
          "base_uri": "https://localhost:8080/"
        },
        "id": "OxYX_3-7zqYE",
        "outputId": "572b8c19-9570-4dc1-c4b5-63b7071c953c"
      },
      "source": [
        "metric.compute(predictions=formatted_predictions, references=references)"
      ],
      "execution_count": null,
      "outputs": [
        {
          "output_type": "execute_result",
          "data": {
            "text/plain": [
              "{'exact_match': 0.0, 'f1': 3.3010684379852737}"
            ]
          },
          "metadata": {},
          "execution_count": 51
        }
      ]
    },
    {
      "cell_type": "code",
      "metadata": {
        "id": "oo1g9X7ny2cY"
      },
      "source": [
        "print(formatted_predictions,file=open(\"prediction_misc.txt\",\"w\"))"
      ],
      "execution_count": null,
      "outputs": []
    },
    {
      "cell_type": "code",
      "metadata": {
        "colab": {
          "base_uri": "https://localhost:8080/"
        },
        "id": "2i_aA76lySx0",
        "outputId": "68cf2c99-f144-4cc6-d45a-cc26488db8c4"
      },
      "source": [
        "tempdf= df[df[\"doc_type\"]==\"legal case\"]\n",
        "formatted_predictions=list()\n",
        "references=list()\n",
        "for i,r in tqdm(tempdf.iterrows()):\n",
        "    category = r[\"doc_type\"]\n",
        "    queryinput=r[\"question\"]\n",
        "    answer, ansreg = QnAmodel(queryinput, docinput,k,category, model_name)\n",
        "    references.append({\"id\": i, \"answers\": r[\"answers\"]})\n",
        "    formatted_predictions.append({\"id\": i, \"prediction_text\": answer})"
      ],
      "execution_count": null,
      "outputs": [
        {
          "output_type": "stream",
          "name": "stderr",
          "text": [
            "\r0it [00:00, ?it/s]/usr/local/lib/python3.7/dist-packages/numpy/core/_asarray.py:83: VisibleDeprecationWarning: Creating an ndarray from ragged nested sequences (which is a list-or-tuple of lists-or-tuples-or ndarrays with different lengths or shapes) is deprecated. If you meant to do this, you must specify 'dtype=object' when creating the ndarray\n",
            "  return array(a, dtype, copy=False, order=order)\n",
            "34it [43:08, 76.13s/it]\n"
          ]
        }
      ]
    },
    {
      "cell_type": "code",
      "metadata": {
        "colab": {
          "base_uri": "https://localhost:8080/"
        },
        "id": "Fu1eISd-zwoE",
        "outputId": "677666fd-ebfb-4943-94ed-1723998cde63"
      },
      "source": [
        "metric.compute(predictions=formatted_predictions, references=references)"
      ],
      "execution_count": null,
      "outputs": [
        {
          "output_type": "execute_result",
          "data": {
            "text/plain": [
              "{'exact_match': 0.0, 'f1': 2.2543544309596264}"
            ]
          },
          "metadata": {},
          "execution_count": 54
        }
      ]
    },
    {
      "cell_type": "code",
      "metadata": {
        "id": "v5f_q16azwrM"
      },
      "source": [
        "print(formatted_predictions,file=open(\"prediction_legal.txt\",\"w\"))\n"
      ],
      "execution_count": null,
      "outputs": []
    },
    {
      "cell_type": "markdown",
      "metadata": {
        "id": "U59qrb8izv_c"
      },
      "source": [
        ""
      ]
    },
    {
      "cell_type": "markdown",
      "metadata": {
        "id": "6QPILHxHzv6w"
      },
      "source": [
        ""
      ]
    },
    {
      "cell_type": "markdown",
      "metadata": {
        "id": "DftTjMwPzv3o"
      },
      "source": [
        ""
      ]
    },
    {
      "cell_type": "markdown",
      "metadata": {
        "id": "TBymVXrJzv0g"
      },
      "source": [
        ""
      ]
    },
    {
      "cell_type": "markdown",
      "metadata": {
        "id": "oKLOx9LMzvv0"
      },
      "source": [
        ""
      ]
    },
    {
      "cell_type": "code",
      "metadata": {
        "id": "rkpv0xWGbEzQ"
      },
      "source": [
        "print(formatted_predictions,file=open(\"CustomPredictions/prediction_roberta.txt\",\"w\"))\n",
        "print(references,file=open(\"CustomPredictions/references.txt\",\"w\"))"
      ],
      "execution_count": null,
      "outputs": []
    },
    {
      "cell_type": "code",
      "metadata": {
        "id": "-4u9VCbwbEzQ"
      },
      "source": [
        "model_name = \"mrm8488/longformer-base-4096-finetuned-squadv2\"\n",
        "\n",
        "formatted_predictions=list()\n",
        "references=list()\n",
        "for i,r in tqdm(df.iterrows()):\n",
        "    category = fileType(r[\"Document\"])\n",
        "    answer, ansreg = QnAmodel(r[\"question\"], docinput,k,category, model_name)\n",
        "    references.append({\"id\": r[\"id\"], \"answers\": r[\"Answer Span\"]})\n",
        "    formatted_predictions.append({\"id\": r[\"id\"], \"prediction_text\": answer})\n",
        "\n"
      ],
      "execution_count": null,
      "outputs": []
    },
    {
      "cell_type": "code",
      "metadata": {
        "id": "9npJhcqnbEzQ"
      },
      "source": [
        "metric.compute(predictions=formatted_predictions, references=references)"
      ],
      "execution_count": null,
      "outputs": []
    },
    {
      "cell_type": "code",
      "metadata": {
        "id": "471yUIKPbEzQ"
      },
      "source": [
        "print(formatted_predictions,file=open(\"CustomPredictions/prediction_longformer.txt\",\"w\"))"
      ],
      "execution_count": null,
      "outputs": []
    },
    {
      "cell_type": "code",
      "metadata": {
        "id": "mynM6RkkbEzQ"
      },
      "source": [
        "model_name = \"bert-large-uncased-whole-word-masking-finetuned-squad\"\n",
        "\n",
        "formatted_predictions=list()\n",
        "references=list()\n",
        "for i,r in tqdm(df.iterrows()):\n",
        "    category = fileType(r[\"Document\"])\n",
        "    answer, ansreg = QnAmodel(r[\"question\"], docinput,k,category, model_name)\n",
        "    references.append({\"id\": r[\"id\"], \"answers\": r[\"Answer Span\"]})\n",
        "    formatted_predictions.append({\"id\": r[\"id\"], \"prediction_text\": answer})\n",
        "\n",
        "metric.compute(predictions=formatted_predictions, references=references)"
      ],
      "execution_count": null,
      "outputs": []
    },
    {
      "cell_type": "code",
      "metadata": {
        "id": "-Z1bgPgCbEzQ"
      },
      "source": [
        "metric.compute(predictions=formatted_predictions, references=references)"
      ],
      "execution_count": null,
      "outputs": []
    },
    {
      "cell_type": "code",
      "metadata": {
        "id": "aTVFZZRkbEzQ"
      },
      "source": [
        "print(formatted_predictions,file=open(\"CustomPredictions/prediction_bert.txt\",\"w\"))"
      ],
      "execution_count": null,
      "outputs": []
    },
    {
      "cell_type": "code",
      "metadata": {
        "id": "ZOOLwAXdbEzQ"
      },
      "source": [
        "model_name = \"mrm8488/spanbert-finetuned-squadv1\"\n",
        "\n",
        "formatted_predictions=list()\n",
        "references=list()\n",
        "for i,r in tqdm(df.iterrows()):\n",
        "    category = fileType(r[\"Document\"])\n",
        "    answer, ansreg = QnAmodel(r[\"question\"], docinput,k,category, model_name)\n",
        "    references.append({\"id\": r[\"id\"], \"answers\": r[\"Answer Span\"]})\n",
        "    formatted_predictions.append({\"id\": r[\"id\"], \"prediction_text\": answer})\n",
        "\n",
        "metric.compute(predictions=formatted_predictions, references=references)"
      ],
      "execution_count": null,
      "outputs": []
    },
    {
      "cell_type": "code",
      "metadata": {
        "id": "gYagVdZIbEzQ"
      },
      "source": [
        "metric.compute(predictions=formatted_predictions, references=references)"
      ],
      "execution_count": null,
      "outputs": []
    },
    {
      "cell_type": "code",
      "metadata": {
        "id": "EU2Yh7JrbEzQ"
      },
      "source": [
        "print(formatted_predictions,file=open(\"CustomPredictions/prediction_spanbert.txt\",\"w\"))"
      ],
      "execution_count": null,
      "outputs": []
    },
    {
      "cell_type": "code",
      "metadata": {
        "id": "itP-geTKbEzQ"
      },
      "source": [
        "model_name = \"deepset/bert-base-cased-squad2\"\n",
        "\n",
        "formatted_predictions=list()\n",
        "references=list()\n",
        "for i,r in tqdm(df.iterrows()):\n",
        "    category = fileType(r[\"Document\"])\n",
        "    answer, ansreg = QnAmodel(r[\"question\"], docinput,k,category, model_name)\n",
        "    references.append({\"id\": r[\"id\"], \"answers\": r[\"Answer Span\"]})\n",
        "    formatted_predictions.append({\"id\": r[\"id\"], \"prediction_text\": answer})\n",
        "\n",
        "metric.compute(predictions=formatted_predictions, references=references)"
      ],
      "execution_count": null,
      "outputs": []
    },
    {
      "cell_type": "code",
      "metadata": {
        "id": "vFuLs3nFbEzQ"
      },
      "source": [
        "metric.compute(predictions=formatted_predictions, references=references)"
      ],
      "execution_count": null,
      "outputs": []
    },
    {
      "cell_type": "code",
      "metadata": {
        "id": "MXqFO05rbEzQ"
      },
      "source": [
        "print(formatted_predictions,file=open(\"CustomPredictions/prediction_deepsetBertbase.txt\",\"w\"))"
      ],
      "execution_count": null,
      "outputs": []
    },
    {
      "cell_type": "code",
      "metadata": {
        "id": "QTsUzXPubEzQ"
      },
      "source": [
        ""
      ],
      "execution_count": null,
      "outputs": []
    },
    {
      "cell_type": "markdown",
      "metadata": {
        "id": "v_kQwXpPbEzQ"
      },
      "source": [
        "\n",
        "## Normal Predictions"
      ]
    },
    {
      "cell_type": "code",
      "metadata": {
        "id": "xfpEXu1CbEzQ"
      },
      "source": [
        "import ast\n",
        "import csv\n",
        "# create a dictionary\n",
        "data = []\n",
        "csvFilePath = 'tempQnA.csv'\n",
        "\n",
        "# Open a csv reader called DictReader\n",
        "with open(csvFilePath, encoding='utf-8') as csvf:\n",
        "    csvReader = csv.DictReader(csvf)\n",
        "\n",
        "    # jsonf= open(jsonFilePath, 'w', encoding='utf-8')\n",
        "    for id,rows in enumerate(csvReader):\n",
        "        temp=dict()\n",
        "        temp[\"id\"]=id\n",
        "        temp[\"data\"]=rows\n",
        "        temp[\"data\"]['answers']= ast.literal_eval(rows[\"answers\"])\n",
        "        data.append(temp)"
      ],
      "execution_count": null,
      "outputs": []
    },
    {
      "cell_type": "code",
      "metadata": {
        "colab": {
          "base_uri": "https://localhost:8080/"
        },
        "id": "XT7tjCKRB9qw",
        "outputId": "2a60b6a4-2273-4126-9aec-39436ce36dba"
      },
      "source": [
        "!pip3 install datasets transformers"
      ],
      "execution_count": null,
      "outputs": [
        {
          "name": "stdout",
          "output_type": "stream",
          "text": [
            "Collecting datasets\n",
            "  Downloading datasets-1.15.1-py3-none-any.whl (290 kB)\n",
            "\u001b[?25l\r\u001b[K     |█▏                              | 10 kB 20.7 MB/s eta 0:00:01\r\u001b[K     |██▎                             | 20 kB 23.2 MB/s eta 0:00:01\r\u001b[K     |███▍                            | 30 kB 24.9 MB/s eta 0:00:01\r\u001b[K     |████▌                           | 40 kB 27.2 MB/s eta 0:00:01\r\u001b[K     |█████▋                          | 51 kB 29.7 MB/s eta 0:00:01\r\u001b[K     |██████▊                         | 61 kB 32.0 MB/s eta 0:00:01\r\u001b[K     |████████                        | 71 kB 28.5 MB/s eta 0:00:01\r\u001b[K     |█████████                       | 81 kB 29.5 MB/s eta 0:00:01\r\u001b[K     |██████████▏                     | 92 kB 30.6 MB/s eta 0:00:01\r\u001b[K     |███████████▎                    | 102 kB 32.2 MB/s eta 0:00:01\r\u001b[K     |████████████▍                   | 112 kB 32.2 MB/s eta 0:00:01\r\u001b[K     |█████████████▌                  | 122 kB 32.2 MB/s eta 0:00:01\r\u001b[K     |██████████████▋                 | 133 kB 32.2 MB/s eta 0:00:01\r\u001b[K     |███████████████▉                | 143 kB 32.2 MB/s eta 0:00:01\r\u001b[K     |█████████████████               | 153 kB 32.2 MB/s eta 0:00:01\r\u001b[K     |██████████████████              | 163 kB 32.2 MB/s eta 0:00:01\r\u001b[K     |███████████████████▏            | 174 kB 32.2 MB/s eta 0:00:01\r\u001b[K     |████████████████████▎           | 184 kB 32.2 MB/s eta 0:00:01\r\u001b[K     |█████████████████████▍          | 194 kB 32.2 MB/s eta 0:00:01\r\u001b[K     |██████████████████████▌         | 204 kB 32.2 MB/s eta 0:00:01\r\u001b[K     |███████████████████████▊        | 215 kB 32.2 MB/s eta 0:00:01\r\u001b[K     |████████████████████████▉       | 225 kB 32.2 MB/s eta 0:00:01\r\u001b[K     |██████████████████████████      | 235 kB 32.2 MB/s eta 0:00:01\r\u001b[K     |███████████████████████████     | 245 kB 32.2 MB/s eta 0:00:01\r\u001b[K     |████████████████████████████▏   | 256 kB 32.2 MB/s eta 0:00:01\r\u001b[K     |█████████████████████████████▎  | 266 kB 32.2 MB/s eta 0:00:01\r\u001b[K     |██████████████████████████████▍ | 276 kB 32.2 MB/s eta 0:00:01\r\u001b[K     |███████████████████████████████▋| 286 kB 32.2 MB/s eta 0:00:01\r\u001b[K     |████████████████████████████████| 290 kB 32.2 MB/s \n",
            "\u001b[?25hRequirement already satisfied: transformers in /usr/local/lib/python3.7/dist-packages (4.12.5)\n",
            "Requirement already satisfied: numpy>=1.17 in /usr/local/lib/python3.7/dist-packages (from datasets) (1.19.5)\n",
            "Requirement already satisfied: tqdm>=4.62.1 in /usr/local/lib/python3.7/dist-packages (from datasets) (4.62.3)\n",
            "Requirement already satisfied: importlib-metadata in /usr/local/lib/python3.7/dist-packages (from datasets) (4.8.2)\n",
            "Requirement already satisfied: requests>=2.19.0 in /usr/local/lib/python3.7/dist-packages (from datasets) (2.23.0)\n",
            "Requirement already satisfied: multiprocess in /usr/local/lib/python3.7/dist-packages (from datasets) (0.70.12.2)\n",
            "Collecting aiohttp\n",
            "  Downloading aiohttp-3.8.1-cp37-cp37m-manylinux_2_5_x86_64.manylinux1_x86_64.manylinux_2_12_x86_64.manylinux2010_x86_64.whl (1.1 MB)\n",
            "\u001b[K     |████████████████████████████████| 1.1 MB 31.8 MB/s \n",
            "\u001b[?25hRequirement already satisfied: pyarrow!=4.0.0,>=1.0.0 in /usr/local/lib/python3.7/dist-packages (from datasets) (3.0.0)\n",
            "Collecting xxhash\n",
            "  Downloading xxhash-2.0.2-cp37-cp37m-manylinux2010_x86_64.whl (243 kB)\n",
            "\u001b[K     |████████████████████████████████| 243 kB 50.0 MB/s \n",
            "\u001b[?25hRequirement already satisfied: packaging in /usr/local/lib/python3.7/dist-packages (from datasets) (21.3)\n",
            "Requirement already satisfied: dill in /usr/local/lib/python3.7/dist-packages (from datasets) (0.3.4)\n",
            "Requirement already satisfied: huggingface-hub<1.0.0,>=0.1.0 in /usr/local/lib/python3.7/dist-packages (from datasets) (0.1.2)\n",
            "Requirement already satisfied: pandas in /usr/local/lib/python3.7/dist-packages (from datasets) (1.1.5)\n",
            "Collecting fsspec[http]>=2021.05.0\n",
            "  Downloading fsspec-2021.11.0-py3-none-any.whl (132 kB)\n",
            "\u001b[K     |████████████████████████████████| 132 kB 41.9 MB/s \n",
            "\u001b[?25hRequirement already satisfied: pyyaml in /usr/local/lib/python3.7/dist-packages (from huggingface-hub<1.0.0,>=0.1.0->datasets) (6.0)\n",
            "Requirement already satisfied: typing-extensions>=3.7.4.3 in /usr/local/lib/python3.7/dist-packages (from huggingface-hub<1.0.0,>=0.1.0->datasets) (3.10.0.2)\n",
            "Requirement already satisfied: filelock in /usr/local/lib/python3.7/dist-packages (from huggingface-hub<1.0.0,>=0.1.0->datasets) (3.4.0)\n",
            "Requirement already satisfied: pyparsing!=3.0.5,>=2.0.2 in /usr/local/lib/python3.7/dist-packages (from packaging->datasets) (3.0.6)\n",
            "Requirement already satisfied: urllib3!=1.25.0,!=1.25.1,<1.26,>=1.21.1 in /usr/local/lib/python3.7/dist-packages (from requests>=2.19.0->datasets) (1.24.3)\n",
            "Requirement already satisfied: idna<3,>=2.5 in /usr/local/lib/python3.7/dist-packages (from requests>=2.19.0->datasets) (2.10)\n",
            "Requirement already satisfied: chardet<4,>=3.0.2 in /usr/local/lib/python3.7/dist-packages (from requests>=2.19.0->datasets) (3.0.4)\n",
            "Requirement already satisfied: certifi>=2017.4.17 in /usr/local/lib/python3.7/dist-packages (from requests>=2.19.0->datasets) (2021.10.8)\n",
            "Requirement already satisfied: sacremoses in /usr/local/lib/python3.7/dist-packages (from transformers) (0.0.46)\n",
            "Requirement already satisfied: tokenizers<0.11,>=0.10.1 in /usr/local/lib/python3.7/dist-packages (from transformers) (0.10.3)\n",
            "Requirement already satisfied: regex!=2019.12.17 in /usr/local/lib/python3.7/dist-packages (from transformers) (2019.12.20)\n",
            "Requirement already satisfied: attrs>=17.3.0 in /usr/local/lib/python3.7/dist-packages (from aiohttp->datasets) (21.2.0)\n",
            "Collecting asynctest==0.13.0\n",
            "  Downloading asynctest-0.13.0-py3-none-any.whl (26 kB)\n",
            "Collecting multidict<7.0,>=4.5\n",
            "  Downloading multidict-5.2.0-cp37-cp37m-manylinux_2_5_x86_64.manylinux1_x86_64.manylinux_2_12_x86_64.manylinux2010_x86_64.whl (160 kB)\n",
            "\u001b[K     |████████████████████████████████| 160 kB 55.5 MB/s \n",
            "\u001b[?25hCollecting yarl<2.0,>=1.0\n",
            "  Downloading yarl-1.7.2-cp37-cp37m-manylinux_2_5_x86_64.manylinux1_x86_64.manylinux_2_12_x86_64.manylinux2010_x86_64.whl (271 kB)\n",
            "\u001b[K     |████████████████████████████████| 271 kB 66.6 MB/s \n",
            "\u001b[?25hCollecting async-timeout<5.0,>=4.0.0a3\n",
            "  Downloading async_timeout-4.0.1-py3-none-any.whl (5.7 kB)\n",
            "Requirement already satisfied: charset-normalizer<3.0,>=2.0 in /usr/local/lib/python3.7/dist-packages (from aiohttp->datasets) (2.0.7)\n",
            "Collecting aiosignal>=1.1.2\n",
            "  Downloading aiosignal-1.2.0-py3-none-any.whl (8.2 kB)\n",
            "Collecting frozenlist>=1.1.1\n",
            "  Downloading frozenlist-1.2.0-cp37-cp37m-manylinux_2_5_x86_64.manylinux1_x86_64.manylinux_2_12_x86_64.manylinux2010_x86_64.whl (192 kB)\n",
            "\u001b[K     |████████████████████████████████| 192 kB 62.0 MB/s \n",
            "\u001b[?25hRequirement already satisfied: zipp>=0.5 in /usr/local/lib/python3.7/dist-packages (from importlib-metadata->datasets) (3.6.0)\n",
            "Requirement already satisfied: pytz>=2017.2 in /usr/local/lib/python3.7/dist-packages (from pandas->datasets) (2018.9)\n",
            "Requirement already satisfied: python-dateutil>=2.7.3 in /usr/local/lib/python3.7/dist-packages (from pandas->datasets) (2.8.2)\n",
            "Requirement already satisfied: six>=1.5 in /usr/local/lib/python3.7/dist-packages (from python-dateutil>=2.7.3->pandas->datasets) (1.15.0)\n",
            "Requirement already satisfied: joblib in /usr/local/lib/python3.7/dist-packages (from sacremoses->transformers) (1.1.0)\n",
            "Requirement already satisfied: click in /usr/local/lib/python3.7/dist-packages (from sacremoses->transformers) (7.1.2)\n",
            "Installing collected packages: multidict, frozenlist, yarl, asynctest, async-timeout, aiosignal, fsspec, aiohttp, xxhash, datasets\n",
            "Successfully installed aiohttp-3.8.1 aiosignal-1.2.0 async-timeout-4.0.1 asynctest-0.13.0 datasets-1.15.1 frozenlist-1.2.0 fsspec-2021.11.0 multidict-5.2.0 xxhash-2.0.2 yarl-1.7.2\n"
          ]
        }
      ]
    },
    {
      "cell_type": "code",
      "metadata": {
        "colab": {
          "base_uri": "https://localhost:8080/",
          "height": 81
        },
        "id": "MePRy6_dbEzQ",
        "outputId": "9c8578bb-5642-4032-f2ae-158ce0e0987b"
      },
      "source": [
        "from datasets import load_metric\n",
        "\n",
        "squad_v2 = False\n",
        "\n",
        "metric = load_metric(\"squad_v2\" if squad_v2 else \"squad\")"
      ],
      "execution_count": null,
      "outputs": [
        {
          "data": {
            "application/vnd.jupyter.widget-view+json": {
              "model_id": "a79c1f9b6d74486ebcf049747071117e",
              "version_major": 2,
              "version_minor": 0
            },
            "text/plain": [
              "Downloading:   0%|          | 0.00/1.73k [00:00<?, ?B/s]"
            ]
          },
          "metadata": {},
          "output_type": "display_data"
        },
        {
          "data": {
            "application/vnd.jupyter.widget-view+json": {
              "model_id": "7417e1cf495045298385e9f8a301fa76",
              "version_major": 2,
              "version_minor": 0
            },
            "text/plain": [
              "Downloading:   0%|          | 0.00/1.12k [00:00<?, ?B/s]"
            ]
          },
          "metadata": {},
          "output_type": "display_data"
        }
      ]
    },
    {
      "cell_type": "code",
      "metadata": {
        "id": "ZxprLq94bEzQ"
      },
      "source": [
        "from transformers import pipeline\n",
        "\n",
        "model_name = \"deepset/roberta-base-squad2\"\n",
        "model = pipeline(model=model_name, tokenizer=model_name, task=\"question-answering\")\n"
      ],
      "execution_count": null,
      "outputs": []
    },
    {
      "cell_type": "code",
      "metadata": {
        "colab": {
          "base_uri": "https://localhost:8080/"
        },
        "id": "kJTbsNUrbEzQ",
        "outputId": "1144546c-332c-4337-eecf-77765996018b"
      },
      "source": [
        "formatted_predictions=list()\n",
        "references=list()\n",
        "for d in data:\n",
        "  r=d[\"data\"]\n",
        "  result = model(question = r[\"question\"],context=r[\"context\"])\n",
        "  references.append({\"id\": r[\"id\"], \"answers\": r[\"answers\"]})\n",
        "  formatted_predictions.append({\"id\": r[\"id\"], \"prediction_text\": result['answer']})\n",
        "\n"
      ],
      "execution_count": null,
      "outputs": [
        {
          "name": "stderr",
          "output_type": "stream",
          "text": [
            "/usr/local/lib/python3.7/dist-packages/numpy/core/_asarray.py:83: VisibleDeprecationWarning: Creating an ndarray from ragged nested sequences (which is a list-or-tuple of lists-or-tuples-or ndarrays with different lengths or shapes) is deprecated. If you meant to do this, you must specify 'dtype=object' when creating the ndarray\n",
            "  return array(a, dtype, copy=False, order=order)\n"
          ]
        }
      ]
    },
    {
      "cell_type": "code",
      "metadata": {
        "colab": {
          "base_uri": "https://localhost:8080/"
        },
        "id": "9xp9MtR_bEzQ",
        "outputId": "9ee02da5-753e-447d-ec04-348a5b73458a"
      },
      "source": [
        "metric.compute(predictions=formatted_predictions, references=references)"
      ],
      "execution_count": null,
      "outputs": [
        {
          "data": {
            "text/plain": [
              "{'exact_match': 14.563106796116505, 'f1': 50.58989896858574}"
            ]
          },
          "execution_count": 72,
          "metadata": {},
          "output_type": "execute_result"
        }
      ]
    },
    {
      "cell_type": "code",
      "metadata": {
        "id": "h5aIEEQVbEzQ"
      },
      "source": [
        "print(formatted_predictions,file=open(\"Predictions/prediction_roberta.txt\",\"w\"))\n",
        "print(references,file=open(\"Predictions/references.txt\",\"w\"))"
      ],
      "execution_count": null,
      "outputs": []
    },
    {
      "cell_type": "code",
      "metadata": {
        "colab": {
          "base_uri": "https://localhost:8080/",
          "height": 209
        },
        "id": "i5TrVnYjbEzQ",
        "outputId": "7d158e7c-3653-4af7-9aa9-be54e9fbc312"
      },
      "source": [
        "model_name = \"mrm8488/longformer-base-4096-finetuned-squadv2\"\n",
        "\n",
        "model = pipeline(model=model_name, tokenizer=model_name, task=\"question-answering\")\n"
      ],
      "execution_count": null,
      "outputs": [
        {
          "data": {
            "application/vnd.jupyter.widget-view+json": {
              "model_id": "1f79b9152ef8496c88b3cc23ea9a2506",
              "version_major": 2,
              "version_minor": 0
            },
            "text/plain": [
              "Downloading:   0%|          | 0.00/757 [00:00<?, ?B/s]"
            ]
          },
          "metadata": {},
          "output_type": "display_data"
        },
        {
          "data": {
            "application/vnd.jupyter.widget-view+json": {
              "model_id": "6c1b48a6d93545a19f5ac432ad6a826b",
              "version_major": 2,
              "version_minor": 0
            },
            "text/plain": [
              "Downloading:   0%|          | 0.00/567M [00:00<?, ?B/s]"
            ]
          },
          "metadata": {},
          "output_type": "display_data"
        },
        {
          "data": {
            "application/vnd.jupyter.widget-view+json": {
              "model_id": "e81c4cfb9aab443992023db5daa7f575",
              "version_major": 2,
              "version_minor": 0
            },
            "text/plain": [
              "Downloading:   0%|          | 0.00/26.0 [00:00<?, ?B/s]"
            ]
          },
          "metadata": {},
          "output_type": "display_data"
        },
        {
          "data": {
            "application/vnd.jupyter.widget-view+json": {
              "model_id": "56651868be8843ea89ce35a08a2f106d",
              "version_major": 2,
              "version_minor": 0
            },
            "text/plain": [
              "Downloading:   0%|          | 0.00/780k [00:00<?, ?B/s]"
            ]
          },
          "metadata": {},
          "output_type": "display_data"
        },
        {
          "data": {
            "application/vnd.jupyter.widget-view+json": {
              "model_id": "65f009926fe3498589ea89eb73f856ac",
              "version_major": 2,
              "version_minor": 0
            },
            "text/plain": [
              "Downloading:   0%|          | 0.00/446k [00:00<?, ?B/s]"
            ]
          },
          "metadata": {},
          "output_type": "display_data"
        },
        {
          "data": {
            "application/vnd.jupyter.widget-view+json": {
              "model_id": "d050a73dc8fc490f9f53e7e32f1e4e83",
              "version_major": 2,
              "version_minor": 0
            },
            "text/plain": [
              "Downloading:   0%|          | 0.00/150 [00:00<?, ?B/s]"
            ]
          },
          "metadata": {},
          "output_type": "display_data"
        }
      ]
    },
    {
      "cell_type": "code",
      "metadata": {
        "colab": {
          "background_save": true,
          "base_uri": "https://localhost:8080/"
        },
        "id": "MNe5JSXSbEzQ",
        "outputId": "2d04491a-dddf-4004-9e9c-95b06b8ccd80"
      },
      "source": [
        "formatted_predictions=list()\n",
        "references=list()\n",
        "for d in data:\n",
        "  r=d[\"data\"]\n",
        "  result = model(question = r[\"question\"],context=r[\"context\"])\n",
        "  references.append({\"id\": r[\"id\"], \"answers\": r[\"answers\"]})\n",
        "  formatted_predictions.append({\"id\": r[\"id\"], \"prediction_text\": result['answer']})\n",
        "\n"
      ],
      "execution_count": null,
      "outputs": [
        {
          "name": "stderr",
          "output_type": "stream",
          "text": [
            "/usr/local/lib/python3.7/dist-packages/numpy/core/_asarray.py:83: VisibleDeprecationWarning: Creating an ndarray from ragged nested sequences (which is a list-or-tuple of lists-or-tuples-or ndarrays with different lengths or shapes) is deprecated. If you meant to do this, you must specify 'dtype=object' when creating the ndarray\n",
            "  return array(a, dtype, copy=False, order=order)\n"
          ]
        }
      ]
    },
    {
      "cell_type": "code",
      "metadata": {
        "colab": {
          "background_save": true
        },
        "id": "xUO_ViqHbEzQ",
        "outputId": "6ea6f552-7581-4794-a25e-9ec2f88e71ea"
      },
      "source": [
        "metric.compute(predictions=formatted_predictions, references=references)"
      ],
      "execution_count": null,
      "outputs": [
        {
          "data": {
            "text/plain": [
              "{'exact_match': 13.592233009708737, 'f1': 45.494179337665344}"
            ]
          },
          "execution_count": null,
          "metadata": {},
          "output_type": "execute_result"
        }
      ]
    },
    {
      "cell_type": "code",
      "metadata": {
        "colab": {
          "background_save": true
        },
        "id": "VBOwP5OCbEzQ"
      },
      "source": [
        "print(formatted_predictions,file=open(\"Predictions/prediction_longformer.txt\",\"w\"))"
      ],
      "execution_count": null,
      "outputs": []
    },
    {
      "cell_type": "code",
      "metadata": {
        "colab": {
          "background_save": true
        },
        "id": "1XhXJUu6bEzQ",
        "outputId": "f5a54c44-b14d-4bdc-bc4e-8ef86c568a87"
      },
      "source": [
        "model_name = \"bert-large-uncased-whole-word-masking-finetuned-squad\"\n",
        "\n",
        "model = pipeline(model=model_name, tokenizer=model_name, task=\"question-answering\")\n"
      ],
      "execution_count": null,
      "outputs": [
        {
          "data": {
            "application/vnd.jupyter.widget-view+json": {
              "model_id": "343f9e85f5b74ed4a48eb3dee7b0fc8e",
              "version_major": 2,
              "version_minor": 0
            },
            "text/plain": [
              "Downloading:   0%|          | 0.00/443 [00:00<?, ?B/s]"
            ]
          },
          "metadata": {},
          "output_type": "display_data"
        },
        {
          "data": {
            "application/vnd.jupyter.widget-view+json": {
              "model_id": "7f2e3890b54d493db187920a8195b703",
              "version_major": 2,
              "version_minor": 0
            },
            "text/plain": [
              "Downloading:   0%|          | 0.00/1.25G [00:00<?, ?B/s]"
            ]
          },
          "metadata": {},
          "output_type": "display_data"
        },
        {
          "data": {
            "application/vnd.jupyter.widget-view+json": {
              "model_id": "51d493d94dc745deb84ac6312e96073c",
              "version_major": 2,
              "version_minor": 0
            },
            "text/plain": [
              "Downloading:   0%|          | 0.00/28.0 [00:00<?, ?B/s]"
            ]
          },
          "metadata": {},
          "output_type": "display_data"
        },
        {
          "data": {
            "application/vnd.jupyter.widget-view+json": {
              "model_id": "ca9719829634433a9ab23ea31b1026c8",
              "version_major": 2,
              "version_minor": 0
            },
            "text/plain": [
              "Downloading:   0%|          | 0.00/226k [00:00<?, ?B/s]"
            ]
          },
          "metadata": {},
          "output_type": "display_data"
        },
        {
          "data": {
            "application/vnd.jupyter.widget-view+json": {
              "model_id": "2806ea5ea46447b69d107ff3092610a2",
              "version_major": 2,
              "version_minor": 0
            },
            "text/plain": [
              "Downloading:   0%|          | 0.00/455k [00:00<?, ?B/s]"
            ]
          },
          "metadata": {},
          "output_type": "display_data"
        }
      ]
    },
    {
      "cell_type": "code",
      "metadata": {
        "colab": {
          "background_save": true
        },
        "id": "iUtLUciHbEzQ",
        "outputId": "d5b32829-81ad-46d3-9bbd-7f5c63252806"
      },
      "source": [
        "formatted_predictions=list()\n",
        "references=list()\n",
        "for d in data:\n",
        "  r=d[\"data\"]\n",
        "  result = model(question = r[\"question\"],context=r[\"context\"])\n",
        "  references.append({\"id\": r[\"id\"], \"answers\": r[\"answers\"]})\n",
        "  formatted_predictions.append({\"id\": r[\"id\"], \"prediction_text\": result['answer']})\n",
        "\n"
      ],
      "execution_count": null,
      "outputs": [
        {
          "name": "stderr",
          "output_type": "stream",
          "text": [
            "/usr/local/lib/python3.7/dist-packages/numpy/core/_asarray.py:83: VisibleDeprecationWarning: Creating an ndarray from ragged nested sequences (which is a list-or-tuple of lists-or-tuples-or ndarrays with different lengths or shapes) is deprecated. If you meant to do this, you must specify 'dtype=object' when creating the ndarray\n",
            "  return array(a, dtype, copy=False, order=order)\n"
          ]
        }
      ]
    },
    {
      "cell_type": "code",
      "metadata": {
        "colab": {
          "background_save": true
        },
        "id": "C5O2NqzzbEzQ",
        "outputId": "a39254e0-210a-449e-a0fe-1a7d4af362f9"
      },
      "source": [
        "metric.compute(predictions=formatted_predictions, references=references)"
      ],
      "execution_count": null,
      "outputs": [
        {
          "data": {
            "text/plain": [
              "{'exact_match': 15.533980582524272, 'f1': 53.892569072829474}"
            ]
          },
          "execution_count": null,
          "metadata": {},
          "output_type": "execute_result"
        }
      ]
    },
    {
      "cell_type": "code",
      "metadata": {
        "colab": {
          "background_save": true
        },
        "id": "w_N9sNuRbEzQ"
      },
      "source": [
        "print(formatted_predictions,file=open(\"Predictions/prediction_bert.txt\",\"w\"))"
      ],
      "execution_count": null,
      "outputs": []
    },
    {
      "cell_type": "code",
      "metadata": {
        "colab": {
          "background_save": true
        },
        "id": "VGkNOycDbEzQ",
        "outputId": "9636e26b-0c1e-49b3-e3c5-bfb3bdf3b734"
      },
      "source": [
        "model_name = \"mrm8488/spanbert-finetuned-squadv1\"\n",
        "\n",
        "model = pipeline(model=model_name, tokenizer=model_name, task=\"question-answering\")"
      ],
      "execution_count": null,
      "outputs": [
        {
          "data": {
            "application/vnd.jupyter.widget-view+json": {
              "model_id": "35931ce0c5b7474d961bdbb29aac471a",
              "version_major": 2,
              "version_minor": 0
            },
            "text/plain": [
              "Downloading:   0%|          | 0.00/493 [00:00<?, ?B/s]"
            ]
          },
          "metadata": {},
          "output_type": "display_data"
        },
        {
          "data": {
            "application/vnd.jupyter.widget-view+json": {
              "model_id": "38eb136e35e14e76a844c6aae87a6228",
              "version_major": 2,
              "version_minor": 0
            },
            "text/plain": [
              "Downloading:   0%|          | 0.00/413M [00:00<?, ?B/s]"
            ]
          },
          "metadata": {},
          "output_type": "display_data"
        },
        {
          "data": {
            "application/vnd.jupyter.widget-view+json": {
              "model_id": "83def4394f9e4abab172c2cedca595ce",
              "version_major": 2,
              "version_minor": 0
            },
            "text/plain": [
              "Downloading:   0%|          | 0.00/24.0 [00:00<?, ?B/s]"
            ]
          },
          "metadata": {},
          "output_type": "display_data"
        },
        {
          "data": {
            "application/vnd.jupyter.widget-view+json": {
              "model_id": "174fa0a772504fe8b333d1ddac1be200",
              "version_major": 2,
              "version_minor": 0
            },
            "text/plain": [
              "Downloading:   0%|          | 0.00/208k [00:00<?, ?B/s]"
            ]
          },
          "metadata": {},
          "output_type": "display_data"
        },
        {
          "data": {
            "application/vnd.jupyter.widget-view+json": {
              "model_id": "1e63e7db5a53418e822c0c61da14958d",
              "version_major": 2,
              "version_minor": 0
            },
            "text/plain": [
              "Downloading:   0%|          | 0.00/112 [00:00<?, ?B/s]"
            ]
          },
          "metadata": {},
          "output_type": "display_data"
        }
      ]
    },
    {
      "cell_type": "code",
      "metadata": {
        "colab": {
          "background_save": true
        },
        "id": "rDkm1AxObEzQ",
        "outputId": "e0566fef-6fc3-4f75-de93-090322b7367f"
      },
      "source": [
        "formatted_predictions=list()\n",
        "references=list()\n",
        "for d in data:\n",
        "  r=d[\"data\"]\n",
        "  result = model(question = r[\"question\"],context=r[\"context\"])\n",
        "  references.append({\"id\": r[\"id\"], \"answers\": r[\"answers\"]})\n",
        "  formatted_predictions.append({\"id\": r[\"id\"], \"prediction_text\": result['answer']})\n",
        "\n"
      ],
      "execution_count": null,
      "outputs": [
        {
          "name": "stderr",
          "output_type": "stream",
          "text": [
            "/usr/local/lib/python3.7/dist-packages/numpy/core/_asarray.py:83: VisibleDeprecationWarning: Creating an ndarray from ragged nested sequences (which is a list-or-tuple of lists-or-tuples-or ndarrays with different lengths or shapes) is deprecated. If you meant to do this, you must specify 'dtype=object' when creating the ndarray\n",
            "  return array(a, dtype, copy=False, order=order)\n"
          ]
        }
      ]
    },
    {
      "cell_type": "code",
      "metadata": {
        "colab": {
          "background_save": true
        },
        "id": "4BjdAczXbEzQ",
        "outputId": "f0e95058-44b3-497b-c3a2-560a4cd334c3"
      },
      "source": [
        "metric.compute(predictions=formatted_predictions, references=references)"
      ],
      "execution_count": null,
      "outputs": [
        {
          "data": {
            "text/plain": [
              "{'exact_match': 11.650485436893204, 'f1': 46.83910790924299}"
            ]
          },
          "execution_count": null,
          "metadata": {},
          "output_type": "execute_result"
        }
      ]
    },
    {
      "cell_type": "code",
      "metadata": {
        "colab": {
          "background_save": true
        },
        "id": "qtpK81NjbEzQ"
      },
      "source": [
        "print(formatted_predictions,file=open(\"Predictions/prediction_spanbert.txt\",\"w\"))"
      ],
      "execution_count": null,
      "outputs": []
    },
    {
      "cell_type": "code",
      "metadata": {
        "colab": {
          "background_save": true
        },
        "id": "2WQdq9aybEzQ",
        "outputId": "26b7fddf-9903-49a2-bde6-dbba05bbcb49"
      },
      "source": [
        "model_name = \"deepset/bert-base-cased-squad2\"\n",
        "\n",
        "model = pipeline(model=model_name, tokenizer=model_name, task=\"question-answering\")\n"
      ],
      "execution_count": null,
      "outputs": [
        {
          "data": {
            "application/vnd.jupyter.widget-view+json": {
              "model_id": "64c8d581c10d4cdab9db2d7b66b2bf0e",
              "version_major": 2,
              "version_minor": 0
            },
            "text/plain": [
              "Downloading:   0%|          | 0.00/508 [00:00<?, ?B/s]"
            ]
          },
          "metadata": {},
          "output_type": "display_data"
        },
        {
          "data": {
            "application/vnd.jupyter.widget-view+json": {
              "model_id": "eb295c35745449c88d067f24803ef71f",
              "version_major": 2,
              "version_minor": 0
            },
            "text/plain": [
              "Downloading:   0%|          | 0.00/413M [00:00<?, ?B/s]"
            ]
          },
          "metadata": {},
          "output_type": "display_data"
        },
        {
          "data": {
            "application/vnd.jupyter.widget-view+json": {
              "model_id": "43f33cc50f5348d4900ba6d16e89097e",
              "version_major": 2,
              "version_minor": 0
            },
            "text/plain": [
              "Downloading:   0%|          | 0.00/152 [00:00<?, ?B/s]"
            ]
          },
          "metadata": {},
          "output_type": "display_data"
        },
        {
          "data": {
            "application/vnd.jupyter.widget-view+json": {
              "model_id": "426b9e0d96aa4f8fa2ca07f0ba19bcb9",
              "version_major": 2,
              "version_minor": 0
            },
            "text/plain": [
              "Downloading:   0%|          | 0.00/208k [00:00<?, ?B/s]"
            ]
          },
          "metadata": {},
          "output_type": "display_data"
        },
        {
          "data": {
            "application/vnd.jupyter.widget-view+json": {
              "model_id": "5bea63e64298424dabe48595ccaa7b61",
              "version_major": 2,
              "version_minor": 0
            },
            "text/plain": [
              "Downloading:   0%|          | 0.00/112 [00:00<?, ?B/s]"
            ]
          },
          "metadata": {},
          "output_type": "display_data"
        }
      ]
    },
    {
      "cell_type": "code",
      "metadata": {
        "colab": {
          "background_save": true
        },
        "id": "Gp8KW8BebEzQ",
        "outputId": "bed0fcbf-2b33-4f7e-fd2c-7870ac547894"
      },
      "source": [
        "formatted_predictions=list()\n",
        "references=list()\n",
        "for d in data:\n",
        "  r=d[\"data\"]\n",
        "  result = model(question = r[\"question\"],context=r[\"context\"])\n",
        "  references.append({\"id\": r[\"id\"], \"answers\": r[\"answers\"]})\n",
        "  formatted_predictions.append({\"id\": r[\"id\"], \"prediction_text\": result['answer']})\n"
      ],
      "execution_count": null,
      "outputs": [
        {
          "name": "stderr",
          "output_type": "stream",
          "text": [
            "/usr/local/lib/python3.7/dist-packages/numpy/core/_asarray.py:83: VisibleDeprecationWarning: Creating an ndarray from ragged nested sequences (which is a list-or-tuple of lists-or-tuples-or ndarrays with different lengths or shapes) is deprecated. If you meant to do this, you must specify 'dtype=object' when creating the ndarray\n",
            "  return array(a, dtype, copy=False, order=order)\n"
          ]
        }
      ]
    },
    {
      "cell_type": "code",
      "metadata": {
        "colab": {
          "background_save": true
        },
        "id": "W1uFv440bEzQ",
        "outputId": "eda6e473-2fb4-4a8c-ff0b-a17789a29af3"
      },
      "source": [
        "metric.compute(predictions=formatted_predictions, references=references)"
      ],
      "execution_count": null,
      "outputs": [
        {
          "data": {
            "text/plain": [
              "{'exact_match': 10.679611650485437, 'f1': 41.617463559093416}"
            ]
          },
          "execution_count": null,
          "metadata": {},
          "output_type": "execute_result"
        }
      ]
    },
    {
      "cell_type": "code",
      "metadata": {
        "colab": {
          "background_save": true
        },
        "id": "O1XHvSCebEzQ"
      },
      "source": [
        "print(formatted_predictions,file=open(\"Predictions/prediction_deepsetBertbase.txt\",\"w\"))"
      ],
      "execution_count": null,
      "outputs": []
    },
    {
      "cell_type": "code",
      "metadata": {
        "colab": {
          "background_save": true
        },
        "id": "JhtODJ1SbEzQ"
      },
      "source": [
        ""
      ],
      "execution_count": null,
      "outputs": []
    },
    {
      "cell_type": "markdown",
      "metadata": {
        "id": "sYEOe6GfbEzQ"
      },
      "source": [
        "## Outputs collations"
      ]
    },
    {
      "cell_type": "code",
      "metadata": {
        "id": "A-kzwcDRbEzQ"
      },
      "source": [
        "import re\n",
        "data = dict()\n",
        "for fn in [\"prediction_bert.txt\",\"prediction_longformer.txt\",\"prediction_spanbert.txt\",\"prediction_deepsetBertbase.txt\",\"prediction_roberta.txt\",\"references.txt\"]:\n",
        "    temp = \"Predictions/\"\n",
        "    with open(temp + fn) as f:\n",
        "        file = f.read().strip('][')\n",
        "    try:\n",
        "        name=fn.split(\"prediction_\")[1]\n",
        "        temp= re.compile(\"(?<=prediction_text':).*?'}\")\n",
        "        results = re.findall(temp,file)\n",
        "        results =[r[2:-2] for r in results]\n",
        "    except:\n",
        "        name=fn\n",
        "        temp= re.compile(\"(?<=text': ).*?]\")\n",
        "        results = re.findall(temp,file)\n",
        "        results =[r[2:-2] for r in results]\n",
        "        \n",
        "    name=name.split(\".txt\")[0]\n",
        "    data[name]=results"
      ],
      "execution_count": null,
      "outputs": []
    },
    {
      "cell_type": "code",
      "metadata": {
        "id": "oSi3mDDFbEzQ"
      },
      "source": [
        "mo = pd.DataFrame(data)"
      ],
      "execution_count": null,
      "outputs": []
    },
    {
      "cell_type": "code",
      "metadata": {
        "colab": {
          "base_uri": "https://localhost:8080/",
          "height": 1000
        },
        "id": "Fa0CE0lPbEzQ",
        "outputId": "e1a377d8-1994-4d3e-f197-1696bd624d2a"
      },
      "source": [
        "mo[\"question\"] = df[\"question\"]\n",
        "temp = mo.columns.tolist()\n",
        "temp.remove(\"question\")\n",
        "temp.remove(\"references\")\n",
        "mo = mo[[\"question\",\"references\"]+temp]\n",
        "mo"
      ],
      "execution_count": null,
      "outputs": [
        {
          "data": {
            "text/html": [
              "<div>\n",
              "<style scoped>\n",
              "    .dataframe tbody tr th:only-of-type {\n",
              "        vertical-align: middle;\n",
              "    }\n",
              "\n",
              "    .dataframe tbody tr th {\n",
              "        vertical-align: top;\n",
              "    }\n",
              "\n",
              "    .dataframe thead th {\n",
              "        text-align: right;\n",
              "    }\n",
              "</style>\n",
              "<table border=\"1\" class=\"dataframe\">\n",
              "  <thead>\n",
              "    <tr style=\"text-align: right;\">\n",
              "      <th></th>\n",
              "      <th>question</th>\n",
              "      <th>references</th>\n",
              "      <th>bert</th>\n",
              "      <th>longformer</th>\n",
              "      <th>spanbert</th>\n",
              "      <th>deepsetBertbase</th>\n",
              "      <th>roberta</th>\n",
              "    </tr>\n",
              "  </thead>\n",
              "  <tbody>\n",
              "    <tr>\n",
              "      <th>0</th>\n",
              "      <td>Does an innocent recipient of UPSI have any de...</td>\n",
              "      <td>insider may prove his innocence by demonstrati...</td>\n",
              "      <td>It was proposed not to bring such a defense in...</td>\n",
              "      <td>An insider may prove his innocence</td>\n",
              "      <td>An insider may prove his innocence</td>\n",
              "      <td>An insider may prove his innocence</td>\n",
              "      <td>An insider may prove his innocence</td>\n",
              "    </tr>\n",
              "    <tr>\n",
              "      <th>1</th>\n",
              "      <td>Will a promoter group entity require a pre-cle...</td>\n",
              "      <td>only by \"Designated persons\" if the value of t...</td>\n",
              "      <td>will be required to obtain pre-clearance for t...</td>\n",
              "      <td>if designated as a \"designated person\" by the ...</td>\n",
              "      <td>a promoter</td>\n",
              "      <td>will be required to obtain pre-clearance for t...</td>\n",
              "      <td>pre-clearance is required to be obtained only ...</td>\n",
              "    </tr>\n",
              "    <tr>\n",
              "      <th>2</th>\n",
              "      <td>Is inter-se off-market transfer of shares betw...</td>\n",
              "      <td>promoters have the option to convert warrants ...</td>\n",
              "      <td>will also attract the contra-trade restriction...</td>\n",
              "      <td>may attract the contra-trade restrictions</td>\n",
              "      <td>if the promoters or members of the promoter group</td>\n",
              "      <td>will also attract the contra-trade restriction...</td>\n",
              "      <td>contra-trade restrictions</td>\n",
              "    </tr>\n",
              "    <tr>\n",
              "      <th>3</th>\n",
              "      <td>Can an AIF invest its unutilized funds in liqu...</td>\n",
              "      <td>may invest investment income or investment pro...</td>\n",
              "      <td>may invest investment income or investment pro...</td>\n",
              "      <td>in liquid mutual funds</td>\n",
              "      <td>liquid mutual funds</td>\n",
              "      <td>liquid</td>\n",
              "      <td>may invest investment income</td>\n",
              "    </tr>\n",
              "    <tr>\n",
              "      <th>4</th>\n",
              "      <td>What are the penal consequences of not furnish...</td>\n",
              "      <td>attract the penalty prescribed under section 1...</td>\n",
              "      <td>penalty prescribed under section 15A of the SE...</td>\n",
              "      <td>the Investigating Authority of SEBI</td>\n",
              "      <td>the penalty</td>\n",
              "      <td>the penalty</td>\n",
              "      <td>penalty prescribed under section 15A of the SE...</td>\n",
              "    </tr>\n",
              "    <tr>\n",
              "      <th>...</th>\n",
              "      <td>...</td>\n",
              "      <td>...</td>\n",
              "      <td>...</td>\n",
              "      <td>...</td>\n",
              "      <td>...</td>\n",
              "      <td>...</td>\n",
              "      <td>...</td>\n",
              "    </tr>\n",
              "    <tr>\n",
              "      <th>98</th>\n",
              "      <td>What is the Section 21 of Securities Contract ...</td>\n",
              "      <td>vehicles allowing for adding of projects in fu...</td>\n",
              "      <td>vehicles allowing for adding of projects in fu...</td>\n",
              "      <td>vehicles allowing for adding of projects in fu...</td>\n",
              "      <td>vehicles</td>\n",
              "      <td>vehicles allowing for adding of projects in fu...</td>\n",
              "      <td>vehicles allowing for adding of projects in fu...</td>\n",
              "    </tr>\n",
              "    <tr>\n",
              "      <th>99</th>\n",
              "      <td>What does the section 11A(2) of the SEBI Act do?</td>\n",
              "      <td>contains the basic framework for\\ncompanies to...</td>\n",
              "      <td>the basic framework for\\ncompanies to buy back...</td>\n",
              "      <td>the basic framework for\\ncompanies to buy back...</td>\n",
              "      <td>the basic framework for\\ncompanies to buy back...</td>\n",
              "      <td>the basic framework for\\ncompanies to buy back...</td>\n",
              "      <td>the basic framework for\\ncompanies to buy back...</td>\n",
              "    </tr>\n",
              "    <tr>\n",
              "      <th>100</th>\n",
              "      <td>What is the Clause-41 of Equity Listing Agreem...</td>\n",
              "      <td>every buy back shall\\nbe completed within a pe...</td>\n",
              "      <td>every buy back shall\\nbe completed within a pe...</td>\n",
              "      <td>every buy back shall\\nbe completed within a pe...</td>\n",
              "      <td>every buy back shall\\nbe completed within a pe...</td>\n",
              "      <td>every buy back shall\\nbe completed within a pe...</td>\n",
              "      <td>every buy back shall\\nbe completed within a pe...</td>\n",
              "    </tr>\n",
              "    <tr>\n",
              "      <th>101</th>\n",
              "      <td>What is the o SEBI Committee on Disclosures an...</td>\n",
              "      <td>prohibits only back to back\\nbuy backs through...</td>\n",
              "      <td>prohibits only back to back\\nbuy backs through...</td>\n",
              "      <td>prohibits only back to back\\nbuy backs through...</td>\n",
              "      <td>prohibits only back to back\\nbuy backs through...</td>\n",
              "      <td>prohibits only back to back\\nbuy backs through...</td>\n",
              "      <td>prohibits only back to back\\nbuy backs through...</td>\n",
              "    </tr>\n",
              "    <tr>\n",
              "      <th>102</th>\n",
              "      <td>What are the SEBI (Public Offer and Listing of...</td>\n",
              "      <td>The company shall ensure that the promoter or ...</td>\n",
              "      <td>“The company shall ensure that the promoter or...</td>\n",
              "      <td>The company shall ensure that the promoter or ...</td>\n",
              "      <td>“The company shall ensure that the promoter or...</td>\n",
              "      <td>the buy-back offer is open</td>\n",
              "      <td>The company shall ensure that the promoter or ...</td>\n",
              "    </tr>\n",
              "  </tbody>\n",
              "</table>\n",
              "<p>103 rows × 7 columns</p>\n",
              "</div>"
            ],
            "text/plain": [
              "                                              question  ...                                            roberta\n",
              "0    Does an innocent recipient of UPSI have any de...  ...                 An insider may prove his innocence\n",
              "1    Will a promoter group entity require a pre-cle...  ...  pre-clearance is required to be obtained only ...\n",
              "2    Is inter-se off-market transfer of shares betw...  ...                          contra-trade restrictions\n",
              "3    Can an AIF invest its unutilized funds in liqu...  ...                       may invest investment income\n",
              "4    What are the penal consequences of not furnish...  ...  penalty prescribed under section 15A of the SE...\n",
              "..                                                 ...  ...                                                ...\n",
              "98   What is the Section 21 of Securities Contract ...  ...  vehicles allowing for adding of projects in fu...\n",
              "99    What does the section 11A(2) of the SEBI Act do?  ...  the basic framework for\\ncompanies to buy back...\n",
              "100  What is the Clause-41 of Equity Listing Agreem...  ...  every buy back shall\\nbe completed within a pe...\n",
              "101  What is the o SEBI Committee on Disclosures an...  ...  prohibits only back to back\\nbuy backs through...\n",
              "102  What are the SEBI (Public Offer and Listing of...  ...  The company shall ensure that the promoter or ...\n",
              "\n",
              "[103 rows x 7 columns]"
            ]
          },
          "execution_count": 100,
          "metadata": {},
          "output_type": "execute_result"
        }
      ]
    },
    {
      "cell_type": "code",
      "metadata": {
        "id": "NnJYDwi_bEzQ"
      },
      "source": [
        "mo.to_csv(\"Predictions/ModelOutputs.csv\",index=False)"
      ],
      "execution_count": null,
      "outputs": []
    },
    {
      "cell_type": "code",
      "metadata": {
        "id": "5tFLBe-mCJYw"
      },
      "source": [
        ""
      ],
      "execution_count": null,
      "outputs": []
    }
  ]
}